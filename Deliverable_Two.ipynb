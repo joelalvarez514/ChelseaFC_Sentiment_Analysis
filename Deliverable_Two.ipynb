{
 "cells": [
  {
   "cell_type": "markdown",
   "metadata": {},
   "source": [
    "# Sentiment Prediction:\n",
    "- Logistic Regression\n",
    "- Random Forest"
   ]
  },
  {
   "cell_type": "code",
   "execution_count": 1,
   "metadata": {},
   "outputs": [],
   "source": [
    "import pandas as pd\n",
    "import numpy as np\n",
    "import sklearn\n",
    "import spacy "
   ]
  },
  {
   "cell_type": "code",
   "execution_count": 2,
   "metadata": {},
   "outputs": [],
   "source": [
    "import re\n",
    "import matplotlib.pyplot as plt"
   ]
  },
  {
   "cell_type": "code",
   "execution_count": 3,
   "metadata": {},
   "outputs": [
    {
     "data": {
      "text/html": [
       "        <script type=\"text/javascript\">\n",
       "        window.PlotlyConfig = {MathJaxConfig: 'local'};\n",
       "        if (window.MathJax) {MathJax.Hub.Config({SVG: {font: \"STIX-Web\"}});}\n",
       "        if (typeof require !== 'undefined') {\n",
       "        require.undef(\"plotly\");\n",
       "        requirejs.config({\n",
       "            paths: {\n",
       "                'plotly': ['https://cdn.plot.ly/plotly-latest.min']\n",
       "            }\n",
       "        });\n",
       "        require(['plotly'], function(Plotly) {\n",
       "            window._Plotly = Plotly;\n",
       "        });\n",
       "        }\n",
       "        </script>\n",
       "        "
      ]
     },
     "metadata": {},
     "output_type": "display_data"
    }
   ],
   "source": [
    "import seaborn as sns\n",
    "color = sns.color_palette()\n",
    "%matplotlib inline\n",
    "import plotly.offline as py\n",
    "py.init_notebook_mode(connected=True)\n",
    "import plotly.graph_objs as go\n",
    "import plotly.tools as tls\n",
    "import plotly.express as px"
   ]
  },
  {
   "cell_type": "code",
   "execution_count": 4,
   "metadata": {},
   "outputs": [],
   "source": [
    "import tweepy\n",
    "from textblob import TextBlob\n",
    "from wordcloud import WordCloud\n",
    "plt.style.use('fivethirtyeight')"
   ]
  },
  {
   "cell_type": "code",
   "execution_count": 9,
   "metadata": {},
   "outputs": [],
   "source": [
    "df = pd.read_csv('english_replies.csv')"
   ]
  },
  {
   "cell_type": "code",
   "execution_count": 10,
   "metadata": {
    "scrolled": false
   },
   "outputs": [
    {
     "data": {
      "text/html": [
       "<div>\n",
       "<style scoped>\n",
       "    .dataframe tbody tr th:only-of-type {\n",
       "        vertical-align: middle;\n",
       "    }\n",
       "\n",
       "    .dataframe tbody tr th {\n",
       "        vertical-align: top;\n",
       "    }\n",
       "\n",
       "    .dataframe thead th {\n",
       "        text-align: right;\n",
       "    }\n",
       "</style>\n",
       "<table border=\"1\" class=\"dataframe\">\n",
       "  <thead>\n",
       "    <tr style=\"text-align: right;\">\n",
       "      <th></th>\n",
       "      <th>Unnamed: 0</th>\n",
       "      <th>Unnamed: 0.1</th>\n",
       "      <th>X.1</th>\n",
       "      <th>X</th>\n",
       "      <th>user_id.x</th>\n",
       "      <th>status_id</th>\n",
       "      <th>created_at.x</th>\n",
       "      <th>screen_name.x</th>\n",
       "      <th>text</th>\n",
       "      <th>source.x</th>\n",
       "      <th>...</th>\n",
       "      <th>profile_image_url.y</th>\n",
       "      <th>W</th>\n",
       "      <th>L</th>\n",
       "      <th>D</th>\n",
       "      <th>date</th>\n",
       "      <th>W_true</th>\n",
       "      <th>year</th>\n",
       "      <th>Subjectivity</th>\n",
       "      <th>Polarity</th>\n",
       "      <th>Analysis</th>\n",
       "    </tr>\n",
       "  </thead>\n",
       "  <tbody>\n",
       "    <tr>\n",
       "      <th>0</th>\n",
       "      <td>0</td>\n",
       "      <td>5118</td>\n",
       "      <td>6141</td>\n",
       "      <td>1</td>\n",
       "      <td>2.468828e+09</td>\n",
       "      <td>1.161790e+18</td>\n",
       "      <td>2019-08-14 23:59:41</td>\n",
       "      <td>muttle9</td>\n",
       "      <td>4-3-3 works extremely well!</td>\n",
       "      <td>Twitter for Android</td>\n",
       "      <td>...</td>\n",
       "      <td>http://pbs.twimg.com/profile_images/1338595356...</td>\n",
       "      <td>0</td>\n",
       "      <td>1</td>\n",
       "      <td>0</td>\n",
       "      <td>2019-08-14</td>\n",
       "      <td>0</td>\n",
       "      <td>2019</td>\n",
       "      <td>1.000000</td>\n",
       "      <td>-0.15625</td>\n",
       "      <td>Negative</td>\n",
       "    </tr>\n",
       "    <tr>\n",
       "      <th>1</th>\n",
       "      <td>2</td>\n",
       "      <td>5120</td>\n",
       "      <td>6143</td>\n",
       "      <td>3</td>\n",
       "      <td>7.086827e+17</td>\n",
       "      <td>1.161789e+18</td>\n",
       "      <td>2019-08-14 23:58:43</td>\n",
       "      <td>amirshwki</td>\n",
       "      <td>Great game\\nKeep up\\nLove from IRAQ</td>\n",
       "      <td>Twitter for iPhone</td>\n",
       "      <td>...</td>\n",
       "      <td>http://pbs.twimg.com/profile_images/1338595356...</td>\n",
       "      <td>0</td>\n",
       "      <td>1</td>\n",
       "      <td>0</td>\n",
       "      <td>2019-08-14</td>\n",
       "      <td>0</td>\n",
       "      <td>2019</td>\n",
       "      <td>0.583333</td>\n",
       "      <td>0.30000</td>\n",
       "      <td>Positive</td>\n",
       "    </tr>\n",
       "    <tr>\n",
       "      <th>2</th>\n",
       "      <td>3</td>\n",
       "      <td>5121</td>\n",
       "      <td>6145</td>\n",
       "      <td>5</td>\n",
       "      <td>8.380335e+17</td>\n",
       "      <td>1.161789e+18</td>\n",
       "      <td>2019-08-14 23:58:23</td>\n",
       "      <td>pbanks5050</td>\n",
       "      <td>All day, Everyday !</td>\n",
       "      <td>Twitter for iPhone</td>\n",
       "      <td>...</td>\n",
       "      <td>http://pbs.twimg.com/profile_images/1338595356...</td>\n",
       "      <td>0</td>\n",
       "      <td>1</td>\n",
       "      <td>0</td>\n",
       "      <td>2019-08-14</td>\n",
       "      <td>0</td>\n",
       "      <td>2019</td>\n",
       "      <td>0.600000</td>\n",
       "      <td>-0.25000</td>\n",
       "      <td>Negative</td>\n",
       "    </tr>\n",
       "    <tr>\n",
       "      <th>3</th>\n",
       "      <td>4</td>\n",
       "      <td>5122</td>\n",
       "      <td>6146</td>\n",
       "      <td>6</td>\n",
       "      <td>1.087478e+18</td>\n",
       "      <td>1.161789e+18</td>\n",
       "      <td>2019-08-14 23:57:21</td>\n",
       "      <td>MyrtilNathanae1</td>\n",
       "      <td>I trust in Frank Lampard and it's gonna be a ...</td>\n",
       "      <td>Twitter for Android</td>\n",
       "      <td>...</td>\n",
       "      <td>http://pbs.twimg.com/profile_images/1338595356...</td>\n",
       "      <td>0</td>\n",
       "      <td>1</td>\n",
       "      <td>0</td>\n",
       "      <td>2019-08-14</td>\n",
       "      <td>0</td>\n",
       "      <td>2019</td>\n",
       "      <td>0.750000</td>\n",
       "      <td>0.80000</td>\n",
       "      <td>Positive</td>\n",
       "    </tr>\n",
       "    <tr>\n",
       "      <th>4</th>\n",
       "      <td>5</td>\n",
       "      <td>5123</td>\n",
       "      <td>6147</td>\n",
       "      <td>7</td>\n",
       "      <td>1.087478e+18</td>\n",
       "      <td>1.161789e+18</td>\n",
       "      <td>2019-08-14 23:56:28</td>\n",
       "      <td>MyrtilNathanae1</td>\n",
       "      <td>Great night guys just keep working and I tru...</td>\n",
       "      <td>Twitter for Android</td>\n",
       "      <td>...</td>\n",
       "      <td>http://pbs.twimg.com/profile_images/1338595356...</td>\n",
       "      <td>0</td>\n",
       "      <td>1</td>\n",
       "      <td>0</td>\n",
       "      <td>2019-08-14</td>\n",
       "      <td>0</td>\n",
       "      <td>2019</td>\n",
       "      <td>0.750000</td>\n",
       "      <td>0.80000</td>\n",
       "      <td>Positive</td>\n",
       "    </tr>\n",
       "  </tbody>\n",
       "</table>\n",
       "<p>5 rows × 74 columns</p>\n",
       "</div>"
      ],
      "text/plain": [
       "   Unnamed: 0  Unnamed: 0.1   X.1  X     user_id.x     status_id  \\\n",
       "0           0          5118  6141  1  2.468828e+09  1.161790e+18   \n",
       "1           2          5120  6143  3  7.086827e+17  1.161789e+18   \n",
       "2           3          5121  6145  5  8.380335e+17  1.161789e+18   \n",
       "3           4          5122  6146  6  1.087478e+18  1.161789e+18   \n",
       "4           5          5123  6147  7  1.087478e+18  1.161789e+18   \n",
       "\n",
       "          created_at.x    screen_name.x  \\\n",
       "0  2019-08-14 23:59:41          muttle9   \n",
       "1  2019-08-14 23:58:43        amirshwki   \n",
       "2  2019-08-14 23:58:23       pbanks5050   \n",
       "3  2019-08-14 23:57:21  MyrtilNathanae1   \n",
       "4  2019-08-14 23:56:28  MyrtilNathanae1   \n",
       "\n",
       "                                                text             source.x  \\\n",
       "0                       4-3-3 works extremely well!   Twitter for Android   \n",
       "1                Great game\\nKeep up\\nLove from IRAQ   Twitter for iPhone   \n",
       "2                                All day, Everyday !   Twitter for iPhone   \n",
       "3   I trust in Frank Lampard and it's gonna be a ...  Twitter for Android   \n",
       "4    Great night guys just keep working and I tru...  Twitter for Android   \n",
       "\n",
       "   ...                                profile_image_url.y  W  L  D  \\\n",
       "0  ...  http://pbs.twimg.com/profile_images/1338595356...  0  1  0   \n",
       "1  ...  http://pbs.twimg.com/profile_images/1338595356...  0  1  0   \n",
       "2  ...  http://pbs.twimg.com/profile_images/1338595356...  0  1  0   \n",
       "3  ...  http://pbs.twimg.com/profile_images/1338595356...  0  1  0   \n",
       "4  ...  http://pbs.twimg.com/profile_images/1338595356...  0  1  0   \n",
       "\n",
       "         date  W_true  year  Subjectivity  Polarity  Analysis  \n",
       "0  2019-08-14       0  2019      1.000000  -0.15625  Negative  \n",
       "1  2019-08-14       0  2019      0.583333   0.30000  Positive  \n",
       "2  2019-08-14       0  2019      0.600000  -0.25000  Negative  \n",
       "3  2019-08-14       0  2019      0.750000   0.80000  Positive  \n",
       "4  2019-08-14       0  2019      0.750000   0.80000  Positive  \n",
       "\n",
       "[5 rows x 74 columns]"
      ]
     },
     "execution_count": 10,
     "metadata": {},
     "output_type": "execute_result"
    }
   ],
   "source": [
    "df.head()"
   ]
  },
  {
   "cell_type": "code",
   "execution_count": 11,
   "metadata": {},
   "outputs": [
    {
     "data": {
      "text/plain": [
       "32322"
      ]
     },
     "execution_count": 11,
     "metadata": {},
     "output_type": "execute_result"
    }
   ],
   "source": [
    "len(df)"
   ]
  },
  {
   "cell_type": "markdown",
   "metadata": {},
   "source": [
    "# First Predictive Model with Logistic Regression on Replies (column = text) and Sentiment (column = Analysis)"
   ]
  },
  {
   "cell_type": "code",
   "execution_count": 12,
   "metadata": {},
   "outputs": [],
   "source": [
    "from sklearn.model_selection import train_test_split\n",
    "replies = df['text'].values\n",
    "labels = df['Analysis'].values\n",
    "replies_train, replies_test, y_train, y_test = train_test_split(replies, labels, test_size=0.2, random_state=1000)"
   ]
  },
  {
   "cell_type": "code",
   "execution_count": 7,
   "metadata": {},
   "outputs": [],
   "source": [
    "from spacy.lang.en.stop_words import STOP_WORDS\n",
    "from spacy.lang.en import English\n",
    "import string\n",
    "punctuations = string.punctuation\n",
    "parser = English()\n",
    "stopwords = list(STOP_WORDS)\n",
    "def spacy_tokenizer(utterance):\n",
    "      tokens = parser(utterance)\n",
    "      return [token.lemma_.lower().strip() for token in tokens if token.text.lower().strip() not in stopwords and token.text not in punctuations]"
   ]
  },
  {
   "cell_type": "code",
   "execution_count": 8,
   "metadata": {},
   "outputs": [
    {
     "name": "stderr",
     "output_type": "stream",
     "text": [
      "C:\\Users\\rache\\anaconda3\\lib\\site-packages\\sklearn\\feature_extraction\\text.py:484: UserWarning: The parameter 'token_pattern' will not be used since 'tokenizer' is not None'\n",
      "  warnings.warn(\"The parameter 'token_pattern' will not be used\"\n"
     ]
    },
    {
     "data": {
      "text/plain": [
       "CountVectorizer(tokenizer=<function spacy_tokenizer at 0x00000144247ECAF0>)"
      ]
     },
     "execution_count": 8,
     "metadata": {},
     "output_type": "execute_result"
    }
   ],
   "source": [
    "from sklearn.feature_extraction.text import CountVectorizer\n",
    "vectorizer = CountVectorizer(tokenizer = spacy_tokenizer, ngram_range=(1,1))\n",
    "#By default, the vectorizer might be created as follows:\n",
    "#vectorizer = CountVectorizer()\n",
    "vectorizer.fit(replies_train)"
   ]
  },
  {
   "cell_type": "code",
   "execution_count": 9,
   "metadata": {},
   "outputs": [],
   "source": [
    "X_train = vectorizer.transform(replies_train)\n",
    "X_test = vectorizer.transform(replies_test)"
   ]
  },
  {
   "cell_type": "code",
   "execution_count": 10,
   "metadata": {},
   "outputs": [
    {
     "data": {
      "text/plain": [
       "LogisticRegression()"
      ]
     },
     "execution_count": 10,
     "metadata": {},
     "output_type": "execute_result"
    }
   ],
   "source": [
    "from sklearn.linear_model import LogisticRegression\n",
    "classifier = LogisticRegression()\n",
    "classifier.fit(X_train, y_train)"
   ]
  },
  {
   "cell_type": "code",
   "execution_count": 11,
   "metadata": {},
   "outputs": [],
   "source": [
    "accuracy = classifier.score(X_test, y_test)"
   ]
  },
  {
   "cell_type": "code",
   "execution_count": 12,
   "metadata": {
    "scrolled": true
   },
   "outputs": [
    {
     "name": "stdout",
     "output_type": "stream",
     "text": [
      "0.5664346481051817\n"
     ]
    }
   ],
   "source": [
    "print(accuracy)"
   ]
  },
  {
   "cell_type": "markdown",
   "metadata": {},
   "source": [
    "# Remove Stopwords and Punctuation from 'text' column to see if Sentiment Improves with Logistic Regression"
   ]
  },
  {
   "cell_type": "code",
   "execution_count": 27,
   "metadata": {},
   "outputs": [
    {
     "name": "stderr",
     "output_type": "stream",
     "text": [
      "[nltk_data] Downloading package stopwords to\n",
      "[nltk_data]     C:\\Users\\rache\\AppData\\Roaming\\nltk_data...\n",
      "[nltk_data]   Package stopwords is already up-to-date!\n"
     ]
    }
   ],
   "source": [
    "import nltk\n",
    "nltk.download('stopwords');"
   ]
  },
  {
   "cell_type": "code",
   "execution_count": 95,
   "metadata": {},
   "outputs": [],
   "source": [
    "ndf = df[['text', 'Subjectivity', 'Polarity', 'Analysis']]"
   ]
  },
  {
   "cell_type": "code",
   "execution_count": 96,
   "metadata": {
    "scrolled": true
   },
   "outputs": [
    {
     "data": {
      "text/html": [
       "<div>\n",
       "<style scoped>\n",
       "    .dataframe tbody tr th:only-of-type {\n",
       "        vertical-align: middle;\n",
       "    }\n",
       "\n",
       "    .dataframe tbody tr th {\n",
       "        vertical-align: top;\n",
       "    }\n",
       "\n",
       "    .dataframe thead th {\n",
       "        text-align: right;\n",
       "    }\n",
       "</style>\n",
       "<table border=\"1\" class=\"dataframe\">\n",
       "  <thead>\n",
       "    <tr style=\"text-align: right;\">\n",
       "      <th></th>\n",
       "      <th>text</th>\n",
       "      <th>Subjectivity</th>\n",
       "      <th>Polarity</th>\n",
       "      <th>Analysis</th>\n",
       "    </tr>\n",
       "  </thead>\n",
       "  <tbody>\n",
       "    <tr>\n",
       "      <th>0</th>\n",
       "      <td>4-3-3 works extremely well!</td>\n",
       "      <td>1.000000</td>\n",
       "      <td>-0.15625</td>\n",
       "      <td>Negative</td>\n",
       "    </tr>\n",
       "    <tr>\n",
       "      <th>1</th>\n",
       "      <td>Great game\\nKeep up\\nLove from IRAQ</td>\n",
       "      <td>0.583333</td>\n",
       "      <td>0.30000</td>\n",
       "      <td>Positive</td>\n",
       "    </tr>\n",
       "    <tr>\n",
       "      <th>2</th>\n",
       "      <td>All day, Everyday !</td>\n",
       "      <td>0.600000</td>\n",
       "      <td>-0.25000</td>\n",
       "      <td>Negative</td>\n",
       "    </tr>\n",
       "    <tr>\n",
       "      <th>3</th>\n",
       "      <td>I trust in Frank Lampard and it's gonna be a ...</td>\n",
       "      <td>0.750000</td>\n",
       "      <td>0.80000</td>\n",
       "      <td>Positive</td>\n",
       "    </tr>\n",
       "    <tr>\n",
       "      <th>4</th>\n",
       "      <td>Great night guys just keep working and I tru...</td>\n",
       "      <td>0.750000</td>\n",
       "      <td>0.80000</td>\n",
       "      <td>Positive</td>\n",
       "    </tr>\n",
       "  </tbody>\n",
       "</table>\n",
       "</div>"
      ],
      "text/plain": [
       "                                                text  Subjectivity  Polarity  \\\n",
       "0                       4-3-3 works extremely well!       1.000000  -0.15625   \n",
       "1                Great game\\nKeep up\\nLove from IRAQ      0.583333   0.30000   \n",
       "2                                All day, Everyday !      0.600000  -0.25000   \n",
       "3   I trust in Frank Lampard and it's gonna be a ...      0.750000   0.80000   \n",
       "4    Great night guys just keep working and I tru...      0.750000   0.80000   \n",
       "\n",
       "   Analysis  \n",
       "0  Negative  \n",
       "1  Positive  \n",
       "2  Negative  \n",
       "3  Positive  \n",
       "4  Positive  "
      ]
     },
     "execution_count": 96,
     "metadata": {},
     "output_type": "execute_result"
    }
   ],
   "source": [
    "ndf.head()"
   ]
  },
  {
   "cell_type": "code",
   "execution_count": 97,
   "metadata": {
    "scrolled": true
   },
   "outputs": [
    {
     "data": {
      "text/plain": [
       "32322"
      ]
     },
     "execution_count": 97,
     "metadata": {},
     "output_type": "execute_result"
    }
   ],
   "source": [
    "len(ndf)"
   ]
  },
  {
   "cell_type": "code",
   "execution_count": 98,
   "metadata": {},
   "outputs": [
    {
     "name": "stderr",
     "output_type": "stream",
     "text": [
      "<ipython-input-98-ca8e42417579>:1: SettingWithCopyWarning:\n",
      "\n",
      "\n",
      "A value is trying to be set on a copy of a slice from a DataFrame.\n",
      "Try using .loc[row_indexer,col_indexer] = value instead\n",
      "\n",
      "See the caveats in the documentation: https://pandas.pydata.org/pandas-docs/stable/user_guide/indexing.html#returning-a-view-versus-a-copy\n",
      "\n"
     ]
    }
   ],
   "source": [
    "ndf['text'] = ndf['text'].str.lower()"
   ]
  },
  {
   "cell_type": "code",
   "execution_count": 99,
   "metadata": {},
   "outputs": [
    {
     "name": "stderr",
     "output_type": "stream",
     "text": [
      "<ipython-input-99-8675d68fe575>:2: SettingWithCopyWarning:\n",
      "\n",
      "\n",
      "A value is trying to be set on a copy of a slice from a DataFrame.\n",
      "Try using .loc[row_indexer,col_indexer] = value instead\n",
      "\n",
      "See the caveats in the documentation: https://pandas.pydata.org/pandas-docs/stable/user_guide/indexing.html#returning-a-view-versus-a-copy\n",
      "\n"
     ]
    }
   ],
   "source": [
    "# removing numbers from the text column\n",
    "ndf['text'] = ndf['text'].str.replace('\\d+', '')"
   ]
  },
  {
   "cell_type": "code",
   "execution_count": 100,
   "metadata": {
    "scrolled": true
   },
   "outputs": [
    {
     "name": "stderr",
     "output_type": "stream",
     "text": [
      "<ipython-input-100-3c0b113ea253>:2: SettingWithCopyWarning:\n",
      "\n",
      "\n",
      "A value is trying to be set on a copy of a slice from a DataFrame.\n",
      "Try using .loc[row_indexer,col_indexer] = value instead\n",
      "\n",
      "See the caveats in the documentation: https://pandas.pydata.org/pandas-docs/stable/user_guide/indexing.html#returning-a-view-versus-a-copy\n",
      "\n"
     ]
    }
   ],
   "source": [
    "# removing punctuation from the text column\n",
    "ndf[\"text\"] = ndf['text'].str.replace('[^\\w\\s]','')"
   ]
  },
  {
   "cell_type": "code",
   "execution_count": 101,
   "metadata": {},
   "outputs": [
    {
     "name": "stderr",
     "output_type": "stream",
     "text": [
      "<ipython-input-101-a1057f7a0db0>:2: SettingWithCopyWarning:\n",
      "\n",
      "\n",
      "A value is trying to be set on a copy of a slice from a DataFrame.\n",
      "Try using .loc[row_indexer,col_indexer] = value instead\n",
      "\n",
      "See the caveats in the documentation: https://pandas.pydata.org/pandas-docs/stable/user_guide/indexing.html#returning-a-view-versus-a-copy\n",
      "\n"
     ]
    }
   ],
   "source": [
    "# remove '\\n' from text\n",
    "ndf[\"text\"] = ndf['text'].str.replace('[\\n]',' ')"
   ]
  },
  {
   "cell_type": "code",
   "execution_count": 102,
   "metadata": {},
   "outputs": [
    {
     "data": {
      "text/html": [
       "<div>\n",
       "<style scoped>\n",
       "    .dataframe tbody tr th:only-of-type {\n",
       "        vertical-align: middle;\n",
       "    }\n",
       "\n",
       "    .dataframe tbody tr th {\n",
       "        vertical-align: top;\n",
       "    }\n",
       "\n",
       "    .dataframe thead th {\n",
       "        text-align: right;\n",
       "    }\n",
       "</style>\n",
       "<table border=\"1\" class=\"dataframe\">\n",
       "  <thead>\n",
       "    <tr style=\"text-align: right;\">\n",
       "      <th></th>\n",
       "      <th>text</th>\n",
       "      <th>Subjectivity</th>\n",
       "      <th>Polarity</th>\n",
       "      <th>Analysis</th>\n",
       "    </tr>\n",
       "  </thead>\n",
       "  <tbody>\n",
       "    <tr>\n",
       "      <th>0</th>\n",
       "      <td>works extremely well</td>\n",
       "      <td>1.000000</td>\n",
       "      <td>-0.15625</td>\n",
       "      <td>Negative</td>\n",
       "    </tr>\n",
       "    <tr>\n",
       "      <th>1</th>\n",
       "      <td>great game keep up love from iraq</td>\n",
       "      <td>0.583333</td>\n",
       "      <td>0.30000</td>\n",
       "      <td>Positive</td>\n",
       "    </tr>\n",
       "    <tr>\n",
       "      <th>2</th>\n",
       "      <td>all day everyday</td>\n",
       "      <td>0.600000</td>\n",
       "      <td>-0.25000</td>\n",
       "      <td>Negative</td>\n",
       "    </tr>\n",
       "    <tr>\n",
       "      <th>3</th>\n",
       "      <td>i trust in frank lampard and its gonna be a g...</td>\n",
       "      <td>0.750000</td>\n",
       "      <td>0.80000</td>\n",
       "      <td>Positive</td>\n",
       "    </tr>\n",
       "    <tr>\n",
       "      <th>4</th>\n",
       "      <td>great night guys just keep working and i tru...</td>\n",
       "      <td>0.750000</td>\n",
       "      <td>0.80000</td>\n",
       "      <td>Positive</td>\n",
       "    </tr>\n",
       "  </tbody>\n",
       "</table>\n",
       "</div>"
      ],
      "text/plain": [
       "                                                text  Subjectivity  Polarity  \\\n",
       "0                              works extremely well       1.000000  -0.15625   \n",
       "1                  great game keep up love from iraq      0.583333   0.30000   \n",
       "2                                  all day everyday       0.600000  -0.25000   \n",
       "3   i trust in frank lampard and its gonna be a g...      0.750000   0.80000   \n",
       "4    great night guys just keep working and i tru...      0.750000   0.80000   \n",
       "\n",
       "   Analysis  \n",
       "0  Negative  \n",
       "1  Positive  \n",
       "2  Negative  \n",
       "3  Positive  \n",
       "4  Positive  "
      ]
     },
     "execution_count": 102,
     "metadata": {},
     "output_type": "execute_result"
    }
   ],
   "source": [
    "ndf.head()"
   ]
  },
  {
   "cell_type": "markdown",
   "metadata": {},
   "source": [
    "# Remove Stopwords"
   ]
  },
  {
   "cell_type": "code",
   "execution_count": 127,
   "metadata": {},
   "outputs": [],
   "source": [
    "from nltk.corpus import stopwords\n",
    "stop = set(stopwords.words(\"english\"))"
   ]
  },
  {
   "cell_type": "code",
   "execution_count": 104,
   "metadata": {
    "scrolled": true
   },
   "outputs": [
    {
     "name": "stderr",
     "output_type": "stream",
     "text": [
      "<ipython-input-104-e32e0aa1ebd7>:1: SettingWithCopyWarning:\n",
      "\n",
      "\n",
      "A value is trying to be set on a copy of a slice from a DataFrame.\n",
      "Try using .loc[row_indexer,col_indexer] = value instead\n",
      "\n",
      "See the caveats in the documentation: https://pandas.pydata.org/pandas-docs/stable/user_guide/indexing.html#returning-a-view-versus-a-copy\n",
      "\n"
     ]
    }
   ],
   "source": [
    "ndf[\"text_no_stops\"] = ndf[\"text\"].str.lower()"
   ]
  },
  {
   "cell_type": "code",
   "execution_count": 111,
   "metadata": {},
   "outputs": [
    {
     "name": "stderr",
     "output_type": "stream",
     "text": [
      "<ipython-input-111-663c8f4f1fb3>:1: SettingWithCopyWarning:\n",
      "\n",
      "\n",
      "A value is trying to be set on a copy of a slice from a DataFrame.\n",
      "Try using .loc[row_indexer,col_indexer] = value instead\n",
      "\n",
      "See the caveats in the documentation: https://pandas.pydata.org/pandas-docs/stable/user_guide/indexing.html#returning-a-view-versus-a-copy\n",
      "\n"
     ]
    }
   ],
   "source": [
    "ndf[\"no_stops\"] = ndf[\"text\"].str.lower().str.split()"
   ]
  },
  {
   "cell_type": "code",
   "execution_count": 112,
   "metadata": {
    "scrolled": false
   },
   "outputs": [
    {
     "data": {
      "text/html": [
       "<div>\n",
       "<style scoped>\n",
       "    .dataframe tbody tr th:only-of-type {\n",
       "        vertical-align: middle;\n",
       "    }\n",
       "\n",
       "    .dataframe tbody tr th {\n",
       "        vertical-align: top;\n",
       "    }\n",
       "\n",
       "    .dataframe thead th {\n",
       "        text-align: right;\n",
       "    }\n",
       "</style>\n",
       "<table border=\"1\" class=\"dataframe\">\n",
       "  <thead>\n",
       "    <tr style=\"text-align: right;\">\n",
       "      <th></th>\n",
       "      <th>text</th>\n",
       "      <th>Subjectivity</th>\n",
       "      <th>Polarity</th>\n",
       "      <th>Analysis</th>\n",
       "      <th>text_no_stops</th>\n",
       "      <th>no_stops</th>\n",
       "    </tr>\n",
       "  </thead>\n",
       "  <tbody>\n",
       "    <tr>\n",
       "      <th>0</th>\n",
       "      <td>works extremely well</td>\n",
       "      <td>1.000000</td>\n",
       "      <td>-0.15625</td>\n",
       "      <td>Negative</td>\n",
       "      <td>works extremely well</td>\n",
       "      <td>[works, extremely, well]</td>\n",
       "    </tr>\n",
       "    <tr>\n",
       "      <th>1</th>\n",
       "      <td>great game keep up love from iraq</td>\n",
       "      <td>0.583333</td>\n",
       "      <td>0.30000</td>\n",
       "      <td>Positive</td>\n",
       "      <td>great game keep up love from iraq</td>\n",
       "      <td>[great, game, keep, up, love, from, iraq]</td>\n",
       "    </tr>\n",
       "    <tr>\n",
       "      <th>2</th>\n",
       "      <td>all day everyday</td>\n",
       "      <td>0.600000</td>\n",
       "      <td>-0.25000</td>\n",
       "      <td>Negative</td>\n",
       "      <td>all day everyday</td>\n",
       "      <td>[all, day, everyday]</td>\n",
       "    </tr>\n",
       "    <tr>\n",
       "      <th>3</th>\n",
       "      <td>i trust in frank lampard and its gonna be a g...</td>\n",
       "      <td>0.750000</td>\n",
       "      <td>0.80000</td>\n",
       "      <td>Positive</td>\n",
       "      <td>i trust in frank lampard and its gonna be a g...</td>\n",
       "      <td>[i, trust, in, frank, lampard, and, its, gonna...</td>\n",
       "    </tr>\n",
       "    <tr>\n",
       "      <th>4</th>\n",
       "      <td>great night guys just keep working and i tru...</td>\n",
       "      <td>0.750000</td>\n",
       "      <td>0.80000</td>\n",
       "      <td>Positive</td>\n",
       "      <td>great night guys just keep working and i tru...</td>\n",
       "      <td>[great, night, guys, just, keep, working, and,...</td>\n",
       "    </tr>\n",
       "  </tbody>\n",
       "</table>\n",
       "</div>"
      ],
      "text/plain": [
       "                                                text  Subjectivity  Polarity  \\\n",
       "0                              works extremely well       1.000000  -0.15625   \n",
       "1                  great game keep up love from iraq      0.583333   0.30000   \n",
       "2                                  all day everyday       0.600000  -0.25000   \n",
       "3   i trust in frank lampard and its gonna be a g...      0.750000   0.80000   \n",
       "4    great night guys just keep working and i tru...      0.750000   0.80000   \n",
       "\n",
       "   Analysis                                      text_no_stops  \\\n",
       "0  Negative                              works extremely well    \n",
       "1  Positive                  great game keep up love from iraq   \n",
       "2  Negative                                  all day everyday    \n",
       "3  Positive   i trust in frank lampard and its gonna be a g...   \n",
       "4  Positive    great night guys just keep working and i tru...   \n",
       "\n",
       "                                            no_stops  \n",
       "0                           [works, extremely, well]  \n",
       "1          [great, game, keep, up, love, from, iraq]  \n",
       "2                               [all, day, everyday]  \n",
       "3  [i, trust, in, frank, lampard, and, its, gonna...  \n",
       "4  [great, night, guys, just, keep, working, and,...  "
      ]
     },
     "execution_count": 112,
     "metadata": {},
     "output_type": "execute_result"
    }
   ],
   "source": [
    "ndf.head()"
   ]
  },
  {
   "cell_type": "code",
   "execution_count": 119,
   "metadata": {},
   "outputs": [
    {
     "name": "stderr",
     "output_type": "stream",
     "text": [
      "<ipython-input-119-81181b711ae1>:1: SettingWithCopyWarning:\n",
      "\n",
      "\n",
      "A value is trying to be set on a copy of a slice from a DataFrame.\n",
      "Try using .loc[row_indexer,col_indexer] = value instead\n",
      "\n",
      "See the caveats in the documentation: https://pandas.pydata.org/pandas-docs/stable/user_guide/indexing.html#returning-a-view-versus-a-copy\n",
      "\n"
     ]
    }
   ],
   "source": [
    "ndf['text'] = ndf['text'].astype('string')"
   ]
  },
  {
   "cell_type": "code",
   "execution_count": 135,
   "metadata": {
    "scrolled": true
   },
   "outputs": [
    {
     "name": "stdout",
     "output_type": "stream",
     "text": [
      "<class 'pandas.core.frame.DataFrame'>\n",
      "RangeIndex: 32322 entries, 0 to 32321\n",
      "Data columns (total 7 columns):\n",
      " #   Column         Non-Null Count  Dtype  \n",
      "---  ------         --------------  -----  \n",
      " 0   text           32322 non-null  string \n",
      " 1   Subjectivity   32322 non-null  float64\n",
      " 2   Polarity       32322 non-null  float64\n",
      " 3   Analysis       32322 non-null  object \n",
      " 4   text_no_stops  32322 non-null  object \n",
      " 5   no_stops       32322 non-null  object \n",
      " 6   replies        32322 non-null  string \n",
      "dtypes: float64(2), object(3), string(2)\n",
      "memory usage: 1.7+ MB\n"
     ]
    }
   ],
   "source": [
    "ndf.info()"
   ]
  },
  {
   "cell_type": "code",
   "execution_count": 121,
   "metadata": {},
   "outputs": [
    {
     "name": "stderr",
     "output_type": "stream",
     "text": [
      "<ipython-input-121-c27c22cc416c>:1: SettingWithCopyWarning:\n",
      "\n",
      "\n",
      "A value is trying to be set on a copy of a slice from a DataFrame.\n",
      "Try using .loc[row_indexer,col_indexer] = value instead\n",
      "\n",
      "See the caveats in the documentation: https://pandas.pydata.org/pandas-docs/stable/user_guide/indexing.html#returning-a-view-versus-a-copy\n",
      "\n"
     ]
    }
   ],
   "source": [
    "ndf['replies'] = ndf['text']"
   ]
  },
  {
   "cell_type": "code",
   "execution_count": 124,
   "metadata": {},
   "outputs": [
    {
     "data": {
      "text/html": [
       "<div>\n",
       "<style scoped>\n",
       "    .dataframe tbody tr th:only-of-type {\n",
       "        vertical-align: middle;\n",
       "    }\n",
       "\n",
       "    .dataframe tbody tr th {\n",
       "        vertical-align: top;\n",
       "    }\n",
       "\n",
       "    .dataframe thead th {\n",
       "        text-align: right;\n",
       "    }\n",
       "</style>\n",
       "<table border=\"1\" class=\"dataframe\">\n",
       "  <thead>\n",
       "    <tr style=\"text-align: right;\">\n",
       "      <th></th>\n",
       "      <th>text</th>\n",
       "      <th>Subjectivity</th>\n",
       "      <th>Polarity</th>\n",
       "      <th>Analysis</th>\n",
       "      <th>text_no_stops</th>\n",
       "      <th>no_stops</th>\n",
       "      <th>replies</th>\n",
       "    </tr>\n",
       "  </thead>\n",
       "  <tbody>\n",
       "    <tr>\n",
       "      <th>0</th>\n",
       "      <td>works extremely well</td>\n",
       "      <td>1.000000</td>\n",
       "      <td>-0.15625</td>\n",
       "      <td>Negative</td>\n",
       "      <td>works extremely well</td>\n",
       "      <td>[works, extremely, well]</td>\n",
       "      <td>works extremely well</td>\n",
       "    </tr>\n",
       "    <tr>\n",
       "      <th>1</th>\n",
       "      <td>great game keep up love from iraq</td>\n",
       "      <td>0.583333</td>\n",
       "      <td>0.30000</td>\n",
       "      <td>Positive</td>\n",
       "      <td>great game keep up love from iraq</td>\n",
       "      <td>[great, game, keep, up, love, from, iraq]</td>\n",
       "      <td>great game keep up love from iraq</td>\n",
       "    </tr>\n",
       "    <tr>\n",
       "      <th>2</th>\n",
       "      <td>all day everyday</td>\n",
       "      <td>0.600000</td>\n",
       "      <td>-0.25000</td>\n",
       "      <td>Negative</td>\n",
       "      <td>all day everyday</td>\n",
       "      <td>[all, day, everyday]</td>\n",
       "      <td>all day everyday</td>\n",
       "    </tr>\n",
       "    <tr>\n",
       "      <th>3</th>\n",
       "      <td>i trust in frank lampard and its gonna be a g...</td>\n",
       "      <td>0.750000</td>\n",
       "      <td>0.80000</td>\n",
       "      <td>Positive</td>\n",
       "      <td>i trust in frank lampard and its gonna be a g...</td>\n",
       "      <td>[i, trust, in, frank, lampard, and, its, gonna...</td>\n",
       "      <td>i trust in frank lampard and its gonna be a g...</td>\n",
       "    </tr>\n",
       "    <tr>\n",
       "      <th>4</th>\n",
       "      <td>great night guys just keep working and i tru...</td>\n",
       "      <td>0.750000</td>\n",
       "      <td>0.80000</td>\n",
       "      <td>Positive</td>\n",
       "      <td>great night guys just keep working and i tru...</td>\n",
       "      <td>[great, night, guys, just, keep, working, and,...</td>\n",
       "      <td>great night guys just keep working and i tru...</td>\n",
       "    </tr>\n",
       "  </tbody>\n",
       "</table>\n",
       "</div>"
      ],
      "text/plain": [
       "                                                text  Subjectivity  Polarity  \\\n",
       "0                              works extremely well       1.000000  -0.15625   \n",
       "1                  great game keep up love from iraq      0.583333   0.30000   \n",
       "2                                  all day everyday       0.600000  -0.25000   \n",
       "3   i trust in frank lampard and its gonna be a g...      0.750000   0.80000   \n",
       "4    great night guys just keep working and i tru...      0.750000   0.80000   \n",
       "\n",
       "   Analysis                                      text_no_stops  \\\n",
       "0  Negative                              works extremely well    \n",
       "1  Positive                  great game keep up love from iraq   \n",
       "2  Negative                                  all day everyday    \n",
       "3  Positive   i trust in frank lampard and its gonna be a g...   \n",
       "4  Positive    great night guys just keep working and i tru...   \n",
       "\n",
       "                                            no_stops  \\\n",
       "0                           [works, extremely, well]   \n",
       "1          [great, game, keep, up, love, from, iraq]   \n",
       "2                               [all, day, everyday]   \n",
       "3  [i, trust, in, frank, lampard, and, its, gonna...   \n",
       "4  [great, night, guys, just, keep, working, and,...   \n",
       "\n",
       "                                             replies  \n",
       "0                              works extremely well   \n",
       "1                  great game keep up love from iraq  \n",
       "2                                  all day everyday   \n",
       "3   i trust in frank lampard and its gonna be a g...  \n",
       "4    great night guys just keep working and i tru...  "
      ]
     },
     "execution_count": 124,
     "metadata": {},
     "output_type": "execute_result"
    }
   ],
   "source": [
    "ndf.head()"
   ]
  },
  {
   "cell_type": "code",
   "execution_count": 137,
   "metadata": {},
   "outputs": [
    {
     "name": "stderr",
     "output_type": "stream",
     "text": [
      "<ipython-input-137-d7a3deb44268>:1: SettingWithCopyWarning:\n",
      "\n",
      "\n",
      "A value is trying to be set on a copy of a slice from a DataFrame.\n",
      "Try using .loc[row_indexer,col_indexer] = value instead\n",
      "\n",
      "See the caveats in the documentation: https://pandas.pydata.org/pandas-docs/stable/user_guide/indexing.html#returning-a-view-versus-a-copy\n",
      "\n"
     ]
    }
   ],
   "source": [
    "ndf['test'] = ndf['no_stops'].apply(lambda x: [item for item in x if item not in stop])"
   ]
  },
  {
   "cell_type": "code",
   "execution_count": 138,
   "metadata": {
    "scrolled": false
   },
   "outputs": [
    {
     "data": {
      "text/html": [
       "<div>\n",
       "<style scoped>\n",
       "    .dataframe tbody tr th:only-of-type {\n",
       "        vertical-align: middle;\n",
       "    }\n",
       "\n",
       "    .dataframe tbody tr th {\n",
       "        vertical-align: top;\n",
       "    }\n",
       "\n",
       "    .dataframe thead th {\n",
       "        text-align: right;\n",
       "    }\n",
       "</style>\n",
       "<table border=\"1\" class=\"dataframe\">\n",
       "  <thead>\n",
       "    <tr style=\"text-align: right;\">\n",
       "      <th></th>\n",
       "      <th>text</th>\n",
       "      <th>Subjectivity</th>\n",
       "      <th>Polarity</th>\n",
       "      <th>Analysis</th>\n",
       "      <th>text_no_stops</th>\n",
       "      <th>no_stops</th>\n",
       "      <th>replies</th>\n",
       "      <th>test</th>\n",
       "    </tr>\n",
       "  </thead>\n",
       "  <tbody>\n",
       "    <tr>\n",
       "      <th>0</th>\n",
       "      <td>works extremely well</td>\n",
       "      <td>1.000000</td>\n",
       "      <td>-0.15625</td>\n",
       "      <td>Negative</td>\n",
       "      <td>works extremely well</td>\n",
       "      <td>[works, extremely, well]</td>\n",
       "      <td>works extremely well</td>\n",
       "      <td>[works, extremely, well]</td>\n",
       "    </tr>\n",
       "    <tr>\n",
       "      <th>1</th>\n",
       "      <td>great game keep up love from iraq</td>\n",
       "      <td>0.583333</td>\n",
       "      <td>0.30000</td>\n",
       "      <td>Positive</td>\n",
       "      <td>great game keep up love from iraq</td>\n",
       "      <td>[great, game, keep, up, love, from, iraq]</td>\n",
       "      <td>great game keep up love from iraq</td>\n",
       "      <td>[great, game, keep, love, iraq]</td>\n",
       "    </tr>\n",
       "    <tr>\n",
       "      <th>2</th>\n",
       "      <td>all day everyday</td>\n",
       "      <td>0.600000</td>\n",
       "      <td>-0.25000</td>\n",
       "      <td>Negative</td>\n",
       "      <td>all day everyday</td>\n",
       "      <td>[all, day, everyday]</td>\n",
       "      <td>all day everyday</td>\n",
       "      <td>[day, everyday]</td>\n",
       "    </tr>\n",
       "    <tr>\n",
       "      <th>3</th>\n",
       "      <td>i trust in frank lampard and its gonna be a g...</td>\n",
       "      <td>0.750000</td>\n",
       "      <td>0.80000</td>\n",
       "      <td>Positive</td>\n",
       "      <td>i trust in frank lampard and its gonna be a g...</td>\n",
       "      <td>[i, trust, in, frank, lampard, and, its, gonna...</td>\n",
       "      <td>i trust in frank lampard and its gonna be a g...</td>\n",
       "      <td>[trust, frank, lampard, gonna, great, season]</td>\n",
       "    </tr>\n",
       "    <tr>\n",
       "      <th>4</th>\n",
       "      <td>great night guys just keep working and i tru...</td>\n",
       "      <td>0.750000</td>\n",
       "      <td>0.80000</td>\n",
       "      <td>Positive</td>\n",
       "      <td>great night guys just keep working and i tru...</td>\n",
       "      <td>[great, night, guys, just, keep, working, and,...</td>\n",
       "      <td>great night guys just keep working and i tru...</td>\n",
       "      <td>[great, night, guys, keep, working, trust]</td>\n",
       "    </tr>\n",
       "  </tbody>\n",
       "</table>\n",
       "</div>"
      ],
      "text/plain": [
       "                                                text  Subjectivity  Polarity  \\\n",
       "0                              works extremely well       1.000000  -0.15625   \n",
       "1                  great game keep up love from iraq      0.583333   0.30000   \n",
       "2                                  all day everyday       0.600000  -0.25000   \n",
       "3   i trust in frank lampard and its gonna be a g...      0.750000   0.80000   \n",
       "4    great night guys just keep working and i tru...      0.750000   0.80000   \n",
       "\n",
       "   Analysis                                      text_no_stops  \\\n",
       "0  Negative                              works extremely well    \n",
       "1  Positive                  great game keep up love from iraq   \n",
       "2  Negative                                  all day everyday    \n",
       "3  Positive   i trust in frank lampard and its gonna be a g...   \n",
       "4  Positive    great night guys just keep working and i tru...   \n",
       "\n",
       "                                            no_stops  \\\n",
       "0                           [works, extremely, well]   \n",
       "1          [great, game, keep, up, love, from, iraq]   \n",
       "2                               [all, day, everyday]   \n",
       "3  [i, trust, in, frank, lampard, and, its, gonna...   \n",
       "4  [great, night, guys, just, keep, working, and,...   \n",
       "\n",
       "                                             replies  \\\n",
       "0                              works extremely well    \n",
       "1                  great game keep up love from iraq   \n",
       "2                                  all day everyday    \n",
       "3   i trust in frank lampard and its gonna be a g...   \n",
       "4    great night guys just keep working and i tru...   \n",
       "\n",
       "                                            test  \n",
       "0                       [works, extremely, well]  \n",
       "1                [great, game, keep, love, iraq]  \n",
       "2                                [day, everyday]  \n",
       "3  [trust, frank, lampard, gonna, great, season]  \n",
       "4     [great, night, guys, keep, working, trust]  "
      ]
     },
     "execution_count": 138,
     "metadata": {},
     "output_type": "execute_result"
    }
   ],
   "source": [
    "ndf.head()"
   ]
  },
  {
   "cell_type": "code",
   "execution_count": 140,
   "metadata": {},
   "outputs": [
    {
     "name": "stderr",
     "output_type": "stream",
     "text": [
      "<ipython-input-140-6f60462c44ba>:1: SettingWithCopyWarning:\n",
      "\n",
      "\n",
      "A value is trying to be set on a copy of a slice from a DataFrame.\n",
      "Try using .loc[row_indexer,col_indexer] = value instead\n",
      "\n",
      "See the caveats in the documentation: https://pandas.pydata.org/pandas-docs/stable/user_guide/indexing.html#returning-a-view-versus-a-copy\n",
      "\n"
     ]
    }
   ],
   "source": [
    "ndf['test1'] = ndf['test'].astype('string')"
   ]
  },
  {
   "cell_type": "code",
   "execution_count": 141,
   "metadata": {},
   "outputs": [
    {
     "data": {
      "text/html": [
       "<div>\n",
       "<style scoped>\n",
       "    .dataframe tbody tr th:only-of-type {\n",
       "        vertical-align: middle;\n",
       "    }\n",
       "\n",
       "    .dataframe tbody tr th {\n",
       "        vertical-align: top;\n",
       "    }\n",
       "\n",
       "    .dataframe thead th {\n",
       "        text-align: right;\n",
       "    }\n",
       "</style>\n",
       "<table border=\"1\" class=\"dataframe\">\n",
       "  <thead>\n",
       "    <tr style=\"text-align: right;\">\n",
       "      <th></th>\n",
       "      <th>text</th>\n",
       "      <th>Subjectivity</th>\n",
       "      <th>Polarity</th>\n",
       "      <th>Analysis</th>\n",
       "      <th>text_no_stops</th>\n",
       "      <th>no_stops</th>\n",
       "      <th>replies</th>\n",
       "      <th>test</th>\n",
       "      <th>test1</th>\n",
       "    </tr>\n",
       "  </thead>\n",
       "  <tbody>\n",
       "    <tr>\n",
       "      <th>0</th>\n",
       "      <td>works extremely well</td>\n",
       "      <td>1.000000</td>\n",
       "      <td>-0.15625</td>\n",
       "      <td>Negative</td>\n",
       "      <td>works extremely well</td>\n",
       "      <td>[works, extremely, well]</td>\n",
       "      <td>works extremely well</td>\n",
       "      <td>[works, extremely, well]</td>\n",
       "      <td>['works', 'extremely', 'well']</td>\n",
       "    </tr>\n",
       "    <tr>\n",
       "      <th>1</th>\n",
       "      <td>great game keep up love from iraq</td>\n",
       "      <td>0.583333</td>\n",
       "      <td>0.30000</td>\n",
       "      <td>Positive</td>\n",
       "      <td>great game keep up love from iraq</td>\n",
       "      <td>[great, game, keep, up, love, from, iraq]</td>\n",
       "      <td>great game keep up love from iraq</td>\n",
       "      <td>[great, game, keep, love, iraq]</td>\n",
       "      <td>['great', 'game', 'keep', 'love', 'iraq']</td>\n",
       "    </tr>\n",
       "    <tr>\n",
       "      <th>2</th>\n",
       "      <td>all day everyday</td>\n",
       "      <td>0.600000</td>\n",
       "      <td>-0.25000</td>\n",
       "      <td>Negative</td>\n",
       "      <td>all day everyday</td>\n",
       "      <td>[all, day, everyday]</td>\n",
       "      <td>all day everyday</td>\n",
       "      <td>[day, everyday]</td>\n",
       "      <td>['day', 'everyday']</td>\n",
       "    </tr>\n",
       "    <tr>\n",
       "      <th>3</th>\n",
       "      <td>i trust in frank lampard and its gonna be a g...</td>\n",
       "      <td>0.750000</td>\n",
       "      <td>0.80000</td>\n",
       "      <td>Positive</td>\n",
       "      <td>i trust in frank lampard and its gonna be a g...</td>\n",
       "      <td>[i, trust, in, frank, lampard, and, its, gonna...</td>\n",
       "      <td>i trust in frank lampard and its gonna be a g...</td>\n",
       "      <td>[trust, frank, lampard, gonna, great, season]</td>\n",
       "      <td>['trust', 'frank', 'lampard', 'gonna', 'great'...</td>\n",
       "    </tr>\n",
       "    <tr>\n",
       "      <th>4</th>\n",
       "      <td>great night guys just keep working and i tru...</td>\n",
       "      <td>0.750000</td>\n",
       "      <td>0.80000</td>\n",
       "      <td>Positive</td>\n",
       "      <td>great night guys just keep working and i tru...</td>\n",
       "      <td>[great, night, guys, just, keep, working, and,...</td>\n",
       "      <td>great night guys just keep working and i tru...</td>\n",
       "      <td>[great, night, guys, keep, working, trust]</td>\n",
       "      <td>['great', 'night', 'guys', 'keep', 'working', ...</td>\n",
       "    </tr>\n",
       "  </tbody>\n",
       "</table>\n",
       "</div>"
      ],
      "text/plain": [
       "                                                text  Subjectivity  Polarity  \\\n",
       "0                              works extremely well       1.000000  -0.15625   \n",
       "1                  great game keep up love from iraq      0.583333   0.30000   \n",
       "2                                  all day everyday       0.600000  -0.25000   \n",
       "3   i trust in frank lampard and its gonna be a g...      0.750000   0.80000   \n",
       "4    great night guys just keep working and i tru...      0.750000   0.80000   \n",
       "\n",
       "   Analysis                                      text_no_stops  \\\n",
       "0  Negative                              works extremely well    \n",
       "1  Positive                  great game keep up love from iraq   \n",
       "2  Negative                                  all day everyday    \n",
       "3  Positive   i trust in frank lampard and its gonna be a g...   \n",
       "4  Positive    great night guys just keep working and i tru...   \n",
       "\n",
       "                                            no_stops  \\\n",
       "0                           [works, extremely, well]   \n",
       "1          [great, game, keep, up, love, from, iraq]   \n",
       "2                               [all, day, everyday]   \n",
       "3  [i, trust, in, frank, lampard, and, its, gonna...   \n",
       "4  [great, night, guys, just, keep, working, and,...   \n",
       "\n",
       "                                             replies  \\\n",
       "0                              works extremely well    \n",
       "1                  great game keep up love from iraq   \n",
       "2                                  all day everyday    \n",
       "3   i trust in frank lampard and its gonna be a g...   \n",
       "4    great night guys just keep working and i tru...   \n",
       "\n",
       "                                            test  \\\n",
       "0                       [works, extremely, well]   \n",
       "1                [great, game, keep, love, iraq]   \n",
       "2                                [day, everyday]   \n",
       "3  [trust, frank, lampard, gonna, great, season]   \n",
       "4     [great, night, guys, keep, working, trust]   \n",
       "\n",
       "                                               test1  \n",
       "0                     ['works', 'extremely', 'well']  \n",
       "1          ['great', 'game', 'keep', 'love', 'iraq']  \n",
       "2                                ['day', 'everyday']  \n",
       "3  ['trust', 'frank', 'lampard', 'gonna', 'great'...  \n",
       "4  ['great', 'night', 'guys', 'keep', 'working', ...  "
      ]
     },
     "execution_count": 141,
     "metadata": {},
     "output_type": "execute_result"
    }
   ],
   "source": [
    "ndf.head()"
   ]
  },
  {
   "cell_type": "code",
   "execution_count": 142,
   "metadata": {
    "scrolled": true
   },
   "outputs": [
    {
     "name": "stdout",
     "output_type": "stream",
     "text": [
      "<class 'pandas.core.frame.DataFrame'>\n",
      "RangeIndex: 32322 entries, 0 to 32321\n",
      "Data columns (total 9 columns):\n",
      " #   Column         Non-Null Count  Dtype  \n",
      "---  ------         --------------  -----  \n",
      " 0   text           32322 non-null  string \n",
      " 1   Subjectivity   32322 non-null  float64\n",
      " 2   Polarity       32322 non-null  float64\n",
      " 3   Analysis       32322 non-null  object \n",
      " 4   text_no_stops  32322 non-null  object \n",
      " 5   no_stops       32322 non-null  object \n",
      " 6   replies        32322 non-null  string \n",
      " 7   test           32322 non-null  object \n",
      " 8   test1          32322 non-null  string \n",
      "dtypes: float64(2), object(4), string(3)\n",
      "memory usage: 2.2+ MB\n"
     ]
    }
   ],
   "source": [
    "ndf.info()"
   ]
  },
  {
   "cell_type": "markdown",
   "metadata": {},
   "source": [
    "# Recalculate Subjectivity, Polarity, Analysis"
   ]
  },
  {
   "cell_type": "code",
   "execution_count": 143,
   "metadata": {},
   "outputs": [
    {
     "name": "stderr",
     "output_type": "stream",
     "text": [
      "<ipython-input-143-d70277455f90>:10: SettingWithCopyWarning:\n",
      "\n",
      "\n",
      "A value is trying to be set on a copy of a slice from a DataFrame.\n",
      "Try using .loc[row_indexer,col_indexer] = value instead\n",
      "\n",
      "See the caveats in the documentation: https://pandas.pydata.org/pandas-docs/stable/user_guide/indexing.html#returning-a-view-versus-a-copy\n",
      "\n",
      "<ipython-input-143-d70277455f90>:11: SettingWithCopyWarning:\n",
      "\n",
      "\n",
      "A value is trying to be set on a copy of a slice from a DataFrame.\n",
      "Try using .loc[row_indexer,col_indexer] = value instead\n",
      "\n",
      "See the caveats in the documentation: https://pandas.pydata.org/pandas-docs/stable/user_guide/indexing.html#returning-a-view-versus-a-copy\n",
      "\n"
     ]
    }
   ],
   "source": [
    "# Create a function to get the subjectivity\n",
    "def getSubjectivity(text):\n",
    "   return TextBlob(text).sentiment.subjectivity\n",
    "\n",
    "# Create a function to get the polarity\n",
    "def getPolarity(text):\n",
    "   return  TextBlob(text).sentiment.polarity\n",
    "\n",
    "# Create two new columns 'Subjectivity' & 'Polarity'\n",
    "ndf['sub'] = ndf['test1'].apply(getSubjectivity)\n",
    "ndf['pol'] = ndf['test1'].apply(getPolarity)"
   ]
  },
  {
   "cell_type": "code",
   "execution_count": 145,
   "metadata": {},
   "outputs": [
    {
     "name": "stderr",
     "output_type": "stream",
     "text": [
      "<ipython-input-145-7fec605b7343>:10: SettingWithCopyWarning:\n",
      "\n",
      "\n",
      "A value is trying to be set on a copy of a slice from a DataFrame.\n",
      "Try using .loc[row_indexer,col_indexer] = value instead\n",
      "\n",
      "See the caveats in the documentation: https://pandas.pydata.org/pandas-docs/stable/user_guide/indexing.html#returning-a-view-versus-a-copy\n",
      "\n"
     ]
    }
   ],
   "source": [
    "# Create a function to compute negative (-1), neutral (0) and positive (+1) analysis\n",
    "def getAnalysis(score):\n",
    "    if score < 0:\n",
    "        return 'Negative'\n",
    "    elif score == 0:\n",
    "        return 'Neutral'\n",
    "    else:\n",
    "        return 'Positive'\n",
    "    \n",
    "ndf['sentiment'] = ndf['Polarity'].apply(getAnalysis)"
   ]
  },
  {
   "cell_type": "code",
   "execution_count": 157,
   "metadata": {
    "scrolled": false
   },
   "outputs": [
    {
     "data": {
      "text/html": [
       "<div>\n",
       "<style scoped>\n",
       "    .dataframe tbody tr th:only-of-type {\n",
       "        vertical-align: middle;\n",
       "    }\n",
       "\n",
       "    .dataframe tbody tr th {\n",
       "        vertical-align: top;\n",
       "    }\n",
       "\n",
       "    .dataframe thead th {\n",
       "        text-align: right;\n",
       "    }\n",
       "</style>\n",
       "<table border=\"1\" class=\"dataframe\">\n",
       "  <thead>\n",
       "    <tr style=\"text-align: right;\">\n",
       "      <th></th>\n",
       "      <th>text</th>\n",
       "      <th>Subjectivity</th>\n",
       "      <th>Polarity</th>\n",
       "      <th>Analysis</th>\n",
       "      <th>text_no_stops</th>\n",
       "      <th>no_stops</th>\n",
       "      <th>replies</th>\n",
       "      <th>test</th>\n",
       "      <th>test1</th>\n",
       "      <th>sub</th>\n",
       "      <th>pol</th>\n",
       "      <th>sentiment</th>\n",
       "    </tr>\n",
       "  </thead>\n",
       "  <tbody>\n",
       "    <tr>\n",
       "      <th>0</th>\n",
       "      <td>works extremely well</td>\n",
       "      <td>1.000000</td>\n",
       "      <td>-0.15625</td>\n",
       "      <td>Negative</td>\n",
       "      <td>works extremely well</td>\n",
       "      <td>[works, extremely, well]</td>\n",
       "      <td>works extremely well</td>\n",
       "      <td>[works, extremely, well]</td>\n",
       "      <td>['works', 'extremely', 'well']</td>\n",
       "      <td>1.000000</td>\n",
       "      <td>-0.125</td>\n",
       "      <td>Negative</td>\n",
       "    </tr>\n",
       "    <tr>\n",
       "      <th>1</th>\n",
       "      <td>great game keep up love from iraq</td>\n",
       "      <td>0.583333</td>\n",
       "      <td>0.30000</td>\n",
       "      <td>Positive</td>\n",
       "      <td>great game keep up love from iraq</td>\n",
       "      <td>[great, game, keep, up, love, from, iraq]</td>\n",
       "      <td>great game keep up love from iraq</td>\n",
       "      <td>[great, game, keep, love, iraq]</td>\n",
       "      <td>['great', 'game', 'keep', 'love', 'iraq']</td>\n",
       "      <td>0.583333</td>\n",
       "      <td>0.300</td>\n",
       "      <td>Positive</td>\n",
       "    </tr>\n",
       "    <tr>\n",
       "      <th>2</th>\n",
       "      <td>all day everyday</td>\n",
       "      <td>0.600000</td>\n",
       "      <td>-0.25000</td>\n",
       "      <td>Negative</td>\n",
       "      <td>all day everyday</td>\n",
       "      <td>[all, day, everyday]</td>\n",
       "      <td>all day everyday</td>\n",
       "      <td>[day, everyday]</td>\n",
       "      <td>['day', 'everyday']</td>\n",
       "      <td>0.600000</td>\n",
       "      <td>-0.200</td>\n",
       "      <td>Negative</td>\n",
       "    </tr>\n",
       "    <tr>\n",
       "      <th>3</th>\n",
       "      <td>i trust in frank lampard and its gonna be a g...</td>\n",
       "      <td>0.750000</td>\n",
       "      <td>0.80000</td>\n",
       "      <td>Positive</td>\n",
       "      <td>i trust in frank lampard and its gonna be a g...</td>\n",
       "      <td>[i, trust, in, frank, lampard, and, its, gonna...</td>\n",
       "      <td>i trust in frank lampard and its gonna be a g...</td>\n",
       "      <td>[trust, frank, lampard, gonna, great, season]</td>\n",
       "      <td>['trust', 'frank', 'lampard', 'gonna', 'great'...</td>\n",
       "      <td>0.750000</td>\n",
       "      <td>0.800</td>\n",
       "      <td>Positive</td>\n",
       "    </tr>\n",
       "    <tr>\n",
       "      <th>4</th>\n",
       "      <td>great night guys just keep working and i tru...</td>\n",
       "      <td>0.750000</td>\n",
       "      <td>0.80000</td>\n",
       "      <td>Positive</td>\n",
       "      <td>great night guys just keep working and i tru...</td>\n",
       "      <td>[great, night, guys, just, keep, working, and,...</td>\n",
       "      <td>great night guys just keep working and i tru...</td>\n",
       "      <td>[great, night, guys, keep, working, trust]</td>\n",
       "      <td>['great', 'night', 'guys', 'keep', 'working', ...</td>\n",
       "      <td>0.750000</td>\n",
       "      <td>0.800</td>\n",
       "      <td>Positive</td>\n",
       "    </tr>\n",
       "  </tbody>\n",
       "</table>\n",
       "</div>"
      ],
      "text/plain": [
       "                                                text  Subjectivity  Polarity  \\\n",
       "0                              works extremely well       1.000000  -0.15625   \n",
       "1                  great game keep up love from iraq      0.583333   0.30000   \n",
       "2                                  all day everyday       0.600000  -0.25000   \n",
       "3   i trust in frank lampard and its gonna be a g...      0.750000   0.80000   \n",
       "4    great night guys just keep working and i tru...      0.750000   0.80000   \n",
       "\n",
       "   Analysis                                      text_no_stops  \\\n",
       "0  Negative                              works extremely well    \n",
       "1  Positive                  great game keep up love from iraq   \n",
       "2  Negative                                  all day everyday    \n",
       "3  Positive   i trust in frank lampard and its gonna be a g...   \n",
       "4  Positive    great night guys just keep working and i tru...   \n",
       "\n",
       "                                            no_stops  \\\n",
       "0                           [works, extremely, well]   \n",
       "1          [great, game, keep, up, love, from, iraq]   \n",
       "2                               [all, day, everyday]   \n",
       "3  [i, trust, in, frank, lampard, and, its, gonna...   \n",
       "4  [great, night, guys, just, keep, working, and,...   \n",
       "\n",
       "                                             replies  \\\n",
       "0                              works extremely well    \n",
       "1                  great game keep up love from iraq   \n",
       "2                                  all day everyday    \n",
       "3   i trust in frank lampard and its gonna be a g...   \n",
       "4    great night guys just keep working and i tru...   \n",
       "\n",
       "                                            test  \\\n",
       "0                       [works, extremely, well]   \n",
       "1                [great, game, keep, love, iraq]   \n",
       "2                                [day, everyday]   \n",
       "3  [trust, frank, lampard, gonna, great, season]   \n",
       "4     [great, night, guys, keep, working, trust]   \n",
       "\n",
       "                                               test1       sub    pol  \\\n",
       "0                     ['works', 'extremely', 'well']  1.000000 -0.125   \n",
       "1          ['great', 'game', 'keep', 'love', 'iraq']  0.583333  0.300   \n",
       "2                                ['day', 'everyday']  0.600000 -0.200   \n",
       "3  ['trust', 'frank', 'lampard', 'gonna', 'great'...  0.750000  0.800   \n",
       "4  ['great', 'night', 'guys', 'keep', 'working', ...  0.750000  0.800   \n",
       "\n",
       "  sentiment  \n",
       "0  Negative  \n",
       "1  Positive  \n",
       "2  Negative  \n",
       "3  Positive  \n",
       "4  Positive  "
      ]
     },
     "execution_count": 157,
     "metadata": {},
     "output_type": "execute_result"
    }
   ],
   "source": [
    "ndf.head()"
   ]
  },
  {
   "cell_type": "code",
   "execution_count": 159,
   "metadata": {},
   "outputs": [],
   "source": [
    "pos = ndf.loc[(ndf['sentiment'] == 'Positive')]"
   ]
  },
  {
   "cell_type": "code",
   "execution_count": 162,
   "metadata": {},
   "outputs": [],
   "source": [
    "pos = pos[['text', 'test1', 'sentiment']]"
   ]
  },
  {
   "cell_type": "code",
   "execution_count": 198,
   "metadata": {},
   "outputs": [
    {
     "data": {
      "text/plain": [
       "12144"
      ]
     },
     "execution_count": 198,
     "metadata": {},
     "output_type": "execute_result"
    }
   ],
   "source": [
    "len(pos)"
   ]
  },
  {
   "cell_type": "code",
   "execution_count": 169,
   "metadata": {},
   "outputs": [],
   "source": [
    "neg = ndf.loc[(ndf['sentiment'] == 'Negative')]"
   ]
  },
  {
   "cell_type": "code",
   "execution_count": 170,
   "metadata": {},
   "outputs": [],
   "source": [
    "neg = neg[['text', 'test1', 'sentiment']]"
   ]
  },
  {
   "cell_type": "code",
   "execution_count": 199,
   "metadata": {},
   "outputs": [
    {
     "data": {
      "text/plain": [
       "6150"
      ]
     },
     "execution_count": 199,
     "metadata": {},
     "output_type": "execute_result"
    }
   ],
   "source": [
    "len(neg)"
   ]
  },
  {
   "cell_type": "code",
   "execution_count": 172,
   "metadata": {},
   "outputs": [],
   "source": [
    "neu = ndf.loc[(ndf['sentiment'] == 'Neutral')]"
   ]
  },
  {
   "cell_type": "code",
   "execution_count": 173,
   "metadata": {},
   "outputs": [],
   "source": [
    "neu = neu[['text', 'test1', 'sentiment']]"
   ]
  },
  {
   "cell_type": "code",
   "execution_count": 163,
   "metadata": {},
   "outputs": [],
   "source": [
    "from collections import Counter\n",
    "\n",
    "def getMostCommonWords(reviews, n_most_common, stopwords=None):\n",
    "    # param reviews: column from pandas.DataFrame (e.g. df['Reviews']) \n",
    "        #(pandas.Series)\n",
    "    # param n_most_common: the top n most common words in reviews (int)\n",
    "    # param stopwords: list of stopwords (str) to remove from reviews (list)\n",
    "    # Returns list of n_most_common words organized in tuples as \n",
    "        #('term', frequency) (list)\n",
    "\n",
    "    # flatten review column into a list of words, and set each to lowercase\n",
    "    flattened_reviews = [word for review in reviews for word in \\\n",
    "                         review.lower().split()]\n",
    "\n",
    "\n",
    "    # remove punctuation from reviews\n",
    "    flattened_reviews = [''.join(char for char in review if \\\n",
    "                                 char not in string.punctuation) for \\\n",
    "                         review in flattened_reviews]\n",
    "\n",
    "\n",
    "    # remove stopwords, if applicable\n",
    "    if stopwords:\n",
    "        flattened_reviews = [word for word in flattened_reviews if \\\n",
    "                             word not in stopwords]\n",
    "\n",
    "\n",
    "    # remove any empty strings that were created by this process\n",
    "    flattened_reviews = [review for review in flattened_reviews if review]\n",
    "\n",
    "    return Counter(flattened_reviews).most_common(n_most_common)"
   ]
  },
  {
   "cell_type": "markdown",
   "metadata": {},
   "source": [
    "# Calculate the Most Common Words for the Positive, Negative, Neutral Tweets"
   ]
  },
  {
   "cell_type": "code",
   "execution_count": 221,
   "metadata": {
    "scrolled": true
   },
   "outputs": [
    {
     "data": {
      "text/plain": [
       "[('good', 1585),\n",
       " ('chelsea', 1576),\n",
       " ('team', 1247),\n",
       " ('lampard', 1221),\n",
       " ('win', 1012),\n",
       " ('great', 926),\n",
       " ('better', 924),\n",
       " ('need', 833),\n",
       " ('game', 832),\n",
       " ('players', 814),\n",
       " ('love', 771),\n",
       " ('best', 704),\n",
       " ('today', 700),\n",
       " ('back', 664),\n",
       " ('play', 625),\n",
       " ('well', 586),\n",
       " ('one', 581),\n",
       " ('get', 555),\n",
       " ('like', 554),\n",
       " ('us', 546),\n",
       " ('season', 528),\n",
       " ('performance', 515),\n",
       " ('time', 501),\n",
       " ('dont', 499),\n",
       " ('goal', 489),\n",
       " ('really', 469),\n",
       " ('keep', 449),\n",
       " ('frank', 446),\n",
       " ('first', 446),\n",
       " ('player', 433)]"
      ]
     },
     "execution_count": 221,
     "metadata": {},
     "output_type": "execute_result"
    }
   ],
   "source": [
    "# positive tweets\n",
    "getMostCommonWords(pos['test1'], 30)"
   ]
  },
  {
   "cell_type": "code",
   "execution_count": 222,
   "metadata": {
    "scrolled": true
   },
   "outputs": [
    {
     "data": {
      "text/plain": [
       "[('game', 1215),\n",
       " ('lampard', 994),\n",
       " ('chelsea', 793),\n",
       " ('team', 584),\n",
       " ('players', 435),\n",
       " ('poor', 433),\n",
       " ('us', 379),\n",
       " ('play', 369),\n",
       " ('dont', 367),\n",
       " ('bad', 357),\n",
       " ('need', 335),\n",
       " ('today', 320),\n",
       " ('like', 319),\n",
       " ('cant', 308),\n",
       " ('fuck', 303),\n",
       " ('back', 294),\n",
       " ('shit', 289),\n",
       " ('mount', 276),\n",
       " ('get', 272),\n",
       " ('time', 268),\n",
       " ('season', 259),\n",
       " ('barkley', 256),\n",
       " ('u', 244),\n",
       " ('frank', 241),\n",
       " ('good', 236),\n",
       " ('willian', 235),\n",
       " ('kepa', 234),\n",
       " ('fucking', 232),\n",
       " ('one', 227),\n",
       " ('pulisic', 227)]"
      ]
     },
     "execution_count": 222,
     "metadata": {},
     "output_type": "execute_result"
    }
   ],
   "source": [
    "# negative tweets\n",
    "getMostCommonWords(neg['test1'],30)"
   ]
  },
  {
   "cell_type": "code",
   "execution_count": 223,
   "metadata": {},
   "outputs": [
    {
     "data": {
      "text/plain": [
       "[('chelsea', 976),\n",
       " ('lampard', 854),\n",
       " ('well', 574),\n",
       " ('pulisic', 424),\n",
       " ('dont', 403),\n",
       " ('mount', 397),\n",
       " ('man', 389),\n",
       " ('play', 388),\n",
       " ('willian', 386),\n",
       " ('barkley', 384),\n",
       " ('team', 377),\n",
       " ('need', 375),\n",
       " ('please', 367),\n",
       " ('back', 363),\n",
       " ('done', 326),\n",
       " ('like', 322),\n",
       " ('match', 313),\n",
       " ('get', 310),\n",
       " ('us', 301),\n",
       " ('always', 298),\n",
       " ('blue', 287),\n",
       " ('go', 285),\n",
       " ('jorginho', 285),\n",
       " ('pedro', 267),\n",
       " ('players', 263),\n",
       " ('u', 254),\n",
       " ('frank', 252),\n",
       " ('today', 250),\n",
       " ('one', 247),\n",
       " ('come', 246)]"
      ]
     },
     "execution_count": 223,
     "metadata": {},
     "output_type": "execute_result"
    }
   ],
   "source": [
    "# neutral tweets\n",
    "getMostCommonWords(neu['test1'], 30)"
   ]
  },
  {
   "cell_type": "code",
   "execution_count": 256,
   "metadata": {},
   "outputs": [],
   "source": [
    "# pndf = positive, negative dataframe (excluding neutral)\n",
    "pndf = ndf.loc[(ndf['sentiment'] != 'Neutral')]"
   ]
  },
  {
   "cell_type": "code",
   "execution_count": 257,
   "metadata": {},
   "outputs": [
    {
     "data": {
      "text/plain": [
       "18294"
      ]
     },
     "execution_count": 257,
     "metadata": {},
     "output_type": "execute_result"
    }
   ],
   "source": [
    "len(pndf)"
   ]
  },
  {
   "cell_type": "code",
   "execution_count": 258,
   "metadata": {
    "scrolled": true
   },
   "outputs": [
    {
     "data": {
      "text/html": [
       "<div>\n",
       "<style scoped>\n",
       "    .dataframe tbody tr th:only-of-type {\n",
       "        vertical-align: middle;\n",
       "    }\n",
       "\n",
       "    .dataframe tbody tr th {\n",
       "        vertical-align: top;\n",
       "    }\n",
       "\n",
       "    .dataframe thead th {\n",
       "        text-align: right;\n",
       "    }\n",
       "</style>\n",
       "<table border=\"1\" class=\"dataframe\">\n",
       "  <thead>\n",
       "    <tr style=\"text-align: right;\">\n",
       "      <th></th>\n",
       "      <th>text</th>\n",
       "      <th>Subjectivity</th>\n",
       "      <th>Polarity</th>\n",
       "      <th>Analysis</th>\n",
       "      <th>text_no_stops</th>\n",
       "      <th>no_stops</th>\n",
       "      <th>replies</th>\n",
       "      <th>test</th>\n",
       "      <th>test1</th>\n",
       "      <th>sub</th>\n",
       "      <th>pol</th>\n",
       "      <th>sentiment</th>\n",
       "    </tr>\n",
       "  </thead>\n",
       "  <tbody>\n",
       "    <tr>\n",
       "      <th>0</th>\n",
       "      <td>works extremely well</td>\n",
       "      <td>1.000000</td>\n",
       "      <td>-0.15625</td>\n",
       "      <td>Negative</td>\n",
       "      <td>works extremely well</td>\n",
       "      <td>[works, extremely, well]</td>\n",
       "      <td>works extremely well</td>\n",
       "      <td>[works, extremely, well]</td>\n",
       "      <td>['works', 'extremely', 'well']</td>\n",
       "      <td>1.000000</td>\n",
       "      <td>-0.125</td>\n",
       "      <td>Negative</td>\n",
       "    </tr>\n",
       "    <tr>\n",
       "      <th>1</th>\n",
       "      <td>great game keep up love from iraq</td>\n",
       "      <td>0.583333</td>\n",
       "      <td>0.30000</td>\n",
       "      <td>Positive</td>\n",
       "      <td>great game keep up love from iraq</td>\n",
       "      <td>[great, game, keep, up, love, from, iraq]</td>\n",
       "      <td>great game keep up love from iraq</td>\n",
       "      <td>[great, game, keep, love, iraq]</td>\n",
       "      <td>['great', 'game', 'keep', 'love', 'iraq']</td>\n",
       "      <td>0.583333</td>\n",
       "      <td>0.300</td>\n",
       "      <td>Positive</td>\n",
       "    </tr>\n",
       "    <tr>\n",
       "      <th>2</th>\n",
       "      <td>all day everyday</td>\n",
       "      <td>0.600000</td>\n",
       "      <td>-0.25000</td>\n",
       "      <td>Negative</td>\n",
       "      <td>all day everyday</td>\n",
       "      <td>[all, day, everyday]</td>\n",
       "      <td>all day everyday</td>\n",
       "      <td>[day, everyday]</td>\n",
       "      <td>['day', 'everyday']</td>\n",
       "      <td>0.600000</td>\n",
       "      <td>-0.200</td>\n",
       "      <td>Negative</td>\n",
       "    </tr>\n",
       "    <tr>\n",
       "      <th>3</th>\n",
       "      <td>i trust in frank lampard and its gonna be a g...</td>\n",
       "      <td>0.750000</td>\n",
       "      <td>0.80000</td>\n",
       "      <td>Positive</td>\n",
       "      <td>i trust in frank lampard and its gonna be a g...</td>\n",
       "      <td>[i, trust, in, frank, lampard, and, its, gonna...</td>\n",
       "      <td>i trust in frank lampard and its gonna be a g...</td>\n",
       "      <td>[trust, frank, lampard, gonna, great, season]</td>\n",
       "      <td>['trust', 'frank', 'lampard', 'gonna', 'great'...</td>\n",
       "      <td>0.750000</td>\n",
       "      <td>0.800</td>\n",
       "      <td>Positive</td>\n",
       "    </tr>\n",
       "    <tr>\n",
       "      <th>4</th>\n",
       "      <td>great night guys just keep working and i tru...</td>\n",
       "      <td>0.750000</td>\n",
       "      <td>0.80000</td>\n",
       "      <td>Positive</td>\n",
       "      <td>great night guys just keep working and i tru...</td>\n",
       "      <td>[great, night, guys, just, keep, working, and,...</td>\n",
       "      <td>great night guys just keep working and i tru...</td>\n",
       "      <td>[great, night, guys, keep, working, trust]</td>\n",
       "      <td>['great', 'night', 'guys', 'keep', 'working', ...</td>\n",
       "      <td>0.750000</td>\n",
       "      <td>0.800</td>\n",
       "      <td>Positive</td>\n",
       "    </tr>\n",
       "  </tbody>\n",
       "</table>\n",
       "</div>"
      ],
      "text/plain": [
       "                                                text  Subjectivity  Polarity  \\\n",
       "0                              works extremely well       1.000000  -0.15625   \n",
       "1                  great game keep up love from iraq      0.583333   0.30000   \n",
       "2                                  all day everyday       0.600000  -0.25000   \n",
       "3   i trust in frank lampard and its gonna be a g...      0.750000   0.80000   \n",
       "4    great night guys just keep working and i tru...      0.750000   0.80000   \n",
       "\n",
       "   Analysis                                      text_no_stops  \\\n",
       "0  Negative                              works extremely well    \n",
       "1  Positive                  great game keep up love from iraq   \n",
       "2  Negative                                  all day everyday    \n",
       "3  Positive   i trust in frank lampard and its gonna be a g...   \n",
       "4  Positive    great night guys just keep working and i tru...   \n",
       "\n",
       "                                            no_stops  \\\n",
       "0                           [works, extremely, well]   \n",
       "1          [great, game, keep, up, love, from, iraq]   \n",
       "2                               [all, day, everyday]   \n",
       "3  [i, trust, in, frank, lampard, and, its, gonna...   \n",
       "4  [great, night, guys, just, keep, working, and,...   \n",
       "\n",
       "                                             replies  \\\n",
       "0                              works extremely well    \n",
       "1                  great game keep up love from iraq   \n",
       "2                                  all day everyday    \n",
       "3   i trust in frank lampard and its gonna be a g...   \n",
       "4    great night guys just keep working and i tru...   \n",
       "\n",
       "                                            test  \\\n",
       "0                       [works, extremely, well]   \n",
       "1                [great, game, keep, love, iraq]   \n",
       "2                                [day, everyday]   \n",
       "3  [trust, frank, lampard, gonna, great, season]   \n",
       "4     [great, night, guys, keep, working, trust]   \n",
       "\n",
       "                                               test1       sub    pol  \\\n",
       "0                     ['works', 'extremely', 'well']  1.000000 -0.125   \n",
       "1          ['great', 'game', 'keep', 'love', 'iraq']  0.583333  0.300   \n",
       "2                                ['day', 'everyday']  0.600000 -0.200   \n",
       "3  ['trust', 'frank', 'lampard', 'gonna', 'great'...  0.750000  0.800   \n",
       "4  ['great', 'night', 'guys', 'keep', 'working', ...  0.750000  0.800   \n",
       "\n",
       "  sentiment  \n",
       "0  Negative  \n",
       "1  Positive  \n",
       "2  Negative  \n",
       "3  Positive  \n",
       "4  Positive  "
      ]
     },
     "execution_count": 258,
     "metadata": {},
     "output_type": "execute_result"
    }
   ],
   "source": [
    "pndf.head()"
   ]
  },
  {
   "cell_type": "code",
   "execution_count": 259,
   "metadata": {},
   "outputs": [
    {
     "name": "stderr",
     "output_type": "stream",
     "text": [
      "<ipython-input-259-9c0953dc9126>:1: SettingWithCopyWarning:\n",
      "\n",
      "\n",
      "A value is trying to be set on a copy of a slice from a DataFrame.\n",
      "Try using .loc[row_indexer,col_indexer] = value instead\n",
      "\n",
      "See the caveats in the documentation: https://pandas.pydata.org/pandas-docs/stable/user_guide/indexing.html#returning-a-view-versus-a-copy\n",
      "\n"
     ]
    }
   ],
   "source": [
    "pndf['label'] = pndf['sentiment']"
   ]
  },
  {
   "cell_type": "code",
   "execution_count": 261,
   "metadata": {},
   "outputs": [
    {
     "data": {
      "text/html": [
       "<div>\n",
       "<style scoped>\n",
       "    .dataframe tbody tr th:only-of-type {\n",
       "        vertical-align: middle;\n",
       "    }\n",
       "\n",
       "    .dataframe tbody tr th {\n",
       "        vertical-align: top;\n",
       "    }\n",
       "\n",
       "    .dataframe thead th {\n",
       "        text-align: right;\n",
       "    }\n",
       "</style>\n",
       "<table border=\"1\" class=\"dataframe\">\n",
       "  <thead>\n",
       "    <tr style=\"text-align: right;\">\n",
       "      <th></th>\n",
       "      <th>text</th>\n",
       "      <th>Subjectivity</th>\n",
       "      <th>Polarity</th>\n",
       "      <th>Analysis</th>\n",
       "      <th>text_no_stops</th>\n",
       "      <th>no_stops</th>\n",
       "      <th>replies</th>\n",
       "      <th>test</th>\n",
       "      <th>test1</th>\n",
       "      <th>sub</th>\n",
       "      <th>pol</th>\n",
       "      <th>sentiment</th>\n",
       "      <th>label</th>\n",
       "    </tr>\n",
       "  </thead>\n",
       "  <tbody>\n",
       "    <tr>\n",
       "      <th>0</th>\n",
       "      <td>works extremely well</td>\n",
       "      <td>1.000000</td>\n",
       "      <td>-0.156250</td>\n",
       "      <td>Negative</td>\n",
       "      <td>works extremely well</td>\n",
       "      <td>[works, extremely, well]</td>\n",
       "      <td>works extremely well</td>\n",
       "      <td>[works, extremely, well]</td>\n",
       "      <td>['works', 'extremely', 'well']</td>\n",
       "      <td>1.000000</td>\n",
       "      <td>-0.125000</td>\n",
       "      <td>Negative</td>\n",
       "      <td>0</td>\n",
       "    </tr>\n",
       "    <tr>\n",
       "      <th>1</th>\n",
       "      <td>great game keep up love from iraq</td>\n",
       "      <td>0.583333</td>\n",
       "      <td>0.300000</td>\n",
       "      <td>Positive</td>\n",
       "      <td>great game keep up love from iraq</td>\n",
       "      <td>[great, game, keep, up, love, from, iraq]</td>\n",
       "      <td>great game keep up love from iraq</td>\n",
       "      <td>[great, game, keep, love, iraq]</td>\n",
       "      <td>['great', 'game', 'keep', 'love', 'iraq']</td>\n",
       "      <td>0.583333</td>\n",
       "      <td>0.300000</td>\n",
       "      <td>Positive</td>\n",
       "      <td>1</td>\n",
       "    </tr>\n",
       "    <tr>\n",
       "      <th>2</th>\n",
       "      <td>all day everyday</td>\n",
       "      <td>0.600000</td>\n",
       "      <td>-0.250000</td>\n",
       "      <td>Negative</td>\n",
       "      <td>all day everyday</td>\n",
       "      <td>[all, day, everyday]</td>\n",
       "      <td>all day everyday</td>\n",
       "      <td>[day, everyday]</td>\n",
       "      <td>['day', 'everyday']</td>\n",
       "      <td>0.600000</td>\n",
       "      <td>-0.200000</td>\n",
       "      <td>Negative</td>\n",
       "      <td>0</td>\n",
       "    </tr>\n",
       "    <tr>\n",
       "      <th>3</th>\n",
       "      <td>i trust in frank lampard and its gonna be a g...</td>\n",
       "      <td>0.750000</td>\n",
       "      <td>0.800000</td>\n",
       "      <td>Positive</td>\n",
       "      <td>i trust in frank lampard and its gonna be a g...</td>\n",
       "      <td>[i, trust, in, frank, lampard, and, its, gonna...</td>\n",
       "      <td>i trust in frank lampard and its gonna be a g...</td>\n",
       "      <td>[trust, frank, lampard, gonna, great, season]</td>\n",
       "      <td>['trust', 'frank', 'lampard', 'gonna', 'great'...</td>\n",
       "      <td>0.750000</td>\n",
       "      <td>0.800000</td>\n",
       "      <td>Positive</td>\n",
       "      <td>1</td>\n",
       "    </tr>\n",
       "    <tr>\n",
       "      <th>4</th>\n",
       "      <td>great night guys just keep working and i tru...</td>\n",
       "      <td>0.750000</td>\n",
       "      <td>0.800000</td>\n",
       "      <td>Positive</td>\n",
       "      <td>great night guys just keep working and i tru...</td>\n",
       "      <td>[great, night, guys, just, keep, working, and,...</td>\n",
       "      <td>great night guys just keep working and i tru...</td>\n",
       "      <td>[great, night, guys, keep, working, trust]</td>\n",
       "      <td>['great', 'night', 'guys', 'keep', 'working', ...</td>\n",
       "      <td>0.750000</td>\n",
       "      <td>0.800000</td>\n",
       "      <td>Positive</td>\n",
       "      <td>1</td>\n",
       "    </tr>\n",
       "    <tr>\n",
       "      <th>...</th>\n",
       "      <td>...</td>\n",
       "      <td>...</td>\n",
       "      <td>...</td>\n",
       "      <td>...</td>\n",
       "      <td>...</td>\n",
       "      <td>...</td>\n",
       "      <td>...</td>\n",
       "      <td>...</td>\n",
       "      <td>...</td>\n",
       "      <td>...</td>\n",
       "      <td>...</td>\n",
       "      <td>...</td>\n",
       "      <td>...</td>\n",
       "    </tr>\n",
       "    <tr>\n",
       "      <th>32309</th>\n",
       "      <td>sarriball is the best</td>\n",
       "      <td>0.300000</td>\n",
       "      <td>1.000000</td>\n",
       "      <td>Positive</td>\n",
       "      <td>sarriball is the best</td>\n",
       "      <td>[sarriball, is, the, best]</td>\n",
       "      <td>sarriball is the best</td>\n",
       "      <td>[sarriball, best]</td>\n",
       "      <td>['sarriball', 'best']</td>\n",
       "      <td>0.300000</td>\n",
       "      <td>1.000000</td>\n",
       "      <td>Positive</td>\n",
       "      <td>1</td>\n",
       "    </tr>\n",
       "    <tr>\n",
       "      <th>32310</th>\n",
       "      <td>we love you super frank</td>\n",
       "      <td>0.633333</td>\n",
       "      <td>0.416667</td>\n",
       "      <td>Positive</td>\n",
       "      <td>we love you super frank</td>\n",
       "      <td>[we, love, you, super, frank]</td>\n",
       "      <td>we love you super frank</td>\n",
       "      <td>[love, super, frank]</td>\n",
       "      <td>['love', 'super', 'frank']</td>\n",
       "      <td>0.633333</td>\n",
       "      <td>0.416667</td>\n",
       "      <td>Positive</td>\n",
       "      <td>1</td>\n",
       "    </tr>\n",
       "    <tr>\n",
       "      <th>32314</th>\n",
       "      <td>lots of positives to take from this game we c...</td>\n",
       "      <td>0.457143</td>\n",
       "      <td>0.314286</td>\n",
       "      <td>Positive</td>\n",
       "      <td>lots of positives to take from this game we c...</td>\n",
       "      <td>[lots, of, positives, to, take, from, this, ga...</td>\n",
       "      <td>lots of positives to take from this game we c...</td>\n",
       "      <td>[lots, positives, take, game, created, many, g...</td>\n",
       "      <td>['lots', 'positives', 'take', 'game', 'created...</td>\n",
       "      <td>0.450000</td>\n",
       "      <td>0.366667</td>\n",
       "      <td>Positive</td>\n",
       "      <td>1</td>\n",
       "    </tr>\n",
       "    <tr>\n",
       "      <th>32316</th>\n",
       "      <td>disappointed</td>\n",
       "      <td>0.750000</td>\n",
       "      <td>-0.750000</td>\n",
       "      <td>Negative</td>\n",
       "      <td>disappointed</td>\n",
       "      <td>[disappointed]</td>\n",
       "      <td>disappointed</td>\n",
       "      <td>[disappointed]</td>\n",
       "      <td>['disappointed']</td>\n",
       "      <td>0.750000</td>\n",
       "      <td>-0.750000</td>\n",
       "      <td>Negative</td>\n",
       "      <td>0</td>\n",
       "    </tr>\n",
       "    <tr>\n",
       "      <th>32318</th>\n",
       "      <td>absolutely the match fans were way better tha...</td>\n",
       "      <td>0.700000</td>\n",
       "      <td>0.350000</td>\n",
       "      <td>Positive</td>\n",
       "      <td>absolutely the match fans were way better tha...</td>\n",
       "      <td>[absolutely, the, match, fans, were, way, bett...</td>\n",
       "      <td>absolutely the match fans were way better tha...</td>\n",
       "      <td>[absolutely, match, fans, way, better, twitter...</td>\n",
       "      <td>['absolutely', 'match', 'fans', 'way', 'better...</td>\n",
       "      <td>0.700000</td>\n",
       "      <td>0.350000</td>\n",
       "      <td>Positive</td>\n",
       "      <td>1</td>\n",
       "    </tr>\n",
       "  </tbody>\n",
       "</table>\n",
       "<p>18294 rows × 13 columns</p>\n",
       "</div>"
      ],
      "text/plain": [
       "                                                    text  Subjectivity  \\\n",
       "0                                  works extremely well       1.000000   \n",
       "1                      great game keep up love from iraq      0.583333   \n",
       "2                                      all day everyday       0.600000   \n",
       "3       i trust in frank lampard and its gonna be a g...      0.750000   \n",
       "4        great night guys just keep working and i tru...      0.750000   \n",
       "...                                                  ...           ...   \n",
       "32309                              sarriball is the best      0.300000   \n",
       "32310                            we love you super frank      0.633333   \n",
       "32314   lots of positives to take from this game we c...      0.457143   \n",
       "32316                                       disappointed      0.750000   \n",
       "32318   absolutely the match fans were way better tha...      0.700000   \n",
       "\n",
       "       Polarity  Analysis                                      text_no_stops  \\\n",
       "0     -0.156250  Negative                              works extremely well    \n",
       "1      0.300000  Positive                  great game keep up love from iraq   \n",
       "2     -0.250000  Negative                                  all day everyday    \n",
       "3      0.800000  Positive   i trust in frank lampard and its gonna be a g...   \n",
       "4      0.800000  Positive    great night guys just keep working and i tru...   \n",
       "...         ...       ...                                                ...   \n",
       "32309  1.000000  Positive                              sarriball is the best   \n",
       "32310  0.416667  Positive                            we love you super frank   \n",
       "32314  0.314286  Positive   lots of positives to take from this game we c...   \n",
       "32316 -0.750000  Negative                                       disappointed   \n",
       "32318  0.350000  Positive   absolutely the match fans were way better tha...   \n",
       "\n",
       "                                                no_stops  \\\n",
       "0                               [works, extremely, well]   \n",
       "1              [great, game, keep, up, love, from, iraq]   \n",
       "2                                   [all, day, everyday]   \n",
       "3      [i, trust, in, frank, lampard, and, its, gonna...   \n",
       "4      [great, night, guys, just, keep, working, and,...   \n",
       "...                                                  ...   \n",
       "32309                         [sarriball, is, the, best]   \n",
       "32310                      [we, love, you, super, frank]   \n",
       "32314  [lots, of, positives, to, take, from, this, ga...   \n",
       "32316                                     [disappointed]   \n",
       "32318  [absolutely, the, match, fans, were, way, bett...   \n",
       "\n",
       "                                                 replies  \\\n",
       "0                                  works extremely well    \n",
       "1                      great game keep up love from iraq   \n",
       "2                                      all day everyday    \n",
       "3       i trust in frank lampard and its gonna be a g...   \n",
       "4        great night guys just keep working and i tru...   \n",
       "...                                                  ...   \n",
       "32309                              sarriball is the best   \n",
       "32310                            we love you super frank   \n",
       "32314   lots of positives to take from this game we c...   \n",
       "32316                                       disappointed   \n",
       "32318   absolutely the match fans were way better tha...   \n",
       "\n",
       "                                                    test  \\\n",
       "0                               [works, extremely, well]   \n",
       "1                        [great, game, keep, love, iraq]   \n",
       "2                                        [day, everyday]   \n",
       "3          [trust, frank, lampard, gonna, great, season]   \n",
       "4             [great, night, guys, keep, working, trust]   \n",
       "...                                                  ...   \n",
       "32309                                  [sarriball, best]   \n",
       "32310                               [love, super, frank]   \n",
       "32314  [lots, positives, take, game, created, many, g...   \n",
       "32316                                     [disappointed]   \n",
       "32318  [absolutely, match, fans, way, better, twitter...   \n",
       "\n",
       "                                                   test1       sub       pol  \\\n",
       "0                         ['works', 'extremely', 'well']  1.000000 -0.125000   \n",
       "1              ['great', 'game', 'keep', 'love', 'iraq']  0.583333  0.300000   \n",
       "2                                    ['day', 'everyday']  0.600000 -0.200000   \n",
       "3      ['trust', 'frank', 'lampard', 'gonna', 'great'...  0.750000  0.800000   \n",
       "4      ['great', 'night', 'guys', 'keep', 'working', ...  0.750000  0.800000   \n",
       "...                                                  ...       ...       ...   \n",
       "32309                              ['sarriball', 'best']  0.300000  1.000000   \n",
       "32310                         ['love', 'super', 'frank']  0.633333  0.416667   \n",
       "32314  ['lots', 'positives', 'take', 'game', 'created...  0.450000  0.366667   \n",
       "32316                                   ['disappointed']  0.750000 -0.750000   \n",
       "32318  ['absolutely', 'match', 'fans', 'way', 'better...  0.700000  0.350000   \n",
       "\n",
       "      sentiment  label  \n",
       "0      Negative      0  \n",
       "1      Positive      1  \n",
       "2      Negative      0  \n",
       "3      Positive      1  \n",
       "4      Positive      1  \n",
       "...         ...    ...  \n",
       "32309  Positive      1  \n",
       "32310  Positive      1  \n",
       "32314  Positive      1  \n",
       "32316  Negative      0  \n",
       "32318  Positive      1  \n",
       "\n",
       "[18294 rows x 13 columns]"
      ]
     },
     "execution_count": 261,
     "metadata": {},
     "output_type": "execute_result"
    }
   ],
   "source": [
    "pndf.replace({'label' : {'Positive' : 1, 'Negative' : 0}})"
   ]
  },
  {
   "cell_type": "markdown",
   "metadata": {},
   "source": [
    "# Rerun Analyses Using Only Positive and Negative as Classification Predictors (pndf)"
   ]
  },
  {
   "cell_type": "markdown",
   "metadata": {},
   "source": [
    "# Run Random Forest, Including Neutral Tweets"
   ]
  },
  {
   "cell_type": "code",
   "execution_count": 175,
   "metadata": {},
   "outputs": [],
   "source": [
    "from sklearn.feature_extraction.text import TfidfVectorizer\n",
    "\n",
    "vectorizer = TfidfVectorizer()\n",
    "bow = vectorizer.fit_transform(ndf['test1'])\n",
    "labels = ndf['sentiment']"
   ]
  },
  {
   "cell_type": "code",
   "execution_count": 176,
   "metadata": {},
   "outputs": [
    {
     "data": {
      "text/plain": [
       "16911"
      ]
     },
     "execution_count": 176,
     "metadata": {},
     "output_type": "execute_result"
    }
   ],
   "source": [
    "len(vectorizer.get_feature_names())"
   ]
  },
  {
   "cell_type": "code",
   "execution_count": 177,
   "metadata": {},
   "outputs": [
    {
     "data": {
      "text/plain": [
       "1794"
      ]
     },
     "execution_count": 177,
     "metadata": {},
     "output_type": "execute_result"
    }
   ],
   "source": [
    "vectorizer = TfidfVectorizer(min_df=15)\n",
    "bow = vectorizer.fit_transform(ndf['test1'])\n",
    "len(vectorizer.get_feature_names())"
   ]
  },
  {
   "cell_type": "code",
   "execution_count": 178,
   "metadata": {},
   "outputs": [],
   "source": [
    "from sklearn.feature_selection import SelectKBest, chi2\n",
    "# select the 200 features that have the strongest correlation to a class from the\n",
    "# remaining 308 features.\n",
    "selected_features = \\\n",
    "SelectKBest(chi2, k=200).fit(bow, labels).get_support(indices=True)"
   ]
  },
  {
   "cell_type": "code",
   "execution_count": 180,
   "metadata": {},
   "outputs": [
    {
     "data": {
      "text/plain": [
       "<32322x200 sparse matrix of type '<class 'numpy.float64'>'\n",
       "\twith 0 stored elements in Compressed Sparse Row format>"
      ]
     },
     "execution_count": 180,
     "metadata": {},
     "output_type": "execute_result"
    }
   ],
   "source": [
    "vectorizer = TfidfVectorizer(min_df=15, vocabulary=selected_features)\n",
    "\n",
    "bow = vectorizer.fit_transform(ndf['test1'])\n",
    "bow"
   ]
  },
  {
   "cell_type": "code",
   "execution_count": 181,
   "metadata": {},
   "outputs": [],
   "source": [
    "from sklearn.model_selection import train_test_split\n",
    "\n",
    "X_train, X_test, y_train, y_test = train_test_split(bow, labels, test_size=0.33)"
   ]
  },
  {
   "cell_type": "code",
   "execution_count": 182,
   "metadata": {},
   "outputs": [],
   "source": [
    "from sklearn.ensemble import RandomForestClassifier as rfc"
   ]
  },
  {
   "cell_type": "code",
   "execution_count": 183,
   "metadata": {},
   "outputs": [
    {
     "data": {
      "text/plain": [
       "0.4340489359707509"
      ]
     },
     "execution_count": 183,
     "metadata": {},
     "output_type": "execute_result"
    }
   ],
   "source": [
    "classifier = rfc()\n",
    "classifier.fit(X_train,y_train)\n",
    "classifier.score(X_test,y_test)"
   ]
  },
  {
   "cell_type": "markdown",
   "metadata": {},
   "source": [
    "# Run Random Forest, Excluding Neutral Tweets"
   ]
  },
  {
   "cell_type": "code",
   "execution_count": 321,
   "metadata": {},
   "outputs": [],
   "source": [
    "from sklearn.feature_extraction.text import TfidfVectorizer\n",
    "\n",
    "vectorizer = TfidfVectorizer()\n",
    "bow = vectorizer.fit_transform(pndf['test1'])\n",
    "labels = pndf['sentiment']"
   ]
  },
  {
   "cell_type": "code",
   "execution_count": 322,
   "metadata": {},
   "outputs": [
    {
     "data": {
      "text/plain": [
       "13484"
      ]
     },
     "execution_count": 322,
     "metadata": {},
     "output_type": "execute_result"
    }
   ],
   "source": [
    "len(vectorizer.get_feature_names())"
   ]
  },
  {
   "cell_type": "code",
   "execution_count": 323,
   "metadata": {},
   "outputs": [
    {
     "data": {
      "text/plain": [
       "1488"
      ]
     },
     "execution_count": 323,
     "metadata": {},
     "output_type": "execute_result"
    }
   ],
   "source": [
    "vectorizer = TfidfVectorizer(min_df=15)\n",
    "bow = vectorizer.fit_transform(pndf['test1'])\n",
    "len(vectorizer.get_feature_names())"
   ]
  },
  {
   "cell_type": "code",
   "execution_count": 324,
   "metadata": {},
   "outputs": [],
   "source": [
    "#Import Different types of models\n",
    "from sklearn.ensemble import RandomForestClassifier\n",
    "\n",
    "# Cross Validation Imports\n",
    "from sklearn.model_selection import KFold # import KFold\n",
    "from sklearn.model_selection import cross_val_score\n",
    "from sklearn.metrics import accuracy_score\n",
    "# package for accuracy calculation\n",
    "from sklearn import metrics"
   ]
  },
  {
   "cell_type": "code",
   "execution_count": 325,
   "metadata": {},
   "outputs": [],
   "source": [
    "from sklearn.feature_selection import SelectKBest, chi2\n",
    "# select the 200 features that have the strongest correlation to a class from the\n",
    "# remaining 308 features.\n",
    "selected_features = \\\n",
    "SelectKBest(chi2, k=200).fit(bow, labels).get_support(indices=True)"
   ]
  },
  {
   "cell_type": "code",
   "execution_count": 326,
   "metadata": {},
   "outputs": [
    {
     "data": {
      "text/plain": [
       "<18294x200 sparse matrix of type '<class 'numpy.float64'>'\n",
       "\twith 0 stored elements in Compressed Sparse Row format>"
      ]
     },
     "execution_count": 326,
     "metadata": {},
     "output_type": "execute_result"
    }
   ],
   "source": [
    "vectorizer = TfidfVectorizer(min_df=15, vocabulary=selected_features)\n",
    "\n",
    "bow = vectorizer.fit_transform(pndf['test1'])\n",
    "bow"
   ]
  },
  {
   "cell_type": "code",
   "execution_count": 327,
   "metadata": {},
   "outputs": [],
   "source": [
    "from sklearn.model_selection import train_test_split\n",
    "\n",
    "X_train, X_test, y_train, y_test = train_test_split(bow, labels, test_size=0.33)"
   ]
  },
  {
   "cell_type": "code",
   "execution_count": 328,
   "metadata": {},
   "outputs": [],
   "source": [
    "from sklearn.ensemble import RandomForestClassifier as rfc"
   ]
  },
  {
   "cell_type": "code",
   "execution_count": 329,
   "metadata": {},
   "outputs": [
    {
     "data": {
      "text/plain": [
       "0.6662802252401457"
      ]
     },
     "execution_count": 329,
     "metadata": {},
     "output_type": "execute_result"
    }
   ],
   "source": [
    "classifier = rfc()\n",
    "classifier.fit(X_train,y_train)\n",
    "classifier.score(X_test,y_test)"
   ]
  },
  {
   "cell_type": "code",
   "execution_count": 330,
   "metadata": {},
   "outputs": [],
   "source": [
    "RF = classifier.fit(X_train, y_train)"
   ]
  },
  {
   "cell_type": "code",
   "execution_count": 331,
   "metadata": {},
   "outputs": [],
   "source": [
    "y_pred = RF.predict(X_test)"
   ]
  },
  {
   "cell_type": "code",
   "execution_count": 332,
   "metadata": {},
   "outputs": [
    {
     "name": "stdout",
     "output_type": "stream",
     "text": [
      "Accuracy: 0.6662802252401457\n"
     ]
    }
   ],
   "source": [
    "print(\"Accuracy:\",metrics.accuracy_score(y_test, y_pred))"
   ]
  },
  {
   "cell_type": "code",
   "execution_count": 333,
   "metadata": {},
   "outputs": [
    {
     "data": {
      "image/png": "[encoded data removed]",
      "text/plain": [
       "<Figure size 432x288 with 1 Axes>"
      ]
     },
     "metadata": {},
     "output_type": "display_data"
    }
   ],
   "source": [
    "# ROC\n",
    "y_pred_proba = classifier.predict_proba(X_test)[::,1]\n",
    "fpr, tpr, _ = metrics.roc_curve(y_test,  y_pred_proba, pos_label='Positive')\n",
    "auc = metrics.roc_auc_score(y_test, y_pred_proba)\n",
    "plt.plot(fpr,tpr,label=\"data 1, auc=\"+str(auc))\n",
    "plt.legend(loc=4)\n",
    "plt.show()"
   ]
  },
  {
   "cell_type": "markdown",
   "metadata": {},
   "source": [
    "# Logistic Regression, Including Neutral Tweets"
   ]
  },
  {
   "cell_type": "code",
   "execution_count": 334,
   "metadata": {},
   "outputs": [],
   "source": [
    "from sklearn.model_selection import train_test_split\n",
    "replies3 = ndf['test1'].values\n",
    "labels3 = ndf['sentiment'].values\n",
    "replies_train, replies_test, y_train, y_test = train_test_split(replies3, labels3, test_size=0.2, random_state=4000)"
   ]
  },
  {
   "cell_type": "code",
   "execution_count": 306,
   "metadata": {},
   "outputs": [],
   "source": [
    "from spacy.lang.en.stop_words import STOP_WORDS\n",
    "from spacy.lang.en import English\n",
    "import string\n",
    "punctuations = string.punctuation\n",
    "parser = English()\n",
    "stopwords = list(STOP_WORDS)\n",
    "def spacy_tokenizer(utterance):\n",
    "      tokens = parser(utterance)\n",
    "      return [token.lemma_.lower().strip() for token in tokens if token.text.lower().strip() not in stopwords and token.text not in punctuations]"
   ]
  },
  {
   "cell_type": "code",
   "execution_count": 307,
   "metadata": {},
   "outputs": [
    {
     "name": "stderr",
     "output_type": "stream",
     "text": [
      "C:\\Users\\rache\\anaconda3\\lib\\site-packages\\sklearn\\feature_extraction\\text.py:484: UserWarning:\n",
      "\n",
      "The parameter 'token_pattern' will not be used since 'tokenizer' is not None'\n",
      "\n"
     ]
    },
    {
     "data": {
      "text/plain": [
       "CountVectorizer(tokenizer=<function spacy_tokenizer at 0x000001443CE1B820>)"
      ]
     },
     "execution_count": 307,
     "metadata": {},
     "output_type": "execute_result"
    }
   ],
   "source": [
    "from sklearn.feature_extraction.text import CountVectorizer\n",
    "vectorizer = CountVectorizer(tokenizer = spacy_tokenizer, ngram_range=(1,1))\n",
    "#By default, the vectorizer might be created as follows:\n",
    "#vectorizer = CountVectorizer()\n",
    "vectorizer.fit(replies_train)"
   ]
  },
  {
   "cell_type": "code",
   "execution_count": 308,
   "metadata": {},
   "outputs": [],
   "source": [
    "X_train = vectorizer.transform(replies_train)\n",
    "X_test = vectorizer.transform(replies_test)"
   ]
  },
  {
   "cell_type": "code",
   "execution_count": 309,
   "metadata": {},
   "outputs": [
    {
     "data": {
      "text/plain": [
       "LogisticRegression()"
      ]
     },
     "execution_count": 309,
     "metadata": {},
     "output_type": "execute_result"
    }
   ],
   "source": [
    "from sklearn.linear_model import LogisticRegression\n",
    "classifier = LogisticRegression()\n",
    "classifier.fit(X_train, y_train)"
   ]
  },
  {
   "cell_type": "code",
   "execution_count": 310,
   "metadata": {
    "scrolled": true
   },
   "outputs": [
    {
     "name": "stdout",
     "output_type": "stream",
     "text": [
      "0.5583913379737045\n"
     ]
    }
   ],
   "source": [
    "accuracy = classifier.score(X_test, y_test)\n",
    "print(accuracy)"
   ]
  },
  {
   "cell_type": "markdown",
   "metadata": {},
   "source": [
    "# Logistic Regression, Excluding Neutral Tweets"
   ]
  },
  {
   "cell_type": "code",
   "execution_count": 336,
   "metadata": {},
   "outputs": [],
   "source": [
    "from sklearn.model_selection import train_test_split\n",
    "replies4 = pndf['test1'].values\n",
    "labels4 = pndf['sentiment'].values\n",
    "replies_train, replies_test, y_train, y_test = train_test_split(replies4, labels4, test_size=0.33, random_state=70)"
   ]
  },
  {
   "cell_type": "code",
   "execution_count": 337,
   "metadata": {},
   "outputs": [],
   "source": [
    "from spacy.lang.en.stop_words import STOP_WORDS\n",
    "from spacy.lang.en import English\n",
    "import string\n",
    "punctuations = string.punctuation\n",
    "parser = English()\n",
    "stopwords = list(STOP_WORDS)\n",
    "def spacy_tokenizer(utterance):\n",
    "      tokens = parser(utterance)\n",
    "      return [token.lemma_.lower().strip() \n",
    "        for token in tokens if token.text.lower().strip() not in stopwords and token.text not in punctuations]"
   ]
  },
  {
   "cell_type": "code",
   "execution_count": 338,
   "metadata": {},
   "outputs": [
    {
     "name": "stderr",
     "output_type": "stream",
     "text": [
      "C:\\Users\\rache\\anaconda3\\lib\\site-packages\\sklearn\\feature_extraction\\text.py:484: UserWarning:\n",
      "\n",
      "The parameter 'token_pattern' will not be used since 'tokenizer' is not None'\n",
      "\n"
     ]
    },
    {
     "data": {
      "text/plain": [
       "CountVectorizer(tokenizer=<function spacy_tokenizer at 0x000001443C314310>)"
      ]
     },
     "execution_count": 338,
     "metadata": {},
     "output_type": "execute_result"
    }
   ],
   "source": [
    "from sklearn.feature_extraction.text import CountVectorizer\n",
    "vectorizer = CountVectorizer(tokenizer = spacy_tokenizer, ngram_range=(1,1))\n",
    "#By default, the vectorizer might be created as follows:\n",
    "#vectorizer = CountVectorizer()\n",
    "vectorizer.fit(replies_train)"
   ]
  },
  {
   "cell_type": "code",
   "execution_count": 339,
   "metadata": {},
   "outputs": [],
   "source": [
    "X_train = vectorizer.transform(replies_train)\n",
    "X_test = vectorizer.transform(replies_test)"
   ]
  },
  {
   "cell_type": "code",
   "execution_count": 340,
   "metadata": {},
   "outputs": [
    {
     "data": {
      "text/plain": [
       "LogisticRegression()"
      ]
     },
     "execution_count": 340,
     "metadata": {},
     "output_type": "execute_result"
    }
   ],
   "source": [
    "from sklearn.linear_model import LogisticRegression\n",
    "classifier = LogisticRegression()\n",
    "classifier.fit(X_train, y_train)"
   ]
  },
  {
   "cell_type": "code",
   "execution_count": 341,
   "metadata": {},
   "outputs": [
    {
     "name": "stdout",
     "output_type": "stream",
     "text": [
      "0.667108314011262\n"
     ]
    }
   ],
   "source": [
    "accuracy = classifier.score(X_test, y_test)\n",
    "print(accuracy)"
   ]
  },
  {
   "cell_type": "code",
   "execution_count": 342,
   "metadata": {},
   "outputs": [
    {
     "data": {
      "image/png": "[encoded data removed]",
      "text/plain": [
       "<Figure size 432x288 with 1 Axes>"
      ]
     },
     "metadata": {},
     "output_type": "display_data"
    }
   ],
   "source": [
    "# ROC\n",
    "y_pred_proba = classifier.predict_proba(X_test)[::,1]\n",
    "fpr, tpr, _ = metrics.roc_curve(y_test,  y_pred_proba, pos_label='Positive')\n",
    "auc = metrics.roc_auc_score(y_test, y_pred_proba)\n",
    "plt.plot(fpr,tpr,label=\"data 1, auc=\"+str(auc))\n",
    "plt.legend(loc=4)\n",
    "plt.show()"
   ]
  }
 ],
 "metadata": {
  "kernelspec": {
   "display_name": "Python 3",
   "language": "python",
   "name": "python3"
  },
  "language_info": {
   "codemirror_mode": {
    "name": "ipython",
    "version": 3
   },
   "file_extension": ".py",
   "mimetype": "text/x-python",
   "name": "python",
   "nbconvert_exporter": "python",
   "pygments_lexer": "ipython3",
   "version": "3.8.5"
  }
 },
 "nbformat": 4,
 "nbformat_minor": 4
}
