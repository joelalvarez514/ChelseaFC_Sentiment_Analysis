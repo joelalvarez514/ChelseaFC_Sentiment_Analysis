{
 "cells": [
  {
   "cell_type": "markdown",
   "metadata": {},
   "source": [
    "# 1. Cleaning the Replies ('text.x' -- changed to 'text')\n",
    "\n",
    "# 2. Create Polarity and Subjectivity columns for the englsih exclusive dataframe (eng), to then calculate the sentiment analysis\n",
    "\n",
    "# 3. Creating Separate Dataframes for: \n",
    "- Wins \n",
    "- Losses \n",
    "- Draws\n",
    "\n",
    "# 4. Running Preliminary Sentiment on each Dataframe (Wins/Losses/Draws) \n",
    "# 5. Create new dataframes for:\n",
    "- Positive tweets\n",
    "- Negative tweets\n",
    "- Neutral tweets"
   ]
  },
  {
   "cell_type": "markdown",
   "metadata": {},
   "source": [
    "### Installing necessary imports"
   ]
  },
  {
   "cell_type": "code",
   "execution_count": 87,
   "metadata": {},
   "outputs": [],
   "source": [
    "import spacy\n",
    "import pandas as pd\n",
    "import numpy as np\n",
    "import re\n",
    "import matplotlib.pyplot as plt"
   ]
  },
  {
   "cell_type": "code",
   "execution_count": 88,
   "metadata": {},
   "outputs": [
    {
     "data": {
      "text/html": [
       "        <script type=\"text/javascript\">\n",
       "        window.PlotlyConfig = {MathJaxConfig: 'local'};\n",
       "        if (window.MathJax) {MathJax.Hub.Config({SVG: {font: \"STIX-Web\"}});}\n",
       "        if (typeof require !== 'undefined') {\n",
       "        require.undef(\"plotly\");\n",
       "        requirejs.config({\n",
       "            paths: {\n",
       "                'plotly': ['https://cdn.plot.ly/plotly-latest.min']\n",
       "            }\n",
       "        });\n",
       "        require(['plotly'], function(Plotly) {\n",
       "            window._Plotly = Plotly;\n",
       "        });\n",
       "        }\n",
       "        </script>\n",
       "        "
      ]
     },
     "metadata": {},
     "output_type": "display_data"
    }
   ],
   "source": [
    "import seaborn as sns\n",
    "color = sns.color_palette()\n",
    "%matplotlib inline\n",
    "import plotly.offline as py\n",
    "py.init_notebook_mode(connected=True)\n",
    "import plotly.graph_objs as go\n",
    "import plotly.tools as tls\n",
    "import plotly.express as px"
   ]
  },
  {
   "cell_type": "code",
   "execution_count": 89,
   "metadata": {},
   "outputs": [],
   "source": [
    "import tweepy\n",
    "from textblob import TextBlob\n",
    "from wordcloud import WordCloud\n",
    "plt.style.use('fivethirtyeight')"
   ]
  },
  {
   "cell_type": "code",
   "execution_count": 90,
   "metadata": {},
   "outputs": [],
   "source": [
    "import nltk\n",
    "from nltk.corpus import stopwords\n",
    "from wordcloud import WordCloud "
   ]
  },
  {
   "cell_type": "markdown",
   "metadata": {},
   "source": [
    "### Upload the csv file containing the replies"
   ]
  },
  {
   "cell_type": "code",
   "execution_count": 4,
   "metadata": {},
   "outputs": [],
   "source": [
    "just_reply = pd.read_csv('data_2020.csv')"
   ]
  },
  {
   "cell_type": "code",
   "execution_count": 5,
   "metadata": {
    "scrolled": true
   },
   "outputs": [
    {
     "data": {
      "text/html": [
       "<div>\n",
       "<style scoped>\n",
       "    .dataframe tbody tr th:only-of-type {\n",
       "        vertical-align: middle;\n",
       "    }\n",
       "\n",
       "    .dataframe tbody tr th {\n",
       "        vertical-align: top;\n",
       "    }\n",
       "\n",
       "    .dataframe thead th {\n",
       "        text-align: right;\n",
       "    }\n",
       "</style>\n",
       "<table border=\"1\" class=\"dataframe\">\n",
       "  <thead>\n",
       "    <tr style=\"text-align: right;\">\n",
       "      <th></th>\n",
       "      <th>Unnamed: 0</th>\n",
       "      <th>X.1</th>\n",
       "      <th>X</th>\n",
       "      <th>user_id.x</th>\n",
       "      <th>status_id</th>\n",
       "      <th>created_at.x</th>\n",
       "      <th>screen_name.x</th>\n",
       "      <th>text.x</th>\n",
       "      <th>source.x</th>\n",
       "      <th>display_text_width.x</th>\n",
       "      <th>...</th>\n",
       "      <th>verified.y</th>\n",
       "      <th>profile_banner_url.y</th>\n",
       "      <th>profile_background_url.y</th>\n",
       "      <th>profile_image_url.y</th>\n",
       "      <th>W</th>\n",
       "      <th>L</th>\n",
       "      <th>D</th>\n",
       "      <th>date</th>\n",
       "      <th>W_true</th>\n",
       "      <th>year</th>\n",
       "    </tr>\n",
       "  </thead>\n",
       "  <tbody>\n",
       "    <tr>\n",
       "      <th>0</th>\n",
       "      <td>5118</td>\n",
       "      <td>6141</td>\n",
       "      <td>1</td>\n",
       "      <td>2.468828e+09</td>\n",
       "      <td>1.161790e+18</td>\n",
       "      <td>2019-08-14 23:59:41</td>\n",
       "      <td>muttle9</td>\n",
       "      <td>@ChelseaFC 4-3-3 works extremely well! 🌟🌟🌟🌟</td>\n",
       "      <td>Twitter for Android</td>\n",
       "      <td>32.0</td>\n",
       "      <td>...</td>\n",
       "      <td>True</td>\n",
       "      <td>https://pbs.twimg.com/profile_banners/22910295...</td>\n",
       "      <td>http://abs.twimg.com/images/themes/theme1/bg.png</td>\n",
       "      <td>http://pbs.twimg.com/profile_images/1338595356...</td>\n",
       "      <td>0</td>\n",
       "      <td>1</td>\n",
       "      <td>0</td>\n",
       "      <td>2019-08-14</td>\n",
       "      <td>0</td>\n",
       "      <td>2019</td>\n",
       "    </tr>\n",
       "    <tr>\n",
       "      <th>1</th>\n",
       "      <td>5119</td>\n",
       "      <td>6142</td>\n",
       "      <td>2</td>\n",
       "      <td>1.625913e+09</td>\n",
       "      <td>1.161790e+18</td>\n",
       "      <td>2019-08-14 23:59:37</td>\n",
       "      <td>CFCHash</td>\n",
       "      <td>@ChelseaFC 💙💙💙💙💙</td>\n",
       "      <td>Twitter for iPhone</td>\n",
       "      <td>5.0</td>\n",
       "      <td>...</td>\n",
       "      <td>True</td>\n",
       "      <td>https://pbs.twimg.com/profile_banners/22910295...</td>\n",
       "      <td>http://abs.twimg.com/images/themes/theme1/bg.png</td>\n",
       "      <td>http://pbs.twimg.com/profile_images/1338595356...</td>\n",
       "      <td>0</td>\n",
       "      <td>1</td>\n",
       "      <td>0</td>\n",
       "      <td>2019-08-14</td>\n",
       "      <td>0</td>\n",
       "      <td>2019</td>\n",
       "    </tr>\n",
       "    <tr>\n",
       "      <th>2</th>\n",
       "      <td>5120</td>\n",
       "      <td>6143</td>\n",
       "      <td>3</td>\n",
       "      <td>7.086827e+17</td>\n",
       "      <td>1.161789e+18</td>\n",
       "      <td>2019-08-14 23:58:43</td>\n",
       "      <td>amirshwki</td>\n",
       "      <td>@ChelseaFC Great game\\nKeep up\\nLove from IRAQ</td>\n",
       "      <td>Twitter for iPhone</td>\n",
       "      <td>33.0</td>\n",
       "      <td>...</td>\n",
       "      <td>True</td>\n",
       "      <td>https://pbs.twimg.com/profile_banners/22910295...</td>\n",
       "      <td>http://abs.twimg.com/images/themes/theme1/bg.png</td>\n",
       "      <td>http://pbs.twimg.com/profile_images/1338595356...</td>\n",
       "      <td>0</td>\n",
       "      <td>1</td>\n",
       "      <td>0</td>\n",
       "      <td>2019-08-14</td>\n",
       "      <td>0</td>\n",
       "      <td>2019</td>\n",
       "    </tr>\n",
       "    <tr>\n",
       "      <th>3</th>\n",
       "      <td>5121</td>\n",
       "      <td>6145</td>\n",
       "      <td>5</td>\n",
       "      <td>8.380335e+17</td>\n",
       "      <td>1.161789e+18</td>\n",
       "      <td>2019-08-14 23:58:23</td>\n",
       "      <td>pbanks5050</td>\n",
       "      <td>@ChelseaFC All day, Everyday !</td>\n",
       "      <td>Twitter for iPhone</td>\n",
       "      <td>19.0</td>\n",
       "      <td>...</td>\n",
       "      <td>True</td>\n",
       "      <td>https://pbs.twimg.com/profile_banners/22910295...</td>\n",
       "      <td>http://abs.twimg.com/images/themes/theme1/bg.png</td>\n",
       "      <td>http://pbs.twimg.com/profile_images/1338595356...</td>\n",
       "      <td>0</td>\n",
       "      <td>1</td>\n",
       "      <td>0</td>\n",
       "      <td>2019-08-14</td>\n",
       "      <td>0</td>\n",
       "      <td>2019</td>\n",
       "    </tr>\n",
       "    <tr>\n",
       "      <th>4</th>\n",
       "      <td>5122</td>\n",
       "      <td>6146</td>\n",
       "      <td>6</td>\n",
       "      <td>1.087478e+18</td>\n",
       "      <td>1.161789e+18</td>\n",
       "      <td>2019-08-14 23:57:21</td>\n",
       "      <td>MyrtilNathanae1</td>\n",
       "      <td>@ChelseaFC I trust in Frank Lampard and it's g...</td>\n",
       "      <td>Twitter for Android</td>\n",
       "      <td>57.0</td>\n",
       "      <td>...</td>\n",
       "      <td>True</td>\n",
       "      <td>https://pbs.twimg.com/profile_banners/22910295...</td>\n",
       "      <td>http://abs.twimg.com/images/themes/theme1/bg.png</td>\n",
       "      <td>http://pbs.twimg.com/profile_images/1338595356...</td>\n",
       "      <td>0</td>\n",
       "      <td>1</td>\n",
       "      <td>0</td>\n",
       "      <td>2019-08-14</td>\n",
       "      <td>0</td>\n",
       "      <td>2019</td>\n",
       "    </tr>\n",
       "  </tbody>\n",
       "</table>\n",
       "<p>5 rows × 70 columns</p>\n",
       "</div>"
      ],
      "text/plain": [
       "   Unnamed: 0   X.1  X     user_id.x     status_id         created_at.x  \\\n",
       "0        5118  6141  1  2.468828e+09  1.161790e+18  2019-08-14 23:59:41   \n",
       "1        5119  6142  2  1.625913e+09  1.161790e+18  2019-08-14 23:59:37   \n",
       "2        5120  6143  3  7.086827e+17  1.161789e+18  2019-08-14 23:58:43   \n",
       "3        5121  6145  5  8.380335e+17  1.161789e+18  2019-08-14 23:58:23   \n",
       "4        5122  6146  6  1.087478e+18  1.161789e+18  2019-08-14 23:57:21   \n",
       "\n",
       "     screen_name.x                                             text.x  \\\n",
       "0          muttle9        @ChelseaFC 4-3-3 works extremely well! 🌟🌟🌟🌟   \n",
       "1          CFCHash                                   @ChelseaFC 💙💙💙💙💙   \n",
       "2        amirshwki     @ChelseaFC Great game\\nKeep up\\nLove from IRAQ   \n",
       "3       pbanks5050                     @ChelseaFC All day, Everyday !   \n",
       "4  MyrtilNathanae1  @ChelseaFC I trust in Frank Lampard and it's g...   \n",
       "\n",
       "              source.x  display_text_width.x  ...  verified.y  \\\n",
       "0  Twitter for Android                  32.0  ...        True   \n",
       "1   Twitter for iPhone                   5.0  ...        True   \n",
       "2   Twitter for iPhone                  33.0  ...        True   \n",
       "3   Twitter for iPhone                  19.0  ...        True   \n",
       "4  Twitter for Android                  57.0  ...        True   \n",
       "\n",
       "                                profile_banner_url.y  \\\n",
       "0  https://pbs.twimg.com/profile_banners/22910295...   \n",
       "1  https://pbs.twimg.com/profile_banners/22910295...   \n",
       "2  https://pbs.twimg.com/profile_banners/22910295...   \n",
       "3  https://pbs.twimg.com/profile_banners/22910295...   \n",
       "4  https://pbs.twimg.com/profile_banners/22910295...   \n",
       "\n",
       "                           profile_background_url.y  \\\n",
       "0  http://abs.twimg.com/images/themes/theme1/bg.png   \n",
       "1  http://abs.twimg.com/images/themes/theme1/bg.png   \n",
       "2  http://abs.twimg.com/images/themes/theme1/bg.png   \n",
       "3  http://abs.twimg.com/images/themes/theme1/bg.png   \n",
       "4  http://abs.twimg.com/images/themes/theme1/bg.png   \n",
       "\n",
       "                                 profile_image_url.y  W  L  D        date  \\\n",
       "0  http://pbs.twimg.com/profile_images/1338595356...  0  1  0  2019-08-14   \n",
       "1  http://pbs.twimg.com/profile_images/1338595356...  0  1  0  2019-08-14   \n",
       "2  http://pbs.twimg.com/profile_images/1338595356...  0  1  0  2019-08-14   \n",
       "3  http://pbs.twimg.com/profile_images/1338595356...  0  1  0  2019-08-14   \n",
       "4  http://pbs.twimg.com/profile_images/1338595356...  0  1  0  2019-08-14   \n",
       "\n",
       "   W_true  year  \n",
       "0       0  2019  \n",
       "1       0  2019  \n",
       "2       0  2019  \n",
       "3       0  2019  \n",
       "4       0  2019  \n",
       "\n",
       "[5 rows x 70 columns]"
      ]
     },
     "execution_count": 5,
     "metadata": {},
     "output_type": "execute_result"
    }
   ],
   "source": [
    "just_reply.head()"
   ]
  },
  {
   "cell_type": "code",
   "execution_count": 6,
   "metadata": {},
   "outputs": [
    {
     "data": {
      "text/plain": [
       "40610"
      ]
     },
     "execution_count": 6,
     "metadata": {},
     "output_type": "execute_result"
    }
   ],
   "source": [
    "len(just_reply)"
   ]
  },
  {
   "cell_type": "markdown",
   "metadata": {},
   "source": [
    "### Checking how many different languages are in the dataframe"
   ]
  },
  {
   "cell_type": "code",
   "execution_count": 7,
   "metadata": {
    "scrolled": true
   },
   "outputs": [
    {
     "data": {
      "text/plain": [
       "en     32322\n",
       "und     4715\n",
       "in       859\n",
       "es       557\n",
       "pt       428\n",
       "tl       251\n",
       "fr       203\n",
       "sv       132\n",
       "ht       131\n",
       "nl       125\n",
       "ar       125\n",
       "tr       103\n",
       "et        82\n",
       "de        81\n",
       "it        70\n",
       "no        49\n",
       "pl        45\n",
       "eu        37\n",
       "cs        36\n",
       "hi        36\n",
       "cy        35\n",
       "ca        35\n",
       "da        30\n",
       "ro        23\n",
       "lv        22\n",
       "fi        16\n",
       "lt        11\n",
       "hu         9\n",
       "sl         9\n",
       "is         6\n",
       "ru         6\n",
       "vi         6\n",
       "fa         5\n",
       "ja         3\n",
       "zh         2\n",
       "bn         2\n",
       "ko         1\n",
       "uk         1\n",
       "th         1\n",
       "Name: lang.x, dtype: int64"
      ]
     },
     "execution_count": 7,
     "metadata": {},
     "output_type": "execute_result"
    }
   ],
   "source": [
    "just_reply['lang.x'].value_counts()"
   ]
  },
  {
   "cell_type": "code",
   "execution_count": 8,
   "metadata": {
    "scrolled": false
   },
   "outputs": [
    {
     "data": {
      "text/plain": [
       "39"
      ]
     },
     "execution_count": 8,
     "metadata": {},
     "output_type": "execute_result"
    }
   ],
   "source": [
    "len(just_reply['lang.x'].unique())"
   ]
  },
  {
   "cell_type": "markdown",
   "metadata": {},
   "source": [
    "### Create a new dataframe, 'eng', which contains *just* the english text"
   ]
  },
  {
   "cell_type": "code",
   "execution_count": 9,
   "metadata": {},
   "outputs": [],
   "source": [
    "eng = just_reply.loc[(just_reply['lang.x'] == 'en')]"
   ]
  },
  {
   "cell_type": "code",
   "execution_count": 10,
   "metadata": {
    "scrolled": true
   },
   "outputs": [
    {
     "data": {
      "text/plain": [
       "32322"
      ]
     },
     "execution_count": 10,
     "metadata": {},
     "output_type": "execute_result"
    }
   ],
   "source": [
    "len(eng)"
   ]
  },
  {
   "cell_type": "markdown",
   "metadata": {},
   "source": [
    "# 1. Cleaning the replies (text.x changed to text)"
   ]
  },
  {
   "cell_type": "code",
   "execution_count": 11,
   "metadata": {
    "scrolled": true
   },
   "outputs": [
    {
     "name": "stderr",
     "output_type": "stream",
     "text": [
      "C:\\Users\\rache\\anaconda3\\lib\\site-packages\\pandas\\core\\frame.py:4296: SettingWithCopyWarning:\n",
      "\n",
      "\n",
      "A value is trying to be set on a copy of a slice from a DataFrame\n",
      "\n",
      "See the caveats in the documentation: https://pandas.pydata.org/pandas-docs/stable/user_guide/indexing.html#returning-a-view-versus-a-copy\n",
      "\n"
     ]
    }
   ],
   "source": [
    "# change the 'text.x' column to 'text'\n",
    "eng.rename(columns={'text.x': 'text'}, inplace=True)"
   ]
  },
  {
   "cell_type": "code",
   "execution_count": 12,
   "metadata": {},
   "outputs": [
    {
     "data": {
      "text/html": [
       "<div>\n",
       "<style scoped>\n",
       "    .dataframe tbody tr th:only-of-type {\n",
       "        vertical-align: middle;\n",
       "    }\n",
       "\n",
       "    .dataframe tbody tr th {\n",
       "        vertical-align: top;\n",
       "    }\n",
       "\n",
       "    .dataframe thead th {\n",
       "        text-align: right;\n",
       "    }\n",
       "</style>\n",
       "<table border=\"1\" class=\"dataframe\">\n",
       "  <thead>\n",
       "    <tr style=\"text-align: right;\">\n",
       "      <th></th>\n",
       "      <th>Unnamed: 0</th>\n",
       "      <th>X.1</th>\n",
       "      <th>X</th>\n",
       "      <th>user_id.x</th>\n",
       "      <th>status_id</th>\n",
       "      <th>created_at.x</th>\n",
       "      <th>screen_name.x</th>\n",
       "      <th>text</th>\n",
       "      <th>source.x</th>\n",
       "      <th>display_text_width.x</th>\n",
       "      <th>...</th>\n",
       "      <th>verified.y</th>\n",
       "      <th>profile_banner_url.y</th>\n",
       "      <th>profile_background_url.y</th>\n",
       "      <th>profile_image_url.y</th>\n",
       "      <th>W</th>\n",
       "      <th>L</th>\n",
       "      <th>D</th>\n",
       "      <th>date</th>\n",
       "      <th>W_true</th>\n",
       "      <th>year</th>\n",
       "    </tr>\n",
       "  </thead>\n",
       "  <tbody>\n",
       "    <tr>\n",
       "      <th>0</th>\n",
       "      <td>5118</td>\n",
       "      <td>6141</td>\n",
       "      <td>1</td>\n",
       "      <td>2.468828e+09</td>\n",
       "      <td>1.161790e+18</td>\n",
       "      <td>2019-08-14 23:59:41</td>\n",
       "      <td>muttle9</td>\n",
       "      <td>@ChelseaFC 4-3-3 works extremely well! 🌟🌟🌟🌟</td>\n",
       "      <td>Twitter for Android</td>\n",
       "      <td>32.0</td>\n",
       "      <td>...</td>\n",
       "      <td>True</td>\n",
       "      <td>https://pbs.twimg.com/profile_banners/22910295...</td>\n",
       "      <td>http://abs.twimg.com/images/themes/theme1/bg.png</td>\n",
       "      <td>http://pbs.twimg.com/profile_images/1338595356...</td>\n",
       "      <td>0</td>\n",
       "      <td>1</td>\n",
       "      <td>0</td>\n",
       "      <td>2019-08-14</td>\n",
       "      <td>0</td>\n",
       "      <td>2019</td>\n",
       "    </tr>\n",
       "    <tr>\n",
       "      <th>2</th>\n",
       "      <td>5120</td>\n",
       "      <td>6143</td>\n",
       "      <td>3</td>\n",
       "      <td>7.086827e+17</td>\n",
       "      <td>1.161789e+18</td>\n",
       "      <td>2019-08-14 23:58:43</td>\n",
       "      <td>amirshwki</td>\n",
       "      <td>@ChelseaFC Great game\\nKeep up\\nLove from IRAQ</td>\n",
       "      <td>Twitter for iPhone</td>\n",
       "      <td>33.0</td>\n",
       "      <td>...</td>\n",
       "      <td>True</td>\n",
       "      <td>https://pbs.twimg.com/profile_banners/22910295...</td>\n",
       "      <td>http://abs.twimg.com/images/themes/theme1/bg.png</td>\n",
       "      <td>http://pbs.twimg.com/profile_images/1338595356...</td>\n",
       "      <td>0</td>\n",
       "      <td>1</td>\n",
       "      <td>0</td>\n",
       "      <td>2019-08-14</td>\n",
       "      <td>0</td>\n",
       "      <td>2019</td>\n",
       "    </tr>\n",
       "    <tr>\n",
       "      <th>3</th>\n",
       "      <td>5121</td>\n",
       "      <td>6145</td>\n",
       "      <td>5</td>\n",
       "      <td>8.380335e+17</td>\n",
       "      <td>1.161789e+18</td>\n",
       "      <td>2019-08-14 23:58:23</td>\n",
       "      <td>pbanks5050</td>\n",
       "      <td>@ChelseaFC All day, Everyday !</td>\n",
       "      <td>Twitter for iPhone</td>\n",
       "      <td>19.0</td>\n",
       "      <td>...</td>\n",
       "      <td>True</td>\n",
       "      <td>https://pbs.twimg.com/profile_banners/22910295...</td>\n",
       "      <td>http://abs.twimg.com/images/themes/theme1/bg.png</td>\n",
       "      <td>http://pbs.twimg.com/profile_images/1338595356...</td>\n",
       "      <td>0</td>\n",
       "      <td>1</td>\n",
       "      <td>0</td>\n",
       "      <td>2019-08-14</td>\n",
       "      <td>0</td>\n",
       "      <td>2019</td>\n",
       "    </tr>\n",
       "    <tr>\n",
       "      <th>4</th>\n",
       "      <td>5122</td>\n",
       "      <td>6146</td>\n",
       "      <td>6</td>\n",
       "      <td>1.087478e+18</td>\n",
       "      <td>1.161789e+18</td>\n",
       "      <td>2019-08-14 23:57:21</td>\n",
       "      <td>MyrtilNathanae1</td>\n",
       "      <td>@ChelseaFC I trust in Frank Lampard and it's g...</td>\n",
       "      <td>Twitter for Android</td>\n",
       "      <td>57.0</td>\n",
       "      <td>...</td>\n",
       "      <td>True</td>\n",
       "      <td>https://pbs.twimg.com/profile_banners/22910295...</td>\n",
       "      <td>http://abs.twimg.com/images/themes/theme1/bg.png</td>\n",
       "      <td>http://pbs.twimg.com/profile_images/1338595356...</td>\n",
       "      <td>0</td>\n",
       "      <td>1</td>\n",
       "      <td>0</td>\n",
       "      <td>2019-08-14</td>\n",
       "      <td>0</td>\n",
       "      <td>2019</td>\n",
       "    </tr>\n",
       "    <tr>\n",
       "      <th>5</th>\n",
       "      <td>5123</td>\n",
       "      <td>6147</td>\n",
       "      <td>7</td>\n",
       "      <td>1.087478e+18</td>\n",
       "      <td>1.161789e+18</td>\n",
       "      <td>2019-08-14 23:56:28</td>\n",
       "      <td>MyrtilNathanae1</td>\n",
       "      <td>@ChelseaFC @nglkante Great night guys just kee...</td>\n",
       "      <td>Twitter for Android</td>\n",
       "      <td>53.0</td>\n",
       "      <td>...</td>\n",
       "      <td>True</td>\n",
       "      <td>https://pbs.twimg.com/profile_banners/22910295...</td>\n",
       "      <td>http://abs.twimg.com/images/themes/theme1/bg.png</td>\n",
       "      <td>http://pbs.twimg.com/profile_images/1338595356...</td>\n",
       "      <td>0</td>\n",
       "      <td>1</td>\n",
       "      <td>0</td>\n",
       "      <td>2019-08-14</td>\n",
       "      <td>0</td>\n",
       "      <td>2019</td>\n",
       "    </tr>\n",
       "  </tbody>\n",
       "</table>\n",
       "<p>5 rows × 70 columns</p>\n",
       "</div>"
      ],
      "text/plain": [
       "   Unnamed: 0   X.1  X     user_id.x     status_id         created_at.x  \\\n",
       "0        5118  6141  1  2.468828e+09  1.161790e+18  2019-08-14 23:59:41   \n",
       "2        5120  6143  3  7.086827e+17  1.161789e+18  2019-08-14 23:58:43   \n",
       "3        5121  6145  5  8.380335e+17  1.161789e+18  2019-08-14 23:58:23   \n",
       "4        5122  6146  6  1.087478e+18  1.161789e+18  2019-08-14 23:57:21   \n",
       "5        5123  6147  7  1.087478e+18  1.161789e+18  2019-08-14 23:56:28   \n",
       "\n",
       "     screen_name.x                                               text  \\\n",
       "0          muttle9        @ChelseaFC 4-3-3 works extremely well! 🌟🌟🌟🌟   \n",
       "2        amirshwki     @ChelseaFC Great game\\nKeep up\\nLove from IRAQ   \n",
       "3       pbanks5050                     @ChelseaFC All day, Everyday !   \n",
       "4  MyrtilNathanae1  @ChelseaFC I trust in Frank Lampard and it's g...   \n",
       "5  MyrtilNathanae1  @ChelseaFC @nglkante Great night guys just kee...   \n",
       "\n",
       "              source.x  display_text_width.x  ...  verified.y  \\\n",
       "0  Twitter for Android                  32.0  ...        True   \n",
       "2   Twitter for iPhone                  33.0  ...        True   \n",
       "3   Twitter for iPhone                  19.0  ...        True   \n",
       "4  Twitter for Android                  57.0  ...        True   \n",
       "5  Twitter for Android                  53.0  ...        True   \n",
       "\n",
       "                                profile_banner_url.y  \\\n",
       "0  https://pbs.twimg.com/profile_banners/22910295...   \n",
       "2  https://pbs.twimg.com/profile_banners/22910295...   \n",
       "3  https://pbs.twimg.com/profile_banners/22910295...   \n",
       "4  https://pbs.twimg.com/profile_banners/22910295...   \n",
       "5  https://pbs.twimg.com/profile_banners/22910295...   \n",
       "\n",
       "                           profile_background_url.y  \\\n",
       "0  http://abs.twimg.com/images/themes/theme1/bg.png   \n",
       "2  http://abs.twimg.com/images/themes/theme1/bg.png   \n",
       "3  http://abs.twimg.com/images/themes/theme1/bg.png   \n",
       "4  http://abs.twimg.com/images/themes/theme1/bg.png   \n",
       "5  http://abs.twimg.com/images/themes/theme1/bg.png   \n",
       "\n",
       "                                 profile_image_url.y  W  L  D        date  \\\n",
       "0  http://pbs.twimg.com/profile_images/1338595356...  0  1  0  2019-08-14   \n",
       "2  http://pbs.twimg.com/profile_images/1338595356...  0  1  0  2019-08-14   \n",
       "3  http://pbs.twimg.com/profile_images/1338595356...  0  1  0  2019-08-14   \n",
       "4  http://pbs.twimg.com/profile_images/1338595356...  0  1  0  2019-08-14   \n",
       "5  http://pbs.twimg.com/profile_images/1338595356...  0  1  0  2019-08-14   \n",
       "\n",
       "   W_true  year  \n",
       "0       0  2019  \n",
       "2       0  2019  \n",
       "3       0  2019  \n",
       "4       0  2019  \n",
       "5       0  2019  \n",
       "\n",
       "[5 rows x 70 columns]"
      ]
     },
     "execution_count": 12,
     "metadata": {},
     "output_type": "execute_result"
    }
   ],
   "source": [
    "eng.head()"
   ]
  },
  {
   "cell_type": "markdown",
   "metadata": {},
   "source": [
    "## Removing emojis from the eng dataframe"
   ]
  },
  {
   "cell_type": "code",
   "execution_count": 13,
   "metadata": {},
   "outputs": [],
   "source": [
    "def cleanEmojis(x):\n",
    "    return str(x).encode('ascii', 'ignore').decode('UTF-8')"
   ]
  },
  {
   "cell_type": "code",
   "execution_count": 14,
   "metadata": {},
   "outputs": [
    {
     "name": "stderr",
     "output_type": "stream",
     "text": [
      "<ipython-input-14-0e6351d2764c>:1: SettingWithCopyWarning:\n",
      "\n",
      "\n",
      "A value is trying to be set on a copy of a slice from a DataFrame.\n",
      "Try using .loc[row_indexer,col_indexer] = value instead\n",
      "\n",
      "See the caveats in the documentation: https://pandas.pydata.org/pandas-docs/stable/user_guide/indexing.html#returning-a-view-versus-a-copy\n",
      "\n"
     ]
    }
   ],
   "source": [
    "eng['text'] = eng['text'].apply(cleanEmojis)"
   ]
  },
  {
   "cell_type": "code",
   "execution_count": 15,
   "metadata": {
    "scrolled": true
   },
   "outputs": [
    {
     "data": {
      "text/html": [
       "<div>\n",
       "<style scoped>\n",
       "    .dataframe tbody tr th:only-of-type {\n",
       "        vertical-align: middle;\n",
       "    }\n",
       "\n",
       "    .dataframe tbody tr th {\n",
       "        vertical-align: top;\n",
       "    }\n",
       "\n",
       "    .dataframe thead th {\n",
       "        text-align: right;\n",
       "    }\n",
       "</style>\n",
       "<table border=\"1\" class=\"dataframe\">\n",
       "  <thead>\n",
       "    <tr style=\"text-align: right;\">\n",
       "      <th></th>\n",
       "      <th>Unnamed: 0</th>\n",
       "      <th>X.1</th>\n",
       "      <th>X</th>\n",
       "      <th>user_id.x</th>\n",
       "      <th>status_id</th>\n",
       "      <th>created_at.x</th>\n",
       "      <th>screen_name.x</th>\n",
       "      <th>text</th>\n",
       "      <th>source.x</th>\n",
       "      <th>display_text_width.x</th>\n",
       "      <th>...</th>\n",
       "      <th>verified.y</th>\n",
       "      <th>profile_banner_url.y</th>\n",
       "      <th>profile_background_url.y</th>\n",
       "      <th>profile_image_url.y</th>\n",
       "      <th>W</th>\n",
       "      <th>L</th>\n",
       "      <th>D</th>\n",
       "      <th>date</th>\n",
       "      <th>W_true</th>\n",
       "      <th>year</th>\n",
       "    </tr>\n",
       "  </thead>\n",
       "  <tbody>\n",
       "    <tr>\n",
       "      <th>0</th>\n",
       "      <td>5118</td>\n",
       "      <td>6141</td>\n",
       "      <td>1</td>\n",
       "      <td>2.468828e+09</td>\n",
       "      <td>1.161790e+18</td>\n",
       "      <td>2019-08-14 23:59:41</td>\n",
       "      <td>muttle9</td>\n",
       "      <td>@ChelseaFC 4-3-3 works extremely well!</td>\n",
       "      <td>Twitter for Android</td>\n",
       "      <td>32.0</td>\n",
       "      <td>...</td>\n",
       "      <td>True</td>\n",
       "      <td>https://pbs.twimg.com/profile_banners/22910295...</td>\n",
       "      <td>http://abs.twimg.com/images/themes/theme1/bg.png</td>\n",
       "      <td>http://pbs.twimg.com/profile_images/1338595356...</td>\n",
       "      <td>0</td>\n",
       "      <td>1</td>\n",
       "      <td>0</td>\n",
       "      <td>2019-08-14</td>\n",
       "      <td>0</td>\n",
       "      <td>2019</td>\n",
       "    </tr>\n",
       "    <tr>\n",
       "      <th>2</th>\n",
       "      <td>5120</td>\n",
       "      <td>6143</td>\n",
       "      <td>3</td>\n",
       "      <td>7.086827e+17</td>\n",
       "      <td>1.161789e+18</td>\n",
       "      <td>2019-08-14 23:58:43</td>\n",
       "      <td>amirshwki</td>\n",
       "      <td>@ChelseaFC Great game\\nKeep up\\nLove from IRAQ</td>\n",
       "      <td>Twitter for iPhone</td>\n",
       "      <td>33.0</td>\n",
       "      <td>...</td>\n",
       "      <td>True</td>\n",
       "      <td>https://pbs.twimg.com/profile_banners/22910295...</td>\n",
       "      <td>http://abs.twimg.com/images/themes/theme1/bg.png</td>\n",
       "      <td>http://pbs.twimg.com/profile_images/1338595356...</td>\n",
       "      <td>0</td>\n",
       "      <td>1</td>\n",
       "      <td>0</td>\n",
       "      <td>2019-08-14</td>\n",
       "      <td>0</td>\n",
       "      <td>2019</td>\n",
       "    </tr>\n",
       "    <tr>\n",
       "      <th>3</th>\n",
       "      <td>5121</td>\n",
       "      <td>6145</td>\n",
       "      <td>5</td>\n",
       "      <td>8.380335e+17</td>\n",
       "      <td>1.161789e+18</td>\n",
       "      <td>2019-08-14 23:58:23</td>\n",
       "      <td>pbanks5050</td>\n",
       "      <td>@ChelseaFC All day, Everyday !</td>\n",
       "      <td>Twitter for iPhone</td>\n",
       "      <td>19.0</td>\n",
       "      <td>...</td>\n",
       "      <td>True</td>\n",
       "      <td>https://pbs.twimg.com/profile_banners/22910295...</td>\n",
       "      <td>http://abs.twimg.com/images/themes/theme1/bg.png</td>\n",
       "      <td>http://pbs.twimg.com/profile_images/1338595356...</td>\n",
       "      <td>0</td>\n",
       "      <td>1</td>\n",
       "      <td>0</td>\n",
       "      <td>2019-08-14</td>\n",
       "      <td>0</td>\n",
       "      <td>2019</td>\n",
       "    </tr>\n",
       "    <tr>\n",
       "      <th>4</th>\n",
       "      <td>5122</td>\n",
       "      <td>6146</td>\n",
       "      <td>6</td>\n",
       "      <td>1.087478e+18</td>\n",
       "      <td>1.161789e+18</td>\n",
       "      <td>2019-08-14 23:57:21</td>\n",
       "      <td>MyrtilNathanae1</td>\n",
       "      <td>@ChelseaFC I trust in Frank Lampard and it's g...</td>\n",
       "      <td>Twitter for Android</td>\n",
       "      <td>57.0</td>\n",
       "      <td>...</td>\n",
       "      <td>True</td>\n",
       "      <td>https://pbs.twimg.com/profile_banners/22910295...</td>\n",
       "      <td>http://abs.twimg.com/images/themes/theme1/bg.png</td>\n",
       "      <td>http://pbs.twimg.com/profile_images/1338595356...</td>\n",
       "      <td>0</td>\n",
       "      <td>1</td>\n",
       "      <td>0</td>\n",
       "      <td>2019-08-14</td>\n",
       "      <td>0</td>\n",
       "      <td>2019</td>\n",
       "    </tr>\n",
       "    <tr>\n",
       "      <th>5</th>\n",
       "      <td>5123</td>\n",
       "      <td>6147</td>\n",
       "      <td>7</td>\n",
       "      <td>1.087478e+18</td>\n",
       "      <td>1.161789e+18</td>\n",
       "      <td>2019-08-14 23:56:28</td>\n",
       "      <td>MyrtilNathanae1</td>\n",
       "      <td>@ChelseaFC @nglkante Great night guys just kee...</td>\n",
       "      <td>Twitter for Android</td>\n",
       "      <td>53.0</td>\n",
       "      <td>...</td>\n",
       "      <td>True</td>\n",
       "      <td>https://pbs.twimg.com/profile_banners/22910295...</td>\n",
       "      <td>http://abs.twimg.com/images/themes/theme1/bg.png</td>\n",
       "      <td>http://pbs.twimg.com/profile_images/1338595356...</td>\n",
       "      <td>0</td>\n",
       "      <td>1</td>\n",
       "      <td>0</td>\n",
       "      <td>2019-08-14</td>\n",
       "      <td>0</td>\n",
       "      <td>2019</td>\n",
       "    </tr>\n",
       "  </tbody>\n",
       "</table>\n",
       "<p>5 rows × 70 columns</p>\n",
       "</div>"
      ],
      "text/plain": [
       "   Unnamed: 0   X.1  X     user_id.x     status_id         created_at.x  \\\n",
       "0        5118  6141  1  2.468828e+09  1.161790e+18  2019-08-14 23:59:41   \n",
       "2        5120  6143  3  7.086827e+17  1.161789e+18  2019-08-14 23:58:43   \n",
       "3        5121  6145  5  8.380335e+17  1.161789e+18  2019-08-14 23:58:23   \n",
       "4        5122  6146  6  1.087478e+18  1.161789e+18  2019-08-14 23:57:21   \n",
       "5        5123  6147  7  1.087478e+18  1.161789e+18  2019-08-14 23:56:28   \n",
       "\n",
       "     screen_name.x                                               text  \\\n",
       "0          muttle9            @ChelseaFC 4-3-3 works extremely well!    \n",
       "2        amirshwki     @ChelseaFC Great game\\nKeep up\\nLove from IRAQ   \n",
       "3       pbanks5050                     @ChelseaFC All day, Everyday !   \n",
       "4  MyrtilNathanae1  @ChelseaFC I trust in Frank Lampard and it's g...   \n",
       "5  MyrtilNathanae1  @ChelseaFC @nglkante Great night guys just kee...   \n",
       "\n",
       "              source.x  display_text_width.x  ...  verified.y  \\\n",
       "0  Twitter for Android                  32.0  ...        True   \n",
       "2   Twitter for iPhone                  33.0  ...        True   \n",
       "3   Twitter for iPhone                  19.0  ...        True   \n",
       "4  Twitter for Android                  57.0  ...        True   \n",
       "5  Twitter for Android                  53.0  ...        True   \n",
       "\n",
       "                                profile_banner_url.y  \\\n",
       "0  https://pbs.twimg.com/profile_banners/22910295...   \n",
       "2  https://pbs.twimg.com/profile_banners/22910295...   \n",
       "3  https://pbs.twimg.com/profile_banners/22910295...   \n",
       "4  https://pbs.twimg.com/profile_banners/22910295...   \n",
       "5  https://pbs.twimg.com/profile_banners/22910295...   \n",
       "\n",
       "                           profile_background_url.y  \\\n",
       "0  http://abs.twimg.com/images/themes/theme1/bg.png   \n",
       "2  http://abs.twimg.com/images/themes/theme1/bg.png   \n",
       "3  http://abs.twimg.com/images/themes/theme1/bg.png   \n",
       "4  http://abs.twimg.com/images/themes/theme1/bg.png   \n",
       "5  http://abs.twimg.com/images/themes/theme1/bg.png   \n",
       "\n",
       "                                 profile_image_url.y  W  L  D        date  \\\n",
       "0  http://pbs.twimg.com/profile_images/1338595356...  0  1  0  2019-08-14   \n",
       "2  http://pbs.twimg.com/profile_images/1338595356...  0  1  0  2019-08-14   \n",
       "3  http://pbs.twimg.com/profile_images/1338595356...  0  1  0  2019-08-14   \n",
       "4  http://pbs.twimg.com/profile_images/1338595356...  0  1  0  2019-08-14   \n",
       "5  http://pbs.twimg.com/profile_images/1338595356...  0  1  0  2019-08-14   \n",
       "\n",
       "   W_true  year  \n",
       "0       0  2019  \n",
       "2       0  2019  \n",
       "3       0  2019  \n",
       "4       0  2019  \n",
       "5       0  2019  \n",
       "\n",
       "[5 rows x 70 columns]"
      ]
     },
     "execution_count": 15,
     "metadata": {},
     "output_type": "execute_result"
    }
   ],
   "source": [
    "eng.head()"
   ]
  },
  {
   "cell_type": "markdown",
   "metadata": {},
   "source": [
    "## Clean the text of replies"
   ]
  },
  {
   "cell_type": "code",
   "execution_count": 16,
   "metadata": {},
   "outputs": [],
   "source": [
    "# Create a function to clean the tweets\n",
    "def cleanTxt(text):\n",
    " text = re.sub('@[A-Za-z0–9]+', '', text) #Removing @mentions\n",
    " text = re.sub('#', '', text) # Removing '#' hash tag\n",
    " text = re.sub('RT[\\s]+', '', text) # Removing RT\n",
    " text = re.sub('https?:\\/\\/\\S+', '', text) # Removing hyperlink\n",
    " \n",
    " return text"
   ]
  },
  {
   "cell_type": "code",
   "execution_count": 17,
   "metadata": {},
   "outputs": [
    {
     "name": "stderr",
     "output_type": "stream",
     "text": [
      "<ipython-input-17-c179ae41d028>:2: SettingWithCopyWarning:\n",
      "\n",
      "\n",
      "A value is trying to be set on a copy of a slice from a DataFrame.\n",
      "Try using .loc[row_indexer,col_indexer] = value instead\n",
      "\n",
      "See the caveats in the documentation: https://pandas.pydata.org/pandas-docs/stable/user_guide/indexing.html#returning-a-view-versus-a-copy\n",
      "\n"
     ]
    }
   ],
   "source": [
    "# apply the clean the tweets\n",
    "eng['text'] = eng['text'].apply(cleanTxt)"
   ]
  },
  {
   "cell_type": "code",
   "execution_count": 18,
   "metadata": {
    "scrolled": false
   },
   "outputs": [
    {
     "data": {
      "text/html": [
       "<div>\n",
       "<style scoped>\n",
       "    .dataframe tbody tr th:only-of-type {\n",
       "        vertical-align: middle;\n",
       "    }\n",
       "\n",
       "    .dataframe tbody tr th {\n",
       "        vertical-align: top;\n",
       "    }\n",
       "\n",
       "    .dataframe thead th {\n",
       "        text-align: right;\n",
       "    }\n",
       "</style>\n",
       "<table border=\"1\" class=\"dataframe\">\n",
       "  <thead>\n",
       "    <tr style=\"text-align: right;\">\n",
       "      <th></th>\n",
       "      <th>Unnamed: 0</th>\n",
       "      <th>X.1</th>\n",
       "      <th>X</th>\n",
       "      <th>user_id.x</th>\n",
       "      <th>status_id</th>\n",
       "      <th>created_at.x</th>\n",
       "      <th>screen_name.x</th>\n",
       "      <th>text</th>\n",
       "      <th>source.x</th>\n",
       "      <th>display_text_width.x</th>\n",
       "      <th>...</th>\n",
       "      <th>verified.y</th>\n",
       "      <th>profile_banner_url.y</th>\n",
       "      <th>profile_background_url.y</th>\n",
       "      <th>profile_image_url.y</th>\n",
       "      <th>W</th>\n",
       "      <th>L</th>\n",
       "      <th>D</th>\n",
       "      <th>date</th>\n",
       "      <th>W_true</th>\n",
       "      <th>year</th>\n",
       "    </tr>\n",
       "  </thead>\n",
       "  <tbody>\n",
       "    <tr>\n",
       "      <th>40605</th>\n",
       "      <td>46742</td>\n",
       "      <td>52154</td>\n",
       "      <td>3051</td>\n",
       "      <td>7.743099e+17</td>\n",
       "      <td>1.160634e+18</td>\n",
       "      <td>2019-08-11 19:29:13</td>\n",
       "      <td>queen_Marihana</td>\n",
       "      <td>Forever a BLUE!!</td>\n",
       "      <td>Twitter for iPhone</td>\n",
       "      <td>16.0</td>\n",
       "      <td>...</td>\n",
       "      <td>True</td>\n",
       "      <td>https://pbs.twimg.com/profile_banners/22910295...</td>\n",
       "      <td>http://abs.twimg.com/images/themes/theme1/bg.png</td>\n",
       "      <td>http://pbs.twimg.com/profile_images/1338595356...</td>\n",
       "      <td>0</td>\n",
       "      <td>1</td>\n",
       "      <td>0</td>\n",
       "      <td>2019-08-11</td>\n",
       "      <td>0</td>\n",
       "      <td>2019</td>\n",
       "    </tr>\n",
       "    <tr>\n",
       "      <th>40606</th>\n",
       "      <td>46743</td>\n",
       "      <td>52155</td>\n",
       "      <td>3052</td>\n",
       "      <td>3.240763e+08</td>\n",
       "      <td>1.160634e+18</td>\n",
       "      <td>2019-08-11 19:29:13</td>\n",
       "      <td>AlexGoldberg_</td>\n",
       "      <td>Absolutely. The match fans were way better th...</td>\n",
       "      <td>Twitter for iPhone</td>\n",
       "      <td>71.0</td>\n",
       "      <td>...</td>\n",
       "      <td>True</td>\n",
       "      <td>https://pbs.twimg.com/profile_banners/22910295...</td>\n",
       "      <td>http://abs.twimg.com/images/themes/theme1/bg.png</td>\n",
       "      <td>http://pbs.twimg.com/profile_images/1338595356...</td>\n",
       "      <td>0</td>\n",
       "      <td>1</td>\n",
       "      <td>0</td>\n",
       "      <td>2019-08-11</td>\n",
       "      <td>0</td>\n",
       "      <td>2019</td>\n",
       "    </tr>\n",
       "    <tr>\n",
       "      <th>40607</th>\n",
       "      <td>46744</td>\n",
       "      <td>52156</td>\n",
       "      <td>3053</td>\n",
       "      <td>2.778574e+09</td>\n",
       "      <td>1.160634e+18</td>\n",
       "      <td>2019-08-11 19:29:13</td>\n",
       "      <td>maxisarp1</td>\n",
       "      <td>We go again on Wednesday</td>\n",
       "      <td>Twitter for iPhone</td>\n",
       "      <td>24.0</td>\n",
       "      <td>...</td>\n",
       "      <td>True</td>\n",
       "      <td>https://pbs.twimg.com/profile_banners/22910295...</td>\n",
       "      <td>http://abs.twimg.com/images/themes/theme1/bg.png</td>\n",
       "      <td>http://pbs.twimg.com/profile_images/1338595356...</td>\n",
       "      <td>0</td>\n",
       "      <td>1</td>\n",
       "      <td>0</td>\n",
       "      <td>2019-08-11</td>\n",
       "      <td>0</td>\n",
       "      <td>2019</td>\n",
       "    </tr>\n",
       "    <tr>\n",
       "      <th>40608</th>\n",
       "      <td>46745</td>\n",
       "      <td>52157</td>\n",
       "      <td>3054</td>\n",
       "      <td>9.220688e+17</td>\n",
       "      <td>1.160634e+18</td>\n",
       "      <td>2019-08-11 19:29:12</td>\n",
       "      <td>CFCLew_</td>\n",
       "      <td>Turn up next time</td>\n",
       "      <td>Twitter for iPhone</td>\n",
       "      <td>17.0</td>\n",
       "      <td>...</td>\n",
       "      <td>True</td>\n",
       "      <td>https://pbs.twimg.com/profile_banners/22910295...</td>\n",
       "      <td>http://abs.twimg.com/images/themes/theme1/bg.png</td>\n",
       "      <td>http://pbs.twimg.com/profile_images/1338595356...</td>\n",
       "      <td>0</td>\n",
       "      <td>1</td>\n",
       "      <td>0</td>\n",
       "      <td>2019-08-11</td>\n",
       "      <td>0</td>\n",
       "      <td>2019</td>\n",
       "    </tr>\n",
       "    <tr>\n",
       "      <th>40609</th>\n",
       "      <td>46746</td>\n",
       "      <td>52158</td>\n",
       "      <td>3055</td>\n",
       "      <td>3.252684e+09</td>\n",
       "      <td>1.160634e+18</td>\n",
       "      <td>2019-08-11 19:29:10</td>\n",
       "      <td>H4m3z</td>\n",
       "      <td>Refund them their tickets</td>\n",
       "      <td>Twitter for iPhone</td>\n",
       "      <td>25.0</td>\n",
       "      <td>...</td>\n",
       "      <td>True</td>\n",
       "      <td>https://pbs.twimg.com/profile_banners/22910295...</td>\n",
       "      <td>http://abs.twimg.com/images/themes/theme1/bg.png</td>\n",
       "      <td>http://pbs.twimg.com/profile_images/1338595356...</td>\n",
       "      <td>0</td>\n",
       "      <td>1</td>\n",
       "      <td>0</td>\n",
       "      <td>2019-08-11</td>\n",
       "      <td>0</td>\n",
       "      <td>2019</td>\n",
       "    </tr>\n",
       "  </tbody>\n",
       "</table>\n",
       "<p>5 rows × 70 columns</p>\n",
       "</div>"
      ],
      "text/plain": [
       "       Unnamed: 0    X.1     X     user_id.x     status_id  \\\n",
       "40605       46742  52154  3051  7.743099e+17  1.160634e+18   \n",
       "40606       46743  52155  3052  3.240763e+08  1.160634e+18   \n",
       "40607       46744  52156  3053  2.778574e+09  1.160634e+18   \n",
       "40608       46745  52157  3054  9.220688e+17  1.160634e+18   \n",
       "40609       46746  52158  3055  3.252684e+09  1.160634e+18   \n",
       "\n",
       "              created_at.x   screen_name.x  \\\n",
       "40605  2019-08-11 19:29:13  queen_Marihana   \n",
       "40606  2019-08-11 19:29:13   AlexGoldberg_   \n",
       "40607  2019-08-11 19:29:13       maxisarp1   \n",
       "40608  2019-08-11 19:29:12         CFCLew_   \n",
       "40609  2019-08-11 19:29:10           H4m3z   \n",
       "\n",
       "                                                    text            source.x  \\\n",
       "40605                                   Forever a BLUE!!  Twitter for iPhone   \n",
       "40606   Absolutely. The match fans were way better th...  Twitter for iPhone   \n",
       "40607                           We go again on Wednesday  Twitter for iPhone   \n",
       "40608                                  Turn up next time  Twitter for iPhone   \n",
       "40609                          Refund them their tickets  Twitter for iPhone   \n",
       "\n",
       "       display_text_width.x  ...  verified.y  \\\n",
       "40605                  16.0  ...        True   \n",
       "40606                  71.0  ...        True   \n",
       "40607                  24.0  ...        True   \n",
       "40608                  17.0  ...        True   \n",
       "40609                  25.0  ...        True   \n",
       "\n",
       "                                    profile_banner_url.y  \\\n",
       "40605  https://pbs.twimg.com/profile_banners/22910295...   \n",
       "40606  https://pbs.twimg.com/profile_banners/22910295...   \n",
       "40607  https://pbs.twimg.com/profile_banners/22910295...   \n",
       "40608  https://pbs.twimg.com/profile_banners/22910295...   \n",
       "40609  https://pbs.twimg.com/profile_banners/22910295...   \n",
       "\n",
       "                               profile_background_url.y  \\\n",
       "40605  http://abs.twimg.com/images/themes/theme1/bg.png   \n",
       "40606  http://abs.twimg.com/images/themes/theme1/bg.png   \n",
       "40607  http://abs.twimg.com/images/themes/theme1/bg.png   \n",
       "40608  http://abs.twimg.com/images/themes/theme1/bg.png   \n",
       "40609  http://abs.twimg.com/images/themes/theme1/bg.png   \n",
       "\n",
       "                                     profile_image_url.y  W  L  D        date  \\\n",
       "40605  http://pbs.twimg.com/profile_images/1338595356...  0  1  0  2019-08-11   \n",
       "40606  http://pbs.twimg.com/profile_images/1338595356...  0  1  0  2019-08-11   \n",
       "40607  http://pbs.twimg.com/profile_images/1338595356...  0  1  0  2019-08-11   \n",
       "40608  http://pbs.twimg.com/profile_images/1338595356...  0  1  0  2019-08-11   \n",
       "40609  http://pbs.twimg.com/profile_images/1338595356...  0  1  0  2019-08-11   \n",
       "\n",
       "       W_true  year  \n",
       "40605       0  2019  \n",
       "40606       0  2019  \n",
       "40607       0  2019  \n",
       "40608       0  2019  \n",
       "40609       0  2019  \n",
       "\n",
       "[5 rows x 70 columns]"
      ]
     },
     "execution_count": 18,
     "metadata": {},
     "output_type": "execute_result"
    }
   ],
   "source": [
    "eng.tail()"
   ]
  },
  {
   "cell_type": "markdown",
   "metadata": {},
   "source": [
    "# 2. Create Polarity and Subjectivity columns for the englsih exclusive dataframe (eng), to then calculate the sentiment analysis"
   ]
  },
  {
   "cell_type": "code",
   "execution_count": 21,
   "metadata": {},
   "outputs": [
    {
     "name": "stderr",
     "output_type": "stream",
     "text": [
      "<ipython-input-21-b403a90b21c1>:10: SettingWithCopyWarning:\n",
      "\n",
      "\n",
      "A value is trying to be set on a copy of a slice from a DataFrame.\n",
      "Try using .loc[row_indexer,col_indexer] = value instead\n",
      "\n",
      "See the caveats in the documentation: https://pandas.pydata.org/pandas-docs/stable/user_guide/indexing.html#returning-a-view-versus-a-copy\n",
      "\n",
      "<ipython-input-21-b403a90b21c1>:11: SettingWithCopyWarning:\n",
      "\n",
      "\n",
      "A value is trying to be set on a copy of a slice from a DataFrame.\n",
      "Try using .loc[row_indexer,col_indexer] = value instead\n",
      "\n",
      "See the caveats in the documentation: https://pandas.pydata.org/pandas-docs/stable/user_guide/indexing.html#returning-a-view-versus-a-copy\n",
      "\n"
     ]
    }
   ],
   "source": [
    "# Create a function to get the subjectivity\n",
    "def getSubjectivity(text):\n",
    "   return TextBlob(text).sentiment.subjectivity\n",
    "\n",
    "# Create a function to get the polarity\n",
    "def getPolarity(text):\n",
    "   return  TextBlob(text).sentiment.polarity\n",
    "\n",
    "# Create two new columns 'Subjectivity' & 'Polarity'\n",
    "eng['Subjectivity'] = eng['text'].apply(getSubjectivity)\n",
    "eng['Polarity'] = eng['text'].apply(getPolarity)"
   ]
  },
  {
   "cell_type": "code",
   "execution_count": 23,
   "metadata": {},
   "outputs": [
    {
     "name": "stderr",
     "output_type": "stream",
     "text": [
      "<ipython-input-23-afcdbbfbb1a8>:10: SettingWithCopyWarning:\n",
      "\n",
      "\n",
      "A value is trying to be set on a copy of a slice from a DataFrame.\n",
      "Try using .loc[row_indexer,col_indexer] = value instead\n",
      "\n",
      "See the caveats in the documentation: https://pandas.pydata.org/pandas-docs/stable/user_guide/indexing.html#returning-a-view-versus-a-copy\n",
      "\n"
     ]
    }
   ],
   "source": [
    "# Create a function to compute negative (-1), neutral (0) and positive (+1) analysis\n",
    "def getAnalysis(score):\n",
    "    if score < 0:\n",
    "        return 'Negative'\n",
    "    elif score == 0:\n",
    "        return 'Neutral'\n",
    "    else:\n",
    "        return 'Positive'\n",
    "    \n",
    "eng['Analysis'] = eng['Polarity'].apply(getAnalysis)"
   ]
  },
  {
   "cell_type": "code",
   "execution_count": 24,
   "metadata": {},
   "outputs": [
    {
     "data": {
      "text/html": [
       "<div>\n",
       "<style scoped>\n",
       "    .dataframe tbody tr th:only-of-type {\n",
       "        vertical-align: middle;\n",
       "    }\n",
       "\n",
       "    .dataframe tbody tr th {\n",
       "        vertical-align: top;\n",
       "    }\n",
       "\n",
       "    .dataframe thead th {\n",
       "        text-align: right;\n",
       "    }\n",
       "</style>\n",
       "<table border=\"1\" class=\"dataframe\">\n",
       "  <thead>\n",
       "    <tr style=\"text-align: right;\">\n",
       "      <th></th>\n",
       "      <th>Unnamed: 0</th>\n",
       "      <th>X.1</th>\n",
       "      <th>X</th>\n",
       "      <th>user_id.x</th>\n",
       "      <th>status_id</th>\n",
       "      <th>created_at.x</th>\n",
       "      <th>screen_name.x</th>\n",
       "      <th>text</th>\n",
       "      <th>source.x</th>\n",
       "      <th>display_text_width.x</th>\n",
       "      <th>...</th>\n",
       "      <th>profile_image_url.y</th>\n",
       "      <th>W</th>\n",
       "      <th>L</th>\n",
       "      <th>D</th>\n",
       "      <th>date</th>\n",
       "      <th>W_true</th>\n",
       "      <th>year</th>\n",
       "      <th>Subjectivity</th>\n",
       "      <th>Polarity</th>\n",
       "      <th>Analysis</th>\n",
       "    </tr>\n",
       "  </thead>\n",
       "  <tbody>\n",
       "    <tr>\n",
       "      <th>0</th>\n",
       "      <td>5118</td>\n",
       "      <td>6141</td>\n",
       "      <td>1</td>\n",
       "      <td>2.468828e+09</td>\n",
       "      <td>1.161790e+18</td>\n",
       "      <td>2019-08-14 23:59:41</td>\n",
       "      <td>muttle9</td>\n",
       "      <td>4-3-3 works extremely well!</td>\n",
       "      <td>Twitter for Android</td>\n",
       "      <td>32.0</td>\n",
       "      <td>...</td>\n",
       "      <td>http://pbs.twimg.com/profile_images/1338595356...</td>\n",
       "      <td>0</td>\n",
       "      <td>1</td>\n",
       "      <td>0</td>\n",
       "      <td>2019-08-14</td>\n",
       "      <td>0</td>\n",
       "      <td>2019</td>\n",
       "      <td>1.000000</td>\n",
       "      <td>-0.15625</td>\n",
       "      <td>Negative</td>\n",
       "    </tr>\n",
       "    <tr>\n",
       "      <th>2</th>\n",
       "      <td>5120</td>\n",
       "      <td>6143</td>\n",
       "      <td>3</td>\n",
       "      <td>7.086827e+17</td>\n",
       "      <td>1.161789e+18</td>\n",
       "      <td>2019-08-14 23:58:43</td>\n",
       "      <td>amirshwki</td>\n",
       "      <td>Great game\\nKeep up\\nLove from IRAQ</td>\n",
       "      <td>Twitter for iPhone</td>\n",
       "      <td>33.0</td>\n",
       "      <td>...</td>\n",
       "      <td>http://pbs.twimg.com/profile_images/1338595356...</td>\n",
       "      <td>0</td>\n",
       "      <td>1</td>\n",
       "      <td>0</td>\n",
       "      <td>2019-08-14</td>\n",
       "      <td>0</td>\n",
       "      <td>2019</td>\n",
       "      <td>0.583333</td>\n",
       "      <td>0.30000</td>\n",
       "      <td>Positive</td>\n",
       "    </tr>\n",
       "    <tr>\n",
       "      <th>3</th>\n",
       "      <td>5121</td>\n",
       "      <td>6145</td>\n",
       "      <td>5</td>\n",
       "      <td>8.380335e+17</td>\n",
       "      <td>1.161789e+18</td>\n",
       "      <td>2019-08-14 23:58:23</td>\n",
       "      <td>pbanks5050</td>\n",
       "      <td>All day, Everyday !</td>\n",
       "      <td>Twitter for iPhone</td>\n",
       "      <td>19.0</td>\n",
       "      <td>...</td>\n",
       "      <td>http://pbs.twimg.com/profile_images/1338595356...</td>\n",
       "      <td>0</td>\n",
       "      <td>1</td>\n",
       "      <td>0</td>\n",
       "      <td>2019-08-14</td>\n",
       "      <td>0</td>\n",
       "      <td>2019</td>\n",
       "      <td>0.600000</td>\n",
       "      <td>-0.25000</td>\n",
       "      <td>Negative</td>\n",
       "    </tr>\n",
       "    <tr>\n",
       "      <th>4</th>\n",
       "      <td>5122</td>\n",
       "      <td>6146</td>\n",
       "      <td>6</td>\n",
       "      <td>1.087478e+18</td>\n",
       "      <td>1.161789e+18</td>\n",
       "      <td>2019-08-14 23:57:21</td>\n",
       "      <td>MyrtilNathanae1</td>\n",
       "      <td>I trust in Frank Lampard and it's gonna be a ...</td>\n",
       "      <td>Twitter for Android</td>\n",
       "      <td>57.0</td>\n",
       "      <td>...</td>\n",
       "      <td>http://pbs.twimg.com/profile_images/1338595356...</td>\n",
       "      <td>0</td>\n",
       "      <td>1</td>\n",
       "      <td>0</td>\n",
       "      <td>2019-08-14</td>\n",
       "      <td>0</td>\n",
       "      <td>2019</td>\n",
       "      <td>0.750000</td>\n",
       "      <td>0.80000</td>\n",
       "      <td>Positive</td>\n",
       "    </tr>\n",
       "    <tr>\n",
       "      <th>5</th>\n",
       "      <td>5123</td>\n",
       "      <td>6147</td>\n",
       "      <td>7</td>\n",
       "      <td>1.087478e+18</td>\n",
       "      <td>1.161789e+18</td>\n",
       "      <td>2019-08-14 23:56:28</td>\n",
       "      <td>MyrtilNathanae1</td>\n",
       "      <td>Great night guys just keep working and I tru...</td>\n",
       "      <td>Twitter for Android</td>\n",
       "      <td>53.0</td>\n",
       "      <td>...</td>\n",
       "      <td>http://pbs.twimg.com/profile_images/1338595356...</td>\n",
       "      <td>0</td>\n",
       "      <td>1</td>\n",
       "      <td>0</td>\n",
       "      <td>2019-08-14</td>\n",
       "      <td>0</td>\n",
       "      <td>2019</td>\n",
       "      <td>0.750000</td>\n",
       "      <td>0.80000</td>\n",
       "      <td>Positive</td>\n",
       "    </tr>\n",
       "  </tbody>\n",
       "</table>\n",
       "<p>5 rows × 73 columns</p>\n",
       "</div>"
      ],
      "text/plain": [
       "   Unnamed: 0   X.1  X     user_id.x     status_id         created_at.x  \\\n",
       "0        5118  6141  1  2.468828e+09  1.161790e+18  2019-08-14 23:59:41   \n",
       "2        5120  6143  3  7.086827e+17  1.161789e+18  2019-08-14 23:58:43   \n",
       "3        5121  6145  5  8.380335e+17  1.161789e+18  2019-08-14 23:58:23   \n",
       "4        5122  6146  6  1.087478e+18  1.161789e+18  2019-08-14 23:57:21   \n",
       "5        5123  6147  7  1.087478e+18  1.161789e+18  2019-08-14 23:56:28   \n",
       "\n",
       "     screen_name.x                                               text  \\\n",
       "0          muttle9                       4-3-3 works extremely well!    \n",
       "2        amirshwki                Great game\\nKeep up\\nLove from IRAQ   \n",
       "3       pbanks5050                                All day, Everyday !   \n",
       "4  MyrtilNathanae1   I trust in Frank Lampard and it's gonna be a ...   \n",
       "5  MyrtilNathanae1    Great night guys just keep working and I tru...   \n",
       "\n",
       "              source.x  display_text_width.x  ...  \\\n",
       "0  Twitter for Android                  32.0  ...   \n",
       "2   Twitter for iPhone                  33.0  ...   \n",
       "3   Twitter for iPhone                  19.0  ...   \n",
       "4  Twitter for Android                  57.0  ...   \n",
       "5  Twitter for Android                  53.0  ...   \n",
       "\n",
       "                                 profile_image_url.y  W  L  D        date  \\\n",
       "0  http://pbs.twimg.com/profile_images/1338595356...  0  1  0  2019-08-14   \n",
       "2  http://pbs.twimg.com/profile_images/1338595356...  0  1  0  2019-08-14   \n",
       "3  http://pbs.twimg.com/profile_images/1338595356...  0  1  0  2019-08-14   \n",
       "4  http://pbs.twimg.com/profile_images/1338595356...  0  1  0  2019-08-14   \n",
       "5  http://pbs.twimg.com/profile_images/1338595356...  0  1  0  2019-08-14   \n",
       "\n",
       "   W_true  year  Subjectivity  Polarity  Analysis  \n",
       "0       0  2019      1.000000  -0.15625  Negative  \n",
       "2       0  2019      0.583333   0.30000  Positive  \n",
       "3       0  2019      0.600000  -0.25000  Negative  \n",
       "4       0  2019      0.750000   0.80000  Positive  \n",
       "5       0  2019      0.750000   0.80000  Positive  \n",
       "\n",
       "[5 rows x 73 columns]"
      ]
     },
     "execution_count": 24,
     "metadata": {},
     "output_type": "execute_result"
    }
   ],
   "source": [
    "eng.head()"
   ]
  },
  {
   "cell_type": "markdown",
   "metadata": {},
   "source": [
    "# 3. Creating Separate Dataframes for: \n",
    "- Wins \n",
    "- Losses \n",
    "- Draws"
   ]
  },
  {
   "cell_type": "markdown",
   "metadata": {},
   "source": [
    "## Create dataframe for the wins (replies in which W = 1)"
   ]
  },
  {
   "cell_type": "code",
   "execution_count": 25,
   "metadata": {},
   "outputs": [],
   "source": [
    "wins = eng.loc[(eng['W'] == 1)]"
   ]
  },
  {
   "cell_type": "code",
   "execution_count": 26,
   "metadata": {
    "scrolled": false
   },
   "outputs": [
    {
     "data": {
      "text/html": [
       "<div>\n",
       "<style scoped>\n",
       "    .dataframe tbody tr th:only-of-type {\n",
       "        vertical-align: middle;\n",
       "    }\n",
       "\n",
       "    .dataframe tbody tr th {\n",
       "        vertical-align: top;\n",
       "    }\n",
       "\n",
       "    .dataframe thead th {\n",
       "        text-align: right;\n",
       "    }\n",
       "</style>\n",
       "<table border=\"1\" class=\"dataframe\">\n",
       "  <thead>\n",
       "    <tr style=\"text-align: right;\">\n",
       "      <th></th>\n",
       "      <th>Unnamed: 0</th>\n",
       "      <th>X.1</th>\n",
       "      <th>X</th>\n",
       "      <th>user_id.x</th>\n",
       "      <th>status_id</th>\n",
       "      <th>created_at.x</th>\n",
       "      <th>screen_name.x</th>\n",
       "      <th>text</th>\n",
       "      <th>source.x</th>\n",
       "      <th>display_text_width.x</th>\n",
       "      <th>...</th>\n",
       "      <th>profile_image_url.y</th>\n",
       "      <th>W</th>\n",
       "      <th>L</th>\n",
       "      <th>D</th>\n",
       "      <th>date</th>\n",
       "      <th>W_true</th>\n",
       "      <th>year</th>\n",
       "      <th>Subjectivity</th>\n",
       "      <th>Polarity</th>\n",
       "      <th>Analysis</th>\n",
       "    </tr>\n",
       "  </thead>\n",
       "  <tbody>\n",
       "    <tr>\n",
       "      <th>1826</th>\n",
       "      <td>7006</td>\n",
       "      <td>8204</td>\n",
       "      <td>2064</td>\n",
       "      <td>9.577543e+17</td>\n",
       "      <td>1.165413e+18</td>\n",
       "      <td>2019-08-24 23:58:10</td>\n",
       "      <td>moha8563</td>\n",
       "      <td>I really enjoy it</td>\n",
       "      <td>Twitter for iPhone</td>\n",
       "      <td>20.0</td>\n",
       "      <td>...</td>\n",
       "      <td>http://pbs.twimg.com/profile_images/1338595356...</td>\n",
       "      <td>1</td>\n",
       "      <td>0</td>\n",
       "      <td>0</td>\n",
       "      <td>2019-08-24</td>\n",
       "      <td>1</td>\n",
       "      <td>2019</td>\n",
       "      <td>0.50</td>\n",
       "      <td>0.40</td>\n",
       "      <td>Positive</td>\n",
       "    </tr>\n",
       "    <tr>\n",
       "      <th>1827</th>\n",
       "      <td>7007</td>\n",
       "      <td>8205</td>\n",
       "      <td>2065</td>\n",
       "      <td>4.902878e+09</td>\n",
       "      <td>1.165412e+18</td>\n",
       "      <td>2019-08-24 23:55:54</td>\n",
       "      <td>NNAMDIS4</td>\n",
       "      <td>can't you answer,  are you dump</td>\n",
       "      <td>Twitter Web App</td>\n",
       "      <td>39.0</td>\n",
       "      <td>...</td>\n",
       "      <td>http://pbs.twimg.com/profile_images/1338595356...</td>\n",
       "      <td>1</td>\n",
       "      <td>0</td>\n",
       "      <td>0</td>\n",
       "      <td>2019-08-24</td>\n",
       "      <td>1</td>\n",
       "      <td>2019</td>\n",
       "      <td>0.00</td>\n",
       "      <td>0.00</td>\n",
       "      <td>Neutral</td>\n",
       "    </tr>\n",
       "    <tr>\n",
       "      <th>1832</th>\n",
       "      <td>7012</td>\n",
       "      <td>8210</td>\n",
       "      <td>2070</td>\n",
       "      <td>1.009911e+18</td>\n",
       "      <td>1.165412e+18</td>\n",
       "      <td>2019-08-24 23:53:30</td>\n",
       "      <td>_dillon11</td>\n",
       "      <td>It went how you wish it went, nonsense club</td>\n",
       "      <td>Twitter for iPhone</td>\n",
       "      <td>43.0</td>\n",
       "      <td>...</td>\n",
       "      <td>http://pbs.twimg.com/profile_images/1338595356...</td>\n",
       "      <td>1</td>\n",
       "      <td>0</td>\n",
       "      <td>0</td>\n",
       "      <td>2019-08-24</td>\n",
       "      <td>1</td>\n",
       "      <td>2019</td>\n",
       "      <td>0.00</td>\n",
       "      <td>0.00</td>\n",
       "      <td>Neutral</td>\n",
       "    </tr>\n",
       "    <tr>\n",
       "      <th>1835</th>\n",
       "      <td>7015</td>\n",
       "      <td>8213</td>\n",
       "      <td>2073</td>\n",
       "      <td>3.165832e+08</td>\n",
       "      <td>1.165412e+18</td>\n",
       "      <td>2019-08-24 23:52:40</td>\n",
       "      <td>cleftchineddie</td>\n",
       "      <td>My striker</td>\n",
       "      <td>Twitter for iPhone</td>\n",
       "      <td>10.0</td>\n",
       "      <td>...</td>\n",
       "      <td>http://pbs.twimg.com/profile_images/1338595356...</td>\n",
       "      <td>1</td>\n",
       "      <td>0</td>\n",
       "      <td>0</td>\n",
       "      <td>2019-08-24</td>\n",
       "      <td>1</td>\n",
       "      <td>2019</td>\n",
       "      <td>0.00</td>\n",
       "      <td>0.00</td>\n",
       "      <td>Neutral</td>\n",
       "    </tr>\n",
       "    <tr>\n",
       "      <th>1836</th>\n",
       "      <td>7016</td>\n",
       "      <td>8214</td>\n",
       "      <td>2074</td>\n",
       "      <td>2.900990e+08</td>\n",
       "      <td>1.165411e+18</td>\n",
       "      <td>2019-08-24 23:50:38</td>\n",
       "      <td>Phemmites</td>\n",
       "      <td>Exactly why we wish we had played you guys in...</td>\n",
       "      <td>Twitter for iPhone</td>\n",
       "      <td>51.0</td>\n",
       "      <td>...</td>\n",
       "      <td>http://pbs.twimg.com/profile_images/1338595356...</td>\n",
       "      <td>1</td>\n",
       "      <td>0</td>\n",
       "      <td>0</td>\n",
       "      <td>2019-08-24</td>\n",
       "      <td>1</td>\n",
       "      <td>2019</td>\n",
       "      <td>0.25</td>\n",
       "      <td>0.25</td>\n",
       "      <td>Positive</td>\n",
       "    </tr>\n",
       "  </tbody>\n",
       "</table>\n",
       "<p>5 rows × 73 columns</p>\n",
       "</div>"
      ],
      "text/plain": [
       "      Unnamed: 0   X.1     X     user_id.x     status_id         created_at.x  \\\n",
       "1826        7006  8204  2064  9.577543e+17  1.165413e+18  2019-08-24 23:58:10   \n",
       "1827        7007  8205  2065  4.902878e+09  1.165412e+18  2019-08-24 23:55:54   \n",
       "1832        7012  8210  2070  1.009911e+18  1.165412e+18  2019-08-24 23:53:30   \n",
       "1835        7015  8213  2073  3.165832e+08  1.165412e+18  2019-08-24 23:52:40   \n",
       "1836        7016  8214  2074  2.900990e+08  1.165411e+18  2019-08-24 23:50:38   \n",
       "\n",
       "       screen_name.x                                               text  \\\n",
       "1826        moha8563                                 I really enjoy it    \n",
       "1827        NNAMDIS4                    can't you answer,  are you dump   \n",
       "1832       _dillon11        It went how you wish it went, nonsense club   \n",
       "1835  cleftchineddie                                         My striker   \n",
       "1836       Phemmites   Exactly why we wish we had played you guys in...   \n",
       "\n",
       "                source.x  display_text_width.x  ...  \\\n",
       "1826  Twitter for iPhone                  20.0  ...   \n",
       "1827     Twitter Web App                  39.0  ...   \n",
       "1832  Twitter for iPhone                  43.0  ...   \n",
       "1835  Twitter for iPhone                  10.0  ...   \n",
       "1836  Twitter for iPhone                  51.0  ...   \n",
       "\n",
       "                                    profile_image_url.y  W  L  D        date  \\\n",
       "1826  http://pbs.twimg.com/profile_images/1338595356...  1  0  0  2019-08-24   \n",
       "1827  http://pbs.twimg.com/profile_images/1338595356...  1  0  0  2019-08-24   \n",
       "1832  http://pbs.twimg.com/profile_images/1338595356...  1  0  0  2019-08-24   \n",
       "1835  http://pbs.twimg.com/profile_images/1338595356...  1  0  0  2019-08-24   \n",
       "1836  http://pbs.twimg.com/profile_images/1338595356...  1  0  0  2019-08-24   \n",
       "\n",
       "      W_true  year  Subjectivity  Polarity  Analysis  \n",
       "1826       1  2019          0.50      0.40  Positive  \n",
       "1827       1  2019          0.00      0.00   Neutral  \n",
       "1832       1  2019          0.00      0.00   Neutral  \n",
       "1835       1  2019          0.00      0.00   Neutral  \n",
       "1836       1  2019          0.25      0.25  Positive  \n",
       "\n",
       "[5 rows x 73 columns]"
      ]
     },
     "execution_count": 26,
     "metadata": {},
     "output_type": "execute_result"
    }
   ],
   "source": [
    "wins.head()"
   ]
  },
  {
   "cell_type": "code",
   "execution_count": 27,
   "metadata": {},
   "outputs": [
    {
     "data": {
      "text/plain": [
       "11753"
      ]
     },
     "execution_count": 27,
     "metadata": {},
     "output_type": "execute_result"
    }
   ],
   "source": [
    "# how many replies are within the wins dataset?\n",
    "len(wins)"
   ]
  },
  {
   "cell_type": "code",
   "execution_count": 28,
   "metadata": {
    "scrolled": true
   },
   "outputs": [
    {
     "data": {
      "text/html": [
       "<div>\n",
       "<style scoped>\n",
       "    .dataframe tbody tr th:only-of-type {\n",
       "        vertical-align: middle;\n",
       "    }\n",
       "\n",
       "    .dataframe tbody tr th {\n",
       "        vertical-align: top;\n",
       "    }\n",
       "\n",
       "    .dataframe thead th {\n",
       "        text-align: right;\n",
       "    }\n",
       "</style>\n",
       "<table border=\"1\" class=\"dataframe\">\n",
       "  <thead>\n",
       "    <tr style=\"text-align: right;\">\n",
       "      <th></th>\n",
       "      <th>Unnamed: 0</th>\n",
       "      <th>X.1</th>\n",
       "      <th>X</th>\n",
       "      <th>user_id.x</th>\n",
       "      <th>status_id</th>\n",
       "      <th>created_at.x</th>\n",
       "      <th>screen_name.x</th>\n",
       "      <th>text</th>\n",
       "      <th>source.x</th>\n",
       "      <th>display_text_width.x</th>\n",
       "      <th>...</th>\n",
       "      <th>profile_image_url.y</th>\n",
       "      <th>W</th>\n",
       "      <th>L</th>\n",
       "      <th>D</th>\n",
       "      <th>date</th>\n",
       "      <th>W_true</th>\n",
       "      <th>year</th>\n",
       "      <th>Subjectivity</th>\n",
       "      <th>Polarity</th>\n",
       "      <th>Analysis</th>\n",
       "    </tr>\n",
       "  </thead>\n",
       "  <tbody>\n",
       "    <tr>\n",
       "      <th>1826</th>\n",
       "      <td>7006</td>\n",
       "      <td>8204</td>\n",
       "      <td>2064</td>\n",
       "      <td>9.577543e+17</td>\n",
       "      <td>1.165413e+18</td>\n",
       "      <td>2019-08-24 23:58:10</td>\n",
       "      <td>moha8563</td>\n",
       "      <td>I really enjoy it</td>\n",
       "      <td>Twitter for iPhone</td>\n",
       "      <td>20.0</td>\n",
       "      <td>...</td>\n",
       "      <td>http://pbs.twimg.com/profile_images/1338595356...</td>\n",
       "      <td>1</td>\n",
       "      <td>0</td>\n",
       "      <td>0</td>\n",
       "      <td>2019-08-24</td>\n",
       "      <td>1</td>\n",
       "      <td>2019</td>\n",
       "      <td>0.50</td>\n",
       "      <td>0.40</td>\n",
       "      <td>Positive</td>\n",
       "    </tr>\n",
       "    <tr>\n",
       "      <th>1827</th>\n",
       "      <td>7007</td>\n",
       "      <td>8205</td>\n",
       "      <td>2065</td>\n",
       "      <td>4.902878e+09</td>\n",
       "      <td>1.165412e+18</td>\n",
       "      <td>2019-08-24 23:55:54</td>\n",
       "      <td>NNAMDIS4</td>\n",
       "      <td>can't you answer,  are you dump</td>\n",
       "      <td>Twitter Web App</td>\n",
       "      <td>39.0</td>\n",
       "      <td>...</td>\n",
       "      <td>http://pbs.twimg.com/profile_images/1338595356...</td>\n",
       "      <td>1</td>\n",
       "      <td>0</td>\n",
       "      <td>0</td>\n",
       "      <td>2019-08-24</td>\n",
       "      <td>1</td>\n",
       "      <td>2019</td>\n",
       "      <td>0.00</td>\n",
       "      <td>0.00</td>\n",
       "      <td>Neutral</td>\n",
       "    </tr>\n",
       "    <tr>\n",
       "      <th>1832</th>\n",
       "      <td>7012</td>\n",
       "      <td>8210</td>\n",
       "      <td>2070</td>\n",
       "      <td>1.009911e+18</td>\n",
       "      <td>1.165412e+18</td>\n",
       "      <td>2019-08-24 23:53:30</td>\n",
       "      <td>_dillon11</td>\n",
       "      <td>It went how you wish it went, nonsense club</td>\n",
       "      <td>Twitter for iPhone</td>\n",
       "      <td>43.0</td>\n",
       "      <td>...</td>\n",
       "      <td>http://pbs.twimg.com/profile_images/1338595356...</td>\n",
       "      <td>1</td>\n",
       "      <td>0</td>\n",
       "      <td>0</td>\n",
       "      <td>2019-08-24</td>\n",
       "      <td>1</td>\n",
       "      <td>2019</td>\n",
       "      <td>0.00</td>\n",
       "      <td>0.00</td>\n",
       "      <td>Neutral</td>\n",
       "    </tr>\n",
       "    <tr>\n",
       "      <th>1835</th>\n",
       "      <td>7015</td>\n",
       "      <td>8213</td>\n",
       "      <td>2073</td>\n",
       "      <td>3.165832e+08</td>\n",
       "      <td>1.165412e+18</td>\n",
       "      <td>2019-08-24 23:52:40</td>\n",
       "      <td>cleftchineddie</td>\n",
       "      <td>My striker</td>\n",
       "      <td>Twitter for iPhone</td>\n",
       "      <td>10.0</td>\n",
       "      <td>...</td>\n",
       "      <td>http://pbs.twimg.com/profile_images/1338595356...</td>\n",
       "      <td>1</td>\n",
       "      <td>0</td>\n",
       "      <td>0</td>\n",
       "      <td>2019-08-24</td>\n",
       "      <td>1</td>\n",
       "      <td>2019</td>\n",
       "      <td>0.00</td>\n",
       "      <td>0.00</td>\n",
       "      <td>Neutral</td>\n",
       "    </tr>\n",
       "    <tr>\n",
       "      <th>1836</th>\n",
       "      <td>7016</td>\n",
       "      <td>8214</td>\n",
       "      <td>2074</td>\n",
       "      <td>2.900990e+08</td>\n",
       "      <td>1.165411e+18</td>\n",
       "      <td>2019-08-24 23:50:38</td>\n",
       "      <td>Phemmites</td>\n",
       "      <td>Exactly why we wish we had played you guys in...</td>\n",
       "      <td>Twitter for iPhone</td>\n",
       "      <td>51.0</td>\n",
       "      <td>...</td>\n",
       "      <td>http://pbs.twimg.com/profile_images/1338595356...</td>\n",
       "      <td>1</td>\n",
       "      <td>0</td>\n",
       "      <td>0</td>\n",
       "      <td>2019-08-24</td>\n",
       "      <td>1</td>\n",
       "      <td>2019</td>\n",
       "      <td>0.25</td>\n",
       "      <td>0.25</td>\n",
       "      <td>Positive</td>\n",
       "    </tr>\n",
       "  </tbody>\n",
       "</table>\n",
       "<p>5 rows × 73 columns</p>\n",
       "</div>"
      ],
      "text/plain": [
       "      Unnamed: 0   X.1     X     user_id.x     status_id         created_at.x  \\\n",
       "1826        7006  8204  2064  9.577543e+17  1.165413e+18  2019-08-24 23:58:10   \n",
       "1827        7007  8205  2065  4.902878e+09  1.165412e+18  2019-08-24 23:55:54   \n",
       "1832        7012  8210  2070  1.009911e+18  1.165412e+18  2019-08-24 23:53:30   \n",
       "1835        7015  8213  2073  3.165832e+08  1.165412e+18  2019-08-24 23:52:40   \n",
       "1836        7016  8214  2074  2.900990e+08  1.165411e+18  2019-08-24 23:50:38   \n",
       "\n",
       "       screen_name.x                                               text  \\\n",
       "1826        moha8563                                 I really enjoy it    \n",
       "1827        NNAMDIS4                    can't you answer,  are you dump   \n",
       "1832       _dillon11        It went how you wish it went, nonsense club   \n",
       "1835  cleftchineddie                                         My striker   \n",
       "1836       Phemmites   Exactly why we wish we had played you guys in...   \n",
       "\n",
       "                source.x  display_text_width.x  ...  \\\n",
       "1826  Twitter for iPhone                  20.0  ...   \n",
       "1827     Twitter Web App                  39.0  ...   \n",
       "1832  Twitter for iPhone                  43.0  ...   \n",
       "1835  Twitter for iPhone                  10.0  ...   \n",
       "1836  Twitter for iPhone                  51.0  ...   \n",
       "\n",
       "                                    profile_image_url.y  W  L  D        date  \\\n",
       "1826  http://pbs.twimg.com/profile_images/1338595356...  1  0  0  2019-08-24   \n",
       "1827  http://pbs.twimg.com/profile_images/1338595356...  1  0  0  2019-08-24   \n",
       "1832  http://pbs.twimg.com/profile_images/1338595356...  1  0  0  2019-08-24   \n",
       "1835  http://pbs.twimg.com/profile_images/1338595356...  1  0  0  2019-08-24   \n",
       "1836  http://pbs.twimg.com/profile_images/1338595356...  1  0  0  2019-08-24   \n",
       "\n",
       "      W_true  year  Subjectivity  Polarity  Analysis  \n",
       "1826       1  2019          0.50      0.40  Positive  \n",
       "1827       1  2019          0.00      0.00   Neutral  \n",
       "1832       1  2019          0.00      0.00   Neutral  \n",
       "1835       1  2019          0.00      0.00   Neutral  \n",
       "1836       1  2019          0.25      0.25  Positive  \n",
       "\n",
       "[5 rows x 73 columns]"
      ]
     },
     "execution_count": 28,
     "metadata": {},
     "output_type": "execute_result"
    }
   ],
   "source": [
    "wins.head()"
   ]
  },
  {
   "cell_type": "markdown",
   "metadata": {},
   "source": [
    "## Create dataframe for the losses (replies in which L = 1)"
   ]
  },
  {
   "cell_type": "code",
   "execution_count": 29,
   "metadata": {},
   "outputs": [],
   "source": [
    "losses = eng.loc[(eng['L'] == 1)]"
   ]
  },
  {
   "cell_type": "code",
   "execution_count": 30,
   "metadata": {
    "scrolled": true
   },
   "outputs": [
    {
     "data": {
      "text/html": [
       "<div>\n",
       "<style scoped>\n",
       "    .dataframe tbody tr th:only-of-type {\n",
       "        vertical-align: middle;\n",
       "    }\n",
       "\n",
       "    .dataframe tbody tr th {\n",
       "        vertical-align: top;\n",
       "    }\n",
       "\n",
       "    .dataframe thead th {\n",
       "        text-align: right;\n",
       "    }\n",
       "</style>\n",
       "<table border=\"1\" class=\"dataframe\">\n",
       "  <thead>\n",
       "    <tr style=\"text-align: right;\">\n",
       "      <th></th>\n",
       "      <th>Unnamed: 0</th>\n",
       "      <th>X.1</th>\n",
       "      <th>X</th>\n",
       "      <th>user_id.x</th>\n",
       "      <th>status_id</th>\n",
       "      <th>created_at.x</th>\n",
       "      <th>screen_name.x</th>\n",
       "      <th>text</th>\n",
       "      <th>source.x</th>\n",
       "      <th>display_text_width.x</th>\n",
       "      <th>...</th>\n",
       "      <th>profile_image_url.y</th>\n",
       "      <th>W</th>\n",
       "      <th>L</th>\n",
       "      <th>D</th>\n",
       "      <th>date</th>\n",
       "      <th>W_true</th>\n",
       "      <th>year</th>\n",
       "      <th>Subjectivity</th>\n",
       "      <th>Polarity</th>\n",
       "      <th>Analysis</th>\n",
       "    </tr>\n",
       "  </thead>\n",
       "  <tbody>\n",
       "    <tr>\n",
       "      <th>0</th>\n",
       "      <td>5118</td>\n",
       "      <td>6141</td>\n",
       "      <td>1</td>\n",
       "      <td>2.468828e+09</td>\n",
       "      <td>1.161790e+18</td>\n",
       "      <td>2019-08-14 23:59:41</td>\n",
       "      <td>muttle9</td>\n",
       "      <td>4-3-3 works extremely well!</td>\n",
       "      <td>Twitter for Android</td>\n",
       "      <td>32.0</td>\n",
       "      <td>...</td>\n",
       "      <td>http://pbs.twimg.com/profile_images/1338595356...</td>\n",
       "      <td>0</td>\n",
       "      <td>1</td>\n",
       "      <td>0</td>\n",
       "      <td>2019-08-14</td>\n",
       "      <td>0</td>\n",
       "      <td>2019</td>\n",
       "      <td>1.000000</td>\n",
       "      <td>-0.15625</td>\n",
       "      <td>Negative</td>\n",
       "    </tr>\n",
       "    <tr>\n",
       "      <th>2</th>\n",
       "      <td>5120</td>\n",
       "      <td>6143</td>\n",
       "      <td>3</td>\n",
       "      <td>7.086827e+17</td>\n",
       "      <td>1.161789e+18</td>\n",
       "      <td>2019-08-14 23:58:43</td>\n",
       "      <td>amirshwki</td>\n",
       "      <td>Great game\\nKeep up\\nLove from IRAQ</td>\n",
       "      <td>Twitter for iPhone</td>\n",
       "      <td>33.0</td>\n",
       "      <td>...</td>\n",
       "      <td>http://pbs.twimg.com/profile_images/1338595356...</td>\n",
       "      <td>0</td>\n",
       "      <td>1</td>\n",
       "      <td>0</td>\n",
       "      <td>2019-08-14</td>\n",
       "      <td>0</td>\n",
       "      <td>2019</td>\n",
       "      <td>0.583333</td>\n",
       "      <td>0.30000</td>\n",
       "      <td>Positive</td>\n",
       "    </tr>\n",
       "    <tr>\n",
       "      <th>3</th>\n",
       "      <td>5121</td>\n",
       "      <td>6145</td>\n",
       "      <td>5</td>\n",
       "      <td>8.380335e+17</td>\n",
       "      <td>1.161789e+18</td>\n",
       "      <td>2019-08-14 23:58:23</td>\n",
       "      <td>pbanks5050</td>\n",
       "      <td>All day, Everyday !</td>\n",
       "      <td>Twitter for iPhone</td>\n",
       "      <td>19.0</td>\n",
       "      <td>...</td>\n",
       "      <td>http://pbs.twimg.com/profile_images/1338595356...</td>\n",
       "      <td>0</td>\n",
       "      <td>1</td>\n",
       "      <td>0</td>\n",
       "      <td>2019-08-14</td>\n",
       "      <td>0</td>\n",
       "      <td>2019</td>\n",
       "      <td>0.600000</td>\n",
       "      <td>-0.25000</td>\n",
       "      <td>Negative</td>\n",
       "    </tr>\n",
       "    <tr>\n",
       "      <th>4</th>\n",
       "      <td>5122</td>\n",
       "      <td>6146</td>\n",
       "      <td>6</td>\n",
       "      <td>1.087478e+18</td>\n",
       "      <td>1.161789e+18</td>\n",
       "      <td>2019-08-14 23:57:21</td>\n",
       "      <td>MyrtilNathanae1</td>\n",
       "      <td>I trust in Frank Lampard and it's gonna be a ...</td>\n",
       "      <td>Twitter for Android</td>\n",
       "      <td>57.0</td>\n",
       "      <td>...</td>\n",
       "      <td>http://pbs.twimg.com/profile_images/1338595356...</td>\n",
       "      <td>0</td>\n",
       "      <td>1</td>\n",
       "      <td>0</td>\n",
       "      <td>2019-08-14</td>\n",
       "      <td>0</td>\n",
       "      <td>2019</td>\n",
       "      <td>0.750000</td>\n",
       "      <td>0.80000</td>\n",
       "      <td>Positive</td>\n",
       "    </tr>\n",
       "    <tr>\n",
       "      <th>5</th>\n",
       "      <td>5123</td>\n",
       "      <td>6147</td>\n",
       "      <td>7</td>\n",
       "      <td>1.087478e+18</td>\n",
       "      <td>1.161789e+18</td>\n",
       "      <td>2019-08-14 23:56:28</td>\n",
       "      <td>MyrtilNathanae1</td>\n",
       "      <td>Great night guys just keep working and I tru...</td>\n",
       "      <td>Twitter for Android</td>\n",
       "      <td>53.0</td>\n",
       "      <td>...</td>\n",
       "      <td>http://pbs.twimg.com/profile_images/1338595356...</td>\n",
       "      <td>0</td>\n",
       "      <td>1</td>\n",
       "      <td>0</td>\n",
       "      <td>2019-08-14</td>\n",
       "      <td>0</td>\n",
       "      <td>2019</td>\n",
       "      <td>0.750000</td>\n",
       "      <td>0.80000</td>\n",
       "      <td>Positive</td>\n",
       "    </tr>\n",
       "  </tbody>\n",
       "</table>\n",
       "<p>5 rows × 73 columns</p>\n",
       "</div>"
      ],
      "text/plain": [
       "   Unnamed: 0   X.1  X     user_id.x     status_id         created_at.x  \\\n",
       "0        5118  6141  1  2.468828e+09  1.161790e+18  2019-08-14 23:59:41   \n",
       "2        5120  6143  3  7.086827e+17  1.161789e+18  2019-08-14 23:58:43   \n",
       "3        5121  6145  5  8.380335e+17  1.161789e+18  2019-08-14 23:58:23   \n",
       "4        5122  6146  6  1.087478e+18  1.161789e+18  2019-08-14 23:57:21   \n",
       "5        5123  6147  7  1.087478e+18  1.161789e+18  2019-08-14 23:56:28   \n",
       "\n",
       "     screen_name.x                                               text  \\\n",
       "0          muttle9                       4-3-3 works extremely well!    \n",
       "2        amirshwki                Great game\\nKeep up\\nLove from IRAQ   \n",
       "3       pbanks5050                                All day, Everyday !   \n",
       "4  MyrtilNathanae1   I trust in Frank Lampard and it's gonna be a ...   \n",
       "5  MyrtilNathanae1    Great night guys just keep working and I tru...   \n",
       "\n",
       "              source.x  display_text_width.x  ...  \\\n",
       "0  Twitter for Android                  32.0  ...   \n",
       "2   Twitter for iPhone                  33.0  ...   \n",
       "3   Twitter for iPhone                  19.0  ...   \n",
       "4  Twitter for Android                  57.0  ...   \n",
       "5  Twitter for Android                  53.0  ...   \n",
       "\n",
       "                                 profile_image_url.y  W  L  D        date  \\\n",
       "0  http://pbs.twimg.com/profile_images/1338595356...  0  1  0  2019-08-14   \n",
       "2  http://pbs.twimg.com/profile_images/1338595356...  0  1  0  2019-08-14   \n",
       "3  http://pbs.twimg.com/profile_images/1338595356...  0  1  0  2019-08-14   \n",
       "4  http://pbs.twimg.com/profile_images/1338595356...  0  1  0  2019-08-14   \n",
       "5  http://pbs.twimg.com/profile_images/1338595356...  0  1  0  2019-08-14   \n",
       "\n",
       "   W_true  year  Subjectivity  Polarity  Analysis  \n",
       "0       0  2019      1.000000  -0.15625  Negative  \n",
       "2       0  2019      0.583333   0.30000  Positive  \n",
       "3       0  2019      0.600000  -0.25000  Negative  \n",
       "4       0  2019      0.750000   0.80000  Positive  \n",
       "5       0  2019      0.750000   0.80000  Positive  \n",
       "\n",
       "[5 rows x 73 columns]"
      ]
     },
     "execution_count": 30,
     "metadata": {},
     "output_type": "execute_result"
    }
   ],
   "source": [
    "losses.head()"
   ]
  },
  {
   "cell_type": "code",
   "execution_count": 31,
   "metadata": {},
   "outputs": [
    {
     "data": {
      "text/plain": [
       "10880"
      ]
     },
     "execution_count": 31,
     "metadata": {},
     "output_type": "execute_result"
    }
   ],
   "source": [
    "len(losses)"
   ]
  },
  {
   "cell_type": "markdown",
   "metadata": {},
   "source": [
    "## Create dataframe for the draws (replies in which D = 1)"
   ]
  },
  {
   "cell_type": "code",
   "execution_count": 32,
   "metadata": {},
   "outputs": [],
   "source": [
    "draws = eng.loc[(eng['D'] == 1)]"
   ]
  },
  {
   "cell_type": "code",
   "execution_count": 33,
   "metadata": {
    "scrolled": true
   },
   "outputs": [
    {
     "data": {
      "text/html": [
       "<div>\n",
       "<style scoped>\n",
       "    .dataframe tbody tr th:only-of-type {\n",
       "        vertical-align: middle;\n",
       "    }\n",
       "\n",
       "    .dataframe tbody tr th {\n",
       "        vertical-align: top;\n",
       "    }\n",
       "\n",
       "    .dataframe thead th {\n",
       "        text-align: right;\n",
       "    }\n",
       "</style>\n",
       "<table border=\"1\" class=\"dataframe\">\n",
       "  <thead>\n",
       "    <tr style=\"text-align: right;\">\n",
       "      <th></th>\n",
       "      <th>Unnamed: 0</th>\n",
       "      <th>X.1</th>\n",
       "      <th>X</th>\n",
       "      <th>user_id.x</th>\n",
       "      <th>status_id</th>\n",
       "      <th>created_at.x</th>\n",
       "      <th>screen_name.x</th>\n",
       "      <th>text</th>\n",
       "      <th>source.x</th>\n",
       "      <th>display_text_width.x</th>\n",
       "      <th>...</th>\n",
       "      <th>profile_image_url.y</th>\n",
       "      <th>W</th>\n",
       "      <th>L</th>\n",
       "      <th>D</th>\n",
       "      <th>date</th>\n",
       "      <th>W_true</th>\n",
       "      <th>year</th>\n",
       "      <th>Subjectivity</th>\n",
       "      <th>Polarity</th>\n",
       "      <th>Analysis</th>\n",
       "    </tr>\n",
       "  </thead>\n",
       "  <tbody>\n",
       "    <tr>\n",
       "      <th>916</th>\n",
       "      <td>6088</td>\n",
       "      <td>7196</td>\n",
       "      <td>1056</td>\n",
       "      <td>1.138201e+18</td>\n",
       "      <td>1.163236e+18</td>\n",
       "      <td>2019-08-18 23:46:06</td>\n",
       "      <td>ArshavinAm</td>\n",
       "      <td>Is time you introduce Michy Batshuayi and sto...</td>\n",
       "      <td>Twitter Web App</td>\n",
       "      <td>129.0</td>\n",
       "      <td>...</td>\n",
       "      <td>http://pbs.twimg.com/profile_images/1338595356...</td>\n",
       "      <td>0</td>\n",
       "      <td>0</td>\n",
       "      <td>1</td>\n",
       "      <td>2019-08-18</td>\n",
       "      <td>0</td>\n",
       "      <td>2019</td>\n",
       "      <td>0.500000</td>\n",
       "      <td>0.5</td>\n",
       "      <td>Positive</td>\n",
       "    </tr>\n",
       "    <tr>\n",
       "      <th>917</th>\n",
       "      <td>6089</td>\n",
       "      <td>7197</td>\n",
       "      <td>1057</td>\n",
       "      <td>1.160279e+18</td>\n",
       "      <td>1.163239e+18</td>\n",
       "      <td>2019-08-18 23:58:40</td>\n",
       "      <td>gary85755056</td>\n",
       "      <td>Once a ram</td>\n",
       "      <td>Twitter for iPhone</td>\n",
       "      <td>12.0</td>\n",
       "      <td>...</td>\n",
       "      <td>http://pbs.twimg.com/profile_images/1338595356...</td>\n",
       "      <td>0</td>\n",
       "      <td>0</td>\n",
       "      <td>1</td>\n",
       "      <td>2019-08-18</td>\n",
       "      <td>0</td>\n",
       "      <td>2019</td>\n",
       "      <td>0.000000</td>\n",
       "      <td>0.0</td>\n",
       "      <td>Neutral</td>\n",
       "    </tr>\n",
       "    <tr>\n",
       "      <th>920</th>\n",
       "      <td>6092</td>\n",
       "      <td>7201</td>\n",
       "      <td>1061</td>\n",
       "      <td>8.704678e+17</td>\n",
       "      <td>1.163237e+18</td>\n",
       "      <td>2019-08-18 23:51:09</td>\n",
       "      <td>RoeloffsTyler</td>\n",
       "      <td>I know it was a draw, but it feels like a los...</td>\n",
       "      <td>Twitter for iPhone</td>\n",
       "      <td>75.0</td>\n",
       "      <td>...</td>\n",
       "      <td>http://pbs.twimg.com/profile_images/1338595356...</td>\n",
       "      <td>0</td>\n",
       "      <td>0</td>\n",
       "      <td>1</td>\n",
       "      <td>2019-08-18</td>\n",
       "      <td>0</td>\n",
       "      <td>2019</td>\n",
       "      <td>0.000000</td>\n",
       "      <td>0.0</td>\n",
       "      <td>Neutral</td>\n",
       "    </tr>\n",
       "    <tr>\n",
       "      <th>921</th>\n",
       "      <td>6093</td>\n",
       "      <td>7202</td>\n",
       "      <td>1062</td>\n",
       "      <td>1.142340e+18</td>\n",
       "      <td>1.163236e+18</td>\n",
       "      <td>2019-08-18 23:47:06</td>\n",
       "      <td>JSiri16</td>\n",
       "      <td>Boss Frank,You must give chanceforanother pla...</td>\n",
       "      <td>Twitter for Android</td>\n",
       "      <td>129.0</td>\n",
       "      <td>...</td>\n",
       "      <td>http://pbs.twimg.com/profile_images/1338595356...</td>\n",
       "      <td>0</td>\n",
       "      <td>0</td>\n",
       "      <td>1</td>\n",
       "      <td>2019-08-18</td>\n",
       "      <td>0</td>\n",
       "      <td>2019</td>\n",
       "      <td>0.000000</td>\n",
       "      <td>0.0</td>\n",
       "      <td>Neutral</td>\n",
       "    </tr>\n",
       "    <tr>\n",
       "      <th>922</th>\n",
       "      <td>6094</td>\n",
       "      <td>7203</td>\n",
       "      <td>1063</td>\n",
       "      <td>1.018962e+18</td>\n",
       "      <td>1.163235e+18</td>\n",
       "      <td>2019-08-18 23:43:59</td>\n",
       "      <td>gilanguage</td>\n",
       "      <td>Trust the young talents Frank, like Pep you n...</td>\n",
       "      <td>Twitter for iPhone</td>\n",
       "      <td>129.0</td>\n",
       "      <td>...</td>\n",
       "      <td>http://pbs.twimg.com/profile_images/1338595356...</td>\n",
       "      <td>0</td>\n",
       "      <td>0</td>\n",
       "      <td>1</td>\n",
       "      <td>2019-08-18</td>\n",
       "      <td>0</td>\n",
       "      <td>2019</td>\n",
       "      <td>0.333333</td>\n",
       "      <td>0.2</td>\n",
       "      <td>Positive</td>\n",
       "    </tr>\n",
       "  </tbody>\n",
       "</table>\n",
       "<p>5 rows × 73 columns</p>\n",
       "</div>"
      ],
      "text/plain": [
       "     Unnamed: 0   X.1     X     user_id.x     status_id         created_at.x  \\\n",
       "916        6088  7196  1056  1.138201e+18  1.163236e+18  2019-08-18 23:46:06   \n",
       "917        6089  7197  1057  1.160279e+18  1.163239e+18  2019-08-18 23:58:40   \n",
       "920        6092  7201  1061  8.704678e+17  1.163237e+18  2019-08-18 23:51:09   \n",
       "921        6093  7202  1062  1.142340e+18  1.163236e+18  2019-08-18 23:47:06   \n",
       "922        6094  7203  1063  1.018962e+18  1.163235e+18  2019-08-18 23:43:59   \n",
       "\n",
       "     screen_name.x                                               text  \\\n",
       "916     ArshavinAm   Is time you introduce Michy Batshuayi and sto...   \n",
       "917   gary85755056                                        Once a ram    \n",
       "920  RoeloffsTyler   I know it was a draw, but it feels like a los...   \n",
       "921        JSiri16   Boss Frank,You must give chanceforanother pla...   \n",
       "922     gilanguage   Trust the young talents Frank, like Pep you n...   \n",
       "\n",
       "                source.x  display_text_width.x  ...  \\\n",
       "916      Twitter Web App                 129.0  ...   \n",
       "917   Twitter for iPhone                  12.0  ...   \n",
       "920   Twitter for iPhone                  75.0  ...   \n",
       "921  Twitter for Android                 129.0  ...   \n",
       "922   Twitter for iPhone                 129.0  ...   \n",
       "\n",
       "                                   profile_image_url.y  W  L  D        date  \\\n",
       "916  http://pbs.twimg.com/profile_images/1338595356...  0  0  1  2019-08-18   \n",
       "917  http://pbs.twimg.com/profile_images/1338595356...  0  0  1  2019-08-18   \n",
       "920  http://pbs.twimg.com/profile_images/1338595356...  0  0  1  2019-08-18   \n",
       "921  http://pbs.twimg.com/profile_images/1338595356...  0  0  1  2019-08-18   \n",
       "922  http://pbs.twimg.com/profile_images/1338595356...  0  0  1  2019-08-18   \n",
       "\n",
       "     W_true  year  Subjectivity  Polarity  Analysis  \n",
       "916       0  2019      0.500000       0.5  Positive  \n",
       "917       0  2019      0.000000       0.0   Neutral  \n",
       "920       0  2019      0.000000       0.0   Neutral  \n",
       "921       0  2019      0.000000       0.0   Neutral  \n",
       "922       0  2019      0.333333       0.2  Positive  \n",
       "\n",
       "[5 rows x 73 columns]"
      ]
     },
     "execution_count": 33,
     "metadata": {},
     "output_type": "execute_result"
    }
   ],
   "source": [
    "draws.head()"
   ]
  },
  {
   "cell_type": "code",
   "execution_count": 34,
   "metadata": {},
   "outputs": [
    {
     "data": {
      "text/plain": [
       "9689"
      ]
     },
     "execution_count": 34,
     "metadata": {},
     "output_type": "execute_result"
    }
   ],
   "source": [
    "len(draws)"
   ]
  },
  {
   "cell_type": "markdown",
   "metadata": {},
   "source": [
    "# 3. Running Preliminary Sentiment on each Dataframe (Wins/Losses/Draws) "
   ]
  },
  {
   "cell_type": "markdown",
   "metadata": {},
   "source": [
    "## Run sentiment for the wins"
   ]
  },
  {
   "cell_type": "code",
   "execution_count": 35,
   "metadata": {},
   "outputs": [
    {
     "data": {
      "image/png": "[encoded data removed]",
      "text/plain": [
       "<Figure size 432x288 with 1 Axes>"
      ]
     },
     "metadata": {},
     "output_type": "display_data"
    }
   ],
   "source": [
    "# Plotting and visualizing the counts of sentiment values\n",
    "plt.title('Sentiment Analysis')\n",
    "plt.xlabel('Sentiment')\n",
    "plt.ylabel('Counts')\n",
    "wins['Analysis'].value_counts().plot(kind = 'bar')\n",
    "plt.show()"
   ]
  },
  {
   "cell_type": "code",
   "execution_count": 36,
   "metadata": {},
   "outputs": [
    {
     "data": {
      "text/plain": [
       "50.3"
      ]
     },
     "execution_count": 36,
     "metadata": {},
     "output_type": "execute_result"
    }
   ],
   "source": [
    "# Print the percentage of neutral tweets\n",
    "nutweets = wins[wins.Analysis == 'Neutral']\n",
    "nutweets = nutweets['text']\n",
    "nutweets\n",
    "\n",
    "round( (nutweets.shape[0] / wins.shape[0]) * 100 , 1)"
   ]
  },
  {
   "cell_type": "code",
   "execution_count": 37,
   "metadata": {},
   "outputs": [
    {
     "data": {
      "text/plain": [
       "39.0"
      ]
     },
     "execution_count": 37,
     "metadata": {},
     "output_type": "execute_result"
    }
   ],
   "source": [
    "# Print the percentage of positive tweets\n",
    "ptweets = wins[wins.Analysis == 'Positive']\n",
    "ptweets = ptweets['text']\n",
    "ptweets\n",
    "\n",
    "round( (ptweets.shape[0] / wins.shape[0]) * 100 , 1)"
   ]
  },
  {
   "cell_type": "code",
   "execution_count": 38,
   "metadata": {},
   "outputs": [
    {
     "data": {
      "text/plain": [
       "10.7"
      ]
     },
     "execution_count": 38,
     "metadata": {},
     "output_type": "execute_result"
    }
   ],
   "source": [
    "# Print the percentage of negative tweets\n",
    "ntweets = wins[wins.Analysis == 'Negative']\n",
    "ntweets = ntweets['text']\n",
    "ntweets\n",
    "\n",
    "round( (ntweets.shape[0] / wins.shape[0]) * 100, 1)"
   ]
  },
  {
   "cell_type": "markdown",
   "metadata": {},
   "source": [
    "## Word Cloud for Wins"
   ]
  },
  {
   "cell_type": "code",
   "execution_count": 93,
   "metadata": {},
   "outputs": [],
   "source": [
    "# testing global parameters\n",
    "from nltk.corpus import stopwords\n",
    "from nltk.tokenize import word_tokenize"
   ]
  },
  {
   "cell_type": "code",
   "execution_count": 94,
   "metadata": {},
   "outputs": [],
   "source": [
    "# Create stopword list:\n",
    "# Global Parameters\n",
    "stopwords = set(stopwords.words('english'))\n",
    "wins_text = \" \".join(review for review in wins.text)"
   ]
  },
  {
   "cell_type": "code",
   "execution_count": 97,
   "metadata": {},
   "outputs": [
    {
     "name": "stderr",
     "output_type": "stream",
     "text": [
      "[nltk_data] Downloading package stopwords to\n",
      "[nltk_data]     C:\\Users\\rache\\AppData\\Roaming\\nltk_data...\n",
      "[nltk_data]   Package stopwords is already up-to-date!\n"
     ]
    }
   ],
   "source": [
    "import matplotlib.pyplot as plt\n",
    "import nltk # Natural Language ToolKit\n",
    "nltk.download('stopwords')\n",
    "from nltk.corpus import stopwords"
   ]
  },
  {
   "cell_type": "code",
   "execution_count": 101,
   "metadata": {},
   "outputs": [],
   "source": [
    "stop_words = stopwords.words('english') \n",
    "new_stopwords = [\"Chelsea\"]\n",
    "stop_words.extend(new_stopwords)\n",
    "stop_words = set(stop_words)"
   ]
  },
  {
   "cell_type": "code",
   "execution_count": 102,
   "metadata": {},
   "outputs": [],
   "source": [
    "wins_wordcloud = WordCloud(stopwords=stop_words).generate(wins_text)"
   ]
  },
  {
   "cell_type": "code",
   "execution_count": 103,
   "metadata": {},
   "outputs": [
    {
     "data": {
      "image/png": "[encoded data removed]",
      "text/plain": [
       "<Figure size 432x288 with 1 Axes>"
      ]
     },
     "metadata": {},
     "output_type": "display_data"
    }
   ],
   "source": [
    "plt.imshow(wins_wordcloud, interpolation='bilinear')\n",
    "plt.axis(\"off\")\n",
    "plt.savefig('wins_wordcloud.png')\n",
    "plt.show()"
   ]
  },
  {
   "cell_type": "markdown",
   "metadata": {},
   "source": [
    "## Run sentiment for the losses"
   ]
  },
  {
   "cell_type": "code",
   "execution_count": 43,
   "metadata": {
    "scrolled": true
   },
   "outputs": [
    {
     "data": {
      "image/png": "[encoded data removed]",
      "text/plain": [
       "<Figure size 432x288 with 1 Axes>"
      ]
     },
     "metadata": {},
     "output_type": "display_data"
    }
   ],
   "source": [
    "# Plotting and visualizing the counts of sentiment values\n",
    "plt.title('Sentiment Analysis')\n",
    "plt.xlabel('Sentiment')\n",
    "plt.ylabel('Counts')\n",
    "losses['Analysis'].value_counts().plot(kind = 'bar')\n",
    "plt.show()"
   ]
  },
  {
   "cell_type": "code",
   "execution_count": 44,
   "metadata": {},
   "outputs": [
    {
     "data": {
      "text/plain": [
       "37.6"
      ]
     },
     "execution_count": 44,
     "metadata": {},
     "output_type": "execute_result"
    }
   ],
   "source": [
    "# Print the percentage of neutral tweets\n",
    "nutweets = losses[losses.Analysis == 'Neutral']\n",
    "nutweets = nutweets['text']\n",
    "nutweets\n",
    "8\n",
    "round( (nutweets.shape[0] / losses.shape[0]) * 100 , 1)"
   ]
  },
  {
   "cell_type": "code",
   "execution_count": 45,
   "metadata": {},
   "outputs": [
    {
     "data": {
      "text/plain": [
       "35.6"
      ]
     },
     "execution_count": 45,
     "metadata": {},
     "output_type": "execute_result"
    }
   ],
   "source": [
    "# Print the percentage of positive tweets\n",
    "ptweets = losses[losses.Analysis == 'Positive']\n",
    "ptweets = ptweets['text']\n",
    "ptweets\n",
    "\n",
    "round( (ptweets.shape[0] / losses.shape[0]) * 100 , 1)"
   ]
  },
  {
   "cell_type": "code",
   "execution_count": 46,
   "metadata": {},
   "outputs": [
    {
     "data": {
      "text/plain": [
       "26.8"
      ]
     },
     "execution_count": 46,
     "metadata": {},
     "output_type": "execute_result"
    }
   ],
   "source": [
    "# Print the percentage of negative tweets\n",
    "ntweets = losses[losses.Analysis == 'Negative']\n",
    "ntweets = ntweets['text']\n",
    "ntweets\n",
    "\n",
    "round( (ntweets.shape[0] / losses.shape[0]) * 100, 1)"
   ]
  },
  {
   "cell_type": "markdown",
   "metadata": {},
   "source": [
    "### Losses Word Cloud"
   ]
  },
  {
   "cell_type": "code",
   "execution_count": 104,
   "metadata": {},
   "outputs": [],
   "source": [
    "# Create stopword list:\n",
    "# Global Parameters\n",
    "stop_words = set(stopwords.words('english'))\n",
    "losses_text = \" \".join(review for review in losses.text)"
   ]
  },
  {
   "cell_type": "code",
   "execution_count": 105,
   "metadata": {},
   "outputs": [],
   "source": [
    "stop_words = stopwords.words('english') \n",
    "new_stopwords = [\"Chelsea\"]\n",
    "stop_words.extend(new_stopwords)\n",
    "stop_words = set(stop_words)"
   ]
  },
  {
   "cell_type": "code",
   "execution_count": 106,
   "metadata": {},
   "outputs": [],
   "source": [
    "losses_wordcloud = WordCloud(stopwords=stop_words).generate(losses_text)"
   ]
  },
  {
   "cell_type": "code",
   "execution_count": 107,
   "metadata": {},
   "outputs": [
    {
     "data": {
      "image/png": "[encoded data removed]",
      "text/plain": [
       "<Figure size 432x288 with 1 Axes>"
      ]
     },
     "metadata": {},
     "output_type": "display_data"
    }
   ],
   "source": [
    "plt.imshow(losses_wordcloud, interpolation='bilinear')\n",
    "plt.axis(\"off\")\n",
    "plt.savefig('losses_wordcloud.png')\n",
    "plt.show()"
   ]
  },
  {
   "cell_type": "markdown",
   "metadata": {},
   "source": [
    "## Run sentiment on the draws"
   ]
  },
  {
   "cell_type": "code",
   "execution_count": 50,
   "metadata": {
    "scrolled": false
   },
   "outputs": [
    {
     "data": {
      "image/png": "[encoded data removed]",
      "text/plain": [
       "<Figure size 432x288 with 1 Axes>"
      ]
     },
     "metadata": {},
     "output_type": "display_data"
    }
   ],
   "source": [
    "# Plotting and visualizing the counts of sentiment values\n",
    "plt.title('Sentiment Analysis')\n",
    "plt.xlabel('Sentiment')\n",
    "plt.ylabel('Counts')\n",
    "draws['Analysis'].value_counts().plot(kind = 'bar')\n",
    "plt.show()"
   ]
  },
  {
   "cell_type": "code",
   "execution_count": 51,
   "metadata": {},
   "outputs": [
    {
     "data": {
      "text/plain": [
       "41.5"
      ]
     },
     "execution_count": 51,
     "metadata": {},
     "output_type": "execute_result"
    }
   ],
   "source": [
    "# Print the percentage of neutral tweets\n",
    "nutweets = draws[draws.Analysis == 'Neutral']\n",
    "nutweets = nutweets['text']\n",
    "nutweets\n",
    "\n",
    "round( (nutweets.shape[0] / draws.shape[0]) * 100 , 1)"
   ]
  },
  {
   "cell_type": "code",
   "execution_count": 52,
   "metadata": {},
   "outputs": [
    {
     "data": {
      "text/plain": [
       "38.1"
      ]
     },
     "execution_count": 52,
     "metadata": {},
     "output_type": "execute_result"
    }
   ],
   "source": [
    "# Print the percentage of positive tweets\n",
    "ptweets = draws[draws.Analysis == 'Positive']\n",
    "ptweets = ptweets['text']\n",
    "ptweets\n",
    "\n",
    "round( (ptweets.shape[0] / draws.shape[0]) * 100 , 1)"
   ]
  },
  {
   "cell_type": "code",
   "execution_count": 53,
   "metadata": {},
   "outputs": [
    {
     "data": {
      "text/plain": [
       "20.4"
      ]
     },
     "execution_count": 53,
     "metadata": {},
     "output_type": "execute_result"
    }
   ],
   "source": [
    "# Print the percentage of negative tweets\n",
    "ntweets = draws[draws.Analysis == 'Negative']\n",
    "ntweets = ntweets['text']\n",
    "ntweets\n",
    "\n",
    "round( (ntweets.shape[0] / draws.shape[0]) * 100, 1)"
   ]
  },
  {
   "cell_type": "markdown",
   "metadata": {},
   "source": [
    "### Draws Word Cloud"
   ]
  },
  {
   "cell_type": "code",
   "execution_count": 54,
   "metadata": {},
   "outputs": [],
   "source": [
    "# Create stopword list:\n",
    "# Global Parameters\n",
    "stop_words = set(stopwords.words('english'))\n",
    "draws_text = \" \".join(review for review in draws.text)"
   ]
  },
  {
   "cell_type": "code",
   "execution_count": 108,
   "metadata": {},
   "outputs": [],
   "source": [
    "stop_words = stopwords.words('english') \n",
    "new_stopwords = [\"Chelsea\"]\n",
    "stop_words.extend(new_stopwords)\n",
    "stop_words = set(stop_words)"
   ]
  },
  {
   "cell_type": "code",
   "execution_count": 109,
   "metadata": {},
   "outputs": [],
   "source": [
    "draws_wordcloud = WordCloud(stopwords=stop_words).generate(draws_text)"
   ]
  },
  {
   "cell_type": "code",
   "execution_count": 110,
   "metadata": {},
   "outputs": [
    {
     "data": {
      "image/png": "[encoded data removed]",
      "text/plain": [
       "<Figure size 432x288 with 1 Axes>"
      ]
     },
     "metadata": {},
     "output_type": "display_data"
    }
   ],
   "source": [
    "plt.imshow(draws_wordcloud, interpolation='bilinear')\n",
    "plt.axis(\"off\")\n",
    "plt.savefig('draws_wordcloud.png')\n",
    "plt.show()"
   ]
  },
  {
   "cell_type": "markdown",
   "metadata": {},
   "source": [
    "# 5. Create new dataframes for:\n",
    "- Positive tweets\n",
    "- Negative tweets\n",
    "- Neutral tweets"
   ]
  },
  {
   "cell_type": "markdown",
   "metadata": {},
   "source": [
    "## Positive tweets (where eng['Analysis'] == 'Positive')"
   ]
  },
  {
   "cell_type": "code",
   "execution_count": 61,
   "metadata": {},
   "outputs": [],
   "source": [
    "positive = eng.loc[(eng['Analysis'] == 'Positive')]"
   ]
  },
  {
   "cell_type": "code",
   "execution_count": 63,
   "metadata": {},
   "outputs": [
    {
     "data": {
      "text/plain": [
       "12144"
      ]
     },
     "execution_count": 63,
     "metadata": {},
     "output_type": "execute_result"
    }
   ],
   "source": [
    "len(positive)"
   ]
  },
  {
   "cell_type": "markdown",
   "metadata": {},
   "source": [
    "## Negative tweets (where eng['Analysis'] == 'Negative')"
   ]
  },
  {
   "cell_type": "code",
   "execution_count": 64,
   "metadata": {},
   "outputs": [],
   "source": [
    "negative = eng.loc[(eng['Analysis'] == 'Negative')]"
   ]
  },
  {
   "cell_type": "code",
   "execution_count": 65,
   "metadata": {},
   "outputs": [
    {
     "data": {
      "text/plain": [
       "6150"
      ]
     },
     "execution_count": 65,
     "metadata": {},
     "output_type": "execute_result"
    }
   ],
   "source": [
    "len(negative)"
   ]
  },
  {
   "cell_type": "markdown",
   "metadata": {},
   "source": [
    "## Neutral tweets (where eng['Analysis'] == 'Neutral')"
   ]
  },
  {
   "cell_type": "code",
   "execution_count": 66,
   "metadata": {},
   "outputs": [],
   "source": [
    "neutral = eng.loc[(eng['Analysis'] == 'Neutral')]"
   ]
  },
  {
   "cell_type": "code",
   "execution_count": 67,
   "metadata": {},
   "outputs": [
    {
     "data": {
      "text/plain": [
       "14028"
      ]
     },
     "execution_count": 67,
     "metadata": {},
     "output_type": "execute_result"
    }
   ],
   "source": [
    "len(neutral)"
   ]
  },
  {
   "cell_type": "markdown",
   "metadata": {},
   "source": [
    "### Export several dataframes into CSV files:"
   ]
  },
  {
   "cell_type": "code",
   "execution_count": 57,
   "metadata": {},
   "outputs": [],
   "source": [
    "# export eng dataframe as CSV\n",
    "eng.to_csv('english_replies.csv')"
   ]
  },
  {
   "cell_type": "code",
   "execution_count": 58,
   "metadata": {},
   "outputs": [],
   "source": [
    "# export wins dataframe as CSV\n",
    "wins.to_csv('wins.csv')"
   ]
  },
  {
   "cell_type": "code",
   "execution_count": 59,
   "metadata": {},
   "outputs": [],
   "source": [
    "# export losses dataframe as CSV\n",
    "losses.to_csv('losses.csv')"
   ]
  },
  {
   "cell_type": "code",
   "execution_count": 60,
   "metadata": {},
   "outputs": [],
   "source": [
    "# export draws dataframe as CSV\n",
    "draws.to_csv('draws.csv')"
   ]
  },
  {
   "cell_type": "code",
   "execution_count": 68,
   "metadata": {},
   "outputs": [],
   "source": [
    "# export positive, negative, and neutral dataframes to CSV\n",
    "positive.to_csv('positive.csv')\n",
    "negative.to_csv('negative.csv')\n",
    "neutral.to_csv('neutral.csv')"
   ]
  }
 ],
 "metadata": {
  "kernelspec": {
   "display_name": "Python 3",
   "language": "python",
   "name": "python3"
  },
  "language_info": {
   "codemirror_mode": {
    "name": "ipython",
    "version": 3
   },
   "file_extension": ".py",
   "mimetype": "text/x-python",
   "name": "python",
   "nbconvert_exporter": "python",
   "pygments_lexer": "ipython3",
   "version": "3.8.5"
  }
 },
 "nbformat": 4,
 "nbformat_minor": 4
}
